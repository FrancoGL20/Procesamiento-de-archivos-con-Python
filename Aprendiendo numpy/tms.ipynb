{
 "cells": [
  {
   "cell_type": "code",
   "execution_count": 9,
   "metadata": {},
   "outputs": [],
   "source": [
    "import pandas as pd\n",
    "import unidecode"
   ]
  },
  {
   "cell_type": "code",
   "execution_count": 13,
   "metadata": {},
   "outputs": [
    {
     "name": "stdout",
     "output_type": "stream",
     "text": [
      "New:\n",
      "    num._economico tractor_code tractor_name        permiso_transporte  \\\n",
      "0             215       PH-215  215 THORTON  0042TSU23052011021001000   \n",
      "1             216       PH-216  216 THORTON  0042TSU23052011021001000   \n",
      "2             217       PH-217  217 THORTON  0042TSU23052011021001000   \n",
      "3             218       PH-218  218 THORTON  0042TSU23052011021001000   \n",
      "4             219       PH-219  219 THORTON  0042TSU23052011021001000   \n",
      "\n",
      "  aseguradora     poliza tipo_vehiculo   placa  modelo  \n",
      "0    QUÁLITAS  830328263       THORTON  19AU2K    2017  \n",
      "1    QUÁLITAS  830328263       THORTON  18AU2K    2017  \n",
      "2    QUÁLITAS  830328263       THORTON  17AU2K    2017  \n",
      "3    QUÁLITAS  830328263       THORTON  16AU2K    2017  \n",
      "4    QUÁLITAS  830328263       THORTON  95AY9P    2017  \n",
      "\n"
     ]
    }
   ],
   "source": [
    "tractors=pd.read_csv('data/Tractors.csv',dtype={'POLIZA':object})\n",
    "# print(\"Original:\\n\",tractors.head())\n",
    "\n",
    "# Eliminar las columnas que no se van a utilizar\n",
    "tractors=tractors.drop(['SEGMENTO','expiration date','TIPO_REMOLQUE','PLACA_REMOLQUE'],axis=1)\n",
    "\n",
    "tractors.columns=[unidecode.unidecode(x.lower().replace(\" \",\"_\")) for x in tractors.columns]\n",
    "\n",
    "print(\"New:\\n\",tractors.head(),end='\\n\\n')\n",
    "# tractors.rename(columns={'NÚM. ECONÓMICO':'NUM_ECON'},inplace=True)\n",
    "# tractors.rename(columns={'PLACA':'PLACAS'},inplace=True)\n",
    "# print(tractors.dtypes)\n",
    "\n",
    "# def sumarCincuenta(x):\n",
    "#     return x+50\n",
    "\n",
    "# tractors['MODELO']=sumarCincuenta(tractors['MODELO'])\n",
    "# print(\"New:\\n\",tractors.head(),end='\\n\\n')"
   ]
  }
 ],
 "metadata": {
  "kernelspec": {
   "display_name": "Python 3",
   "language": "python",
   "name": "python3"
  },
  "language_info": {
   "codemirror_mode": {
    "name": "ipython",
    "version": 3
   },
   "file_extension": ".py",
   "mimetype": "text/x-python",
   "name": "python",
   "nbconvert_exporter": "python",
   "pygments_lexer": "ipython3",
   "version": "3.11.5"
  },
  "orig_nbformat": 4
 },
 "nbformat": 4,
 "nbformat_minor": 2
}
