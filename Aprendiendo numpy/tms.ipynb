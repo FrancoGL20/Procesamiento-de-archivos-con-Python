{
 "cells": [
  {
   "cell_type": "code",
   "execution_count": 3,
   "metadata": {},
   "outputs": [],
   "source": [
    "import pandas as pd"
   ]
  },
  {
   "cell_type": "code",
   "execution_count": 69,
   "metadata": {},
   "outputs": [
    {
     "name": "stdout",
     "output_type": "stream",
     "text": [
      "New:\n",
      "    NÚM. ECONÓMICO tractor code tractor name        PERMISO_TRANSPORTE  \\\n",
      "0             215       PH-215  215 THORTON  0042TSU23052011021001000   \n",
      "1             216       PH-216  216 THORTON  0042TSU23052011021001000   \n",
      "2             217       PH-217  217 THORTON  0042TSU23052011021001000   \n",
      "3             218       PH-218  218 THORTON  0042TSU23052011021001000   \n",
      "4             219       PH-219  219 THORTON  0042TSU23052011021001000   \n",
      "\n",
      "  ASEGURADORA     POLIZA TIPO_VEHICULO   PLACA  MODELO  \n",
      "0    QUALITAS  830328263       THORTON  19AU2K    2017  \n",
      "1    QUALITAS  830328263       THORTON  18AU2K    2017  \n",
      "2    QUALITAS  830328263       THORTON  17AU2K    2017  \n",
      "3    QUALITAS  830328263       THORTON  16AU2K    2017  \n",
      "4    QUALITAS  830328263       THORTON  95AY9P    2017  \n",
      "\n",
      "NUM_ECON               int64\n",
      "tractor code          object\n",
      "tractor name          object\n",
      "PERMISO_TRANSPORTE    object\n",
      "ASEGURADORA           object\n",
      "POLIZA                object\n",
      "TIPO_VEHICULO         object\n",
      "PLACAS                object\n",
      "MODELO                 int64\n",
      "dtype: object\n",
      "New:\n",
      "    NUM_ECON tractor code tractor name        PERMISO_TRANSPORTE ASEGURADORA  \\\n",
      "0       215       PH-215  215 THORTON  0042TSU23052011021001000    QUALITAS   \n",
      "1       216       PH-216  216 THORTON  0042TSU23052011021001000    QUALITAS   \n",
      "2       217       PH-217  217 THORTON  0042TSU23052011021001000    QUALITAS   \n",
      "3       218       PH-218  218 THORTON  0042TSU23052011021001000    QUALITAS   \n",
      "4       219       PH-219  219 THORTON  0042TSU23052011021001000    QUALITAS   \n",
      "\n",
      "      POLIZA TIPO_VEHICULO  PLACAS  MODELO  \n",
      "0  830328263       THORTON  19AU2K    2067  \n",
      "1  830328263       THORTON  18AU2K    2067  \n",
      "2  830328263       THORTON  17AU2K    2067  \n",
      "3  830328263       THORTON  16AU2K    2067  \n",
      "4  830328263       THORTON  95AY9P    2067  \n",
      "\n"
     ]
    }
   ],
   "source": [
    "tractors=pd.read_csv('data/Tractors.csv',dtype={'POLIZA':object})\n",
    "# print(\"Original:\\n\",tractors.head())\n",
    "\n",
    "tractors=tractors.drop(['SEGMENTO','expiration date','TIPO_REMOLQUE','PLACA_REMOLQUE'],axis=1)\n",
    "tractors['ASEGURADORA'].replace(\"Á\",\"A\",regex=True,inplace=True)\n",
    "print(\"New:\\n\",tractors.head(),end='\\n\\n')\n",
    "tractors.rename(columns={'NÚM. ECONÓMICO':'NUM_ECON'},inplace=True)\n",
    "tractors.rename(columns={'PLACA':'PLACAS'},inplace=True)\n",
    "print(tractors.dtypes)\n",
    "\n",
    "def sumarCincuenta(x):\n",
    "    return x+50\n",
    "\n",
    "tractors['MODELO']=sumarCincuenta(tractors['MODELO'])\n",
    "print(\"New:\\n\",tractors.head(),end='\\n\\n')"
   ]
  }
 ],
 "metadata": {
  "kernelspec": {
   "display_name": "Python 3",
   "language": "python",
   "name": "python3"
  },
  "language_info": {
   "codemirror_mode": {
    "name": "ipython",
    "version": 3
   },
   "file_extension": ".py",
   "mimetype": "text/x-python",
   "name": "python",
   "nbconvert_exporter": "python",
   "pygments_lexer": "ipython3",
   "version": "3.11.5"
  },
  "orig_nbformat": 4
 },
 "nbformat": 4,
 "nbformat_minor": 2
}
