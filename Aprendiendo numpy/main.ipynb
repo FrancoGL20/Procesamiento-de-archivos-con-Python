{
 "cells": [
  {
   "cell_type": "code",
   "execution_count": 2,
   "metadata": {},
   "outputs": [],
   "source": [
    "import numpy as np\n",
    "\n",
    "import pandas as pd"
   ]
  },
  {
   "cell_type": "code",
   "execution_count": 3,
   "metadata": {},
   "outputs": [],
   "source": [
    "index = pd.date_range(\"1/1/2000\", periods=8)\n",
    "\n",
    "s = pd.Series(np.random.randn(5), index=[\"a\", \"b\", \"c\", \"d\", \"e\"])\n",
    "\n",
    "df = pd.DataFrame(np.random.randn(8, 3), index=index, columns=[\"A\", \"B\", \"C\"])\n",
    "\n",
    "df = pd.DataFrame(\n",
    "    {\n",
    "        \"one\": pd.Series(np.random.randn(3), index=[\"a\", \"b\", \"c\"]),\n",
    "        \"two\": pd.Series(np.random.randn(4), index=[\"a\", \"b\", \"c\", \"d\"]),\n",
    "        \"three\": pd.Series(np.random.randn(3), index=[\"b\", \"c\", \"d\"]),\n",
    "    }\n",
    ")"
   ]
  },
  {
   "cell_type": "code",
   "execution_count": 7,
   "metadata": {},
   "outputs": [
    {
     "name": "stdout",
     "output_type": "stream",
     "text": [
      "   D  B  E  A\n",
      "1  1  2  3  4\n",
      "2  6  7  8  9\n",
      "     A    B    C    D\n",
      "2   10   20   30   40\n",
      "3   60   70   80   90\n",
      "4  600  700  800  900\n"
     ]
    }
   ],
   "source": [
    "df = pd.DataFrame(\n",
    "    [[1, 2, 3, 4], [6, 7, 8, 9]], columns=[\"D\", \"B\", \"E\", \"A\"], index=[1, 2]\n",
    ")\n",
    "\n",
    "other = pd.DataFrame(\n",
    "    [[10, 20, 30, 40], [60, 70, 80, 90], [600, 700, 800, 900]],\n",
    "    columns=[\"A\", \"B\", \"C\", \"D\"],\n",
    "    index=[2, 3, 4],\n",
    ")\n",
    "\n",
    "print(df)\n",
    "#    D  B  E  A\n",
    "# 1  1  2  3  4\n",
    "# 2  6  7  8  9\n",
    "\n",
    "print(other)\n",
    "#     A    B    C    D\n",
    "# 2   10   20   30   40\n",
    "# 3   60   70   80   90\n",
    "# 4  600  700  800  900"
   ]
  },
  {
   "cell_type": "code",
   "execution_count": 8,
   "metadata": {},
   "outputs": [
    {
     "name": "stdout",
     "output_type": "stream",
     "text": [
      "   A  B   C  D  E\n",
      "1  4  2 NaN  1  3\n",
      "2  9  7 NaN  6  8\n",
      "     A    B    C    D   E\n",
      "2   10   20   30   40 NaN\n",
      "3   60   70   80   90 NaN\n",
      "4  600  700  800  900 NaN\n"
     ]
    }
   ],
   "source": [
    "left, right = df.align(other, join=\"outer\", axis=1)\n",
    "print(left)\n",
    "#    A  B   C  D  E\n",
    "# 1  4  2 NaN  1  3\n",
    "# 2  9  7 NaN  6  8\n",
    "print(right)\n",
    "#     A    B    C    D   E\n",
    "# 2   10   20   30   40 NaN\n",
    "# 3   60   70   80   90 NaN\n",
    "# 4  600  700  800  900 NaN"
   ]
  },
  {
   "cell_type": "code",
   "execution_count": 10,
   "metadata": {},
   "outputs": [
    {
     "name": "stdout",
     "output_type": "stream",
     "text": [
      "     D    B    E    A\n",
      "1  1.0  2.0  3.0  4.0\n",
      "2  6.0  7.0  8.0  9.0\n",
      "3  NaN  NaN  NaN  NaN\n",
      "4  NaN  NaN  NaN  NaN\n",
      "       A      B      C      D\n",
      "1    NaN    NaN    NaN    NaN\n",
      "2   10.0   20.0   30.0   40.0\n",
      "3   60.0   70.0   80.0   90.0\n",
      "4  600.0  700.0  800.0  900.0\n"
     ]
    }
   ],
   "source": [
    "left, right = df.align(other, join=\"outer\", axis=0)\n",
    "print(left)\n",
    "#     D    B    E    A\n",
    "# 1  1.0  2.0  3.0  4.0\n",
    "# 2  6.0  7.0  8.0  9.0\n",
    "# 3  NaN  NaN  NaN  NaN\n",
    "# 4  NaN  NaN  NaN  NaN\n",
    "print(right)\n",
    "#     A      B      C      D\n",
    "# 1    NaN    NaN    NaN    NaN\n",
    "# 2   10.0   20.0   30.0   40.0\n",
    "# 3   60.0   70.0   80.0   90.0\n",
    "# 4  600.0  700.0  800.0  900.0"
   ]
  },
  {
   "cell_type": "code",
   "execution_count": null,
   "metadata": {},
   "outputs": [],
   "source": [
    "left, right = df.align(other, join=\"outer\", axis=None)\n",
    "\n",
    "print(left)\n",
    "#      A    B   C    D    E\n",
    "# 1  4.0  2.0 NaN  1.0  3.0\n",
    "# 2  9.0  7.0 NaN  6.0  8.0\n",
    "# 3  NaN  NaN NaN  NaN  NaN\n",
    "# 4  NaN  NaN NaN  NaN  NaN\n",
    "\n",
    "print(right)\n",
    "#        A      B      C      D   E\n",
    "# 1    NaN    NaN    NaN    NaN NaN\n",
    "# 2   10.0   20.0   30.0   40.0 NaN\n",
    "# 3   60.0   70.0   80.0   90.0 NaN\n",
    "# 4  600.0  700.0  800.0  900.0 NaN"
   ]
  }
 ],
 "metadata": {
  "kernelspec": {
   "display_name": "myenv",
   "language": "python",
   "name": "python3"
  },
  "language_info": {
   "codemirror_mode": {
    "name": "ipython",
    "version": 3
   },
   "file_extension": ".py",
   "mimetype": "text/x-python",
   "name": "python",
   "nbconvert_exporter": "python",
   "pygments_lexer": "ipython3",
   "version": "3.11.5"
  },
  "orig_nbformat": 4
 },
 "nbformat": 4,
 "nbformat_minor": 2
}
