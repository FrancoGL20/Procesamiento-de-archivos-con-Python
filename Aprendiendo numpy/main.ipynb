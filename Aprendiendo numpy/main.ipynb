{
 "cells": [
  {
   "cell_type": "code",
   "execution_count": 2,
   "metadata": {},
   "outputs": [],
   "source": [
    "import numpy as np"
   ]
  },
  {
   "cell_type": "code",
   "execution_count": 3,
   "metadata": {},
   "outputs": [
    {
     "name": "stdout",
     "output_type": "stream",
     "text": [
      "[1 2 3 4 5 6]\n"
     ]
    }
   ],
   "source": [
    "# Crear dos arrays unidimensionales\n",
    "arr1 = np.array([1, 2, 3])\n",
    "arr2 = np.array([4, 5, 6])\n",
    "\n",
    "# Concatenar los dos arrays unidimensionales\n",
    "concatenated_arr = np.concatenate((arr1, arr2))\n",
    "print(concatenated_arr)\n",
    "# Salida: [1 2 3 4 5 6]\n"
   ]
  },
  {
   "cell_type": "code",
   "execution_count": 4,
   "metadata": {},
   "outputs": [
    {
     "name": "stdout",
     "output_type": "stream",
     "text": [
      "[[1 2]\n",
      " [3 4]\n",
      " [5 6]]\n",
      "[[1 2 5]\n",
      " [3 4 6]]\n",
      "[1 2 3 4 5 6]\n"
     ]
    }
   ],
   "source": [
    "a = np.array([[1, 2], [3, 4]])\n",
    "b = np.array([[5, 6]])\n",
    "print(np.concatenate((a, b), axis=0))\n",
    "# array([[1, 2],\n",
    "#        [3, 4],\n",
    "#        [5, 6]])\n",
    "print(np.concatenate((a, b.T), axis=1))\n",
    "# array([[1, 2, 5],\n",
    "#        [3, 4, 6]])\n",
    "print(np.concatenate((a, b), axis=None))\n",
    "# array([1, 2, 3, 4, 5, 6])"
   ]
  },
  {
   "cell_type": "code",
   "execution_count": 16,
   "metadata": {},
   "outputs": [
    {
     "name": "stdout",
     "output_type": "stream",
     "text": [
      "[[1 2]\n",
      " [7 8]]\n",
      "[[ 3  4]\n",
      " [ 9 10]]\n",
      "[[ 5  6]\n",
      " [11 12]]\n"
     ]
    }
   ],
   "source": [
    "import numpy as np\n",
    "\n",
    "# Crear una matriz de 4x3\n",
    "matrix = np.array([[1, 2, 3],\n",
    "                   [4, 5, 6],\n",
    "                   [7, 8, 9],\n",
    "                   [10, 11, 12]])\n",
    "\n",
    "# Dividir la matriz en dos subarrays a lo largo del eje vertical\n",
    "subarrays = np.vsplit(matrix, 2)\n",
    "for subarray in subarrays:\n",
    "    print(subarray)\n",
    "# Salida:\n",
    "# [[1 2 3]\n",
    "#  [4 5 6]]\n",
    "# [[ 7  8  9]\n",
    "#  [10 11 12]]\n"
   ]
  },
  {
   "cell_type": "code",
   "execution_count": 17,
   "metadata": {},
   "outputs": [
    {
     "data": {
      "text/plain": [
       "[array([0., 1., 2.]),\n",
       " array([3., 4.]),\n",
       " array([5.]),\n",
       " array([6., 7.]),\n",
       " array([], dtype=float64)]"
      ]
     },
     "execution_count": 17,
     "metadata": {},
     "output_type": "execute_result"
    }
   ],
   "source": [
    "x = np.arange(8.0)\n",
    "np.split(x, [3, 5, 6, 10])\n",
    "# [array([0.,  1.,  2.]),\n",
    "#  array([3.,  4.]),\n",
    "#  array([5.]),\n",
    "#  array([6.,  7.]),\n",
    "#  array([], dtype=float64)]"
   ]
  }
 ],
 "metadata": {
  "kernelspec": {
   "display_name": "myenv",
   "language": "python",
   "name": "python3"
  },
  "language_info": {
   "codemirror_mode": {
    "name": "ipython",
    "version": 3
   },
   "file_extension": ".py",
   "mimetype": "text/x-python",
   "name": "python",
   "nbconvert_exporter": "python",
   "pygments_lexer": "ipython3",
   "version": "3.11.1"
  },
  "orig_nbformat": 4
 },
 "nbformat": 4,
 "nbformat_minor": 2
}
