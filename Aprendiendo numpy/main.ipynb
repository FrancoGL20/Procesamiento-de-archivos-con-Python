{
 "cells": [
  {
   "cell_type": "code",
   "execution_count": 1,
   "metadata": {},
   "outputs": [],
   "source": [
    "import numpy as np\n",
    "\n",
    "import pandas as pd"
   ]
  },
  {
   "cell_type": "code",
   "execution_count": 2,
   "metadata": {},
   "outputs": [],
   "source": [
    "index = pd.date_range(\"1/1/2000\", periods=8)\n",
    "\n",
    "s = pd.Series(np.random.randn(5), index=[\"a\", \"b\", \"c\", \"d\", \"e\"])\n",
    "\n",
    "df = pd.DataFrame(np.random.randn(8, 3), index=index, columns=[\"A\", \"B\", \"C\"])\n",
    "\n",
    "df = pd.DataFrame(\n",
    "    {\n",
    "        \"one\": pd.Series(np.random.randn(3), index=[\"a\", \"b\", \"c\"]),\n",
    "        \"two\": pd.Series(np.random.randn(4), index=[\"a\", \"b\", \"c\", \"d\"]),\n",
    "        \"three\": pd.Series(np.random.randn(3), index=[\"b\", \"c\", \"d\"]),\n",
    "    }\n",
    ")"
   ]
  },
  {
   "cell_type": "code",
   "execution_count": 3,
   "metadata": {},
   "outputs": [
    {
     "name": "stdout",
     "output_type": "stream",
     "text": [
      "        one       two     three\n",
      "a -1.578727  0.564816       NaN\n",
      "b -0.422246  0.797323  1.494955\n",
      "c  0.964200  0.078383 -1.053906\n",
      "d       NaN  0.783955  1.231628\n",
      "one           NaN\n",
      "two      2.224477\n",
      "three         NaN\n",
      "dtype: float64\n",
      "a   -1.013911\n",
      "b    1.870032\n",
      "c   -0.011323\n",
      "d    2.015583\n",
      "dtype: float64\n"
     ]
    }
   ],
   "source": [
    "df = pd.DataFrame(\n",
    "    {\n",
    "        \"one\": pd.Series(np.random.randn(3), index=[\"a\", \"b\", \"c\"]),\n",
    "        \"two\": pd.Series(np.random.randn(4), index=[\"a\", \"b\", \"c\", \"d\"]),\n",
    "        \"three\": pd.Series(np.random.randn(3), index=[\"b\", \"c\", \"d\"]),\n",
    "    }\n",
    ")\n",
    "\n",
    "print(df)\n",
    "#         one       two     three\n",
    "# a  0.577602  0.025092       NaN\n",
    "# b -0.693054 -0.831647  1.195486\n",
    "# c  1.224056  0.084098 -0.282935\n",
    "# d       NaN -1.020385  0.154739\n",
    "\n",
    "print(df.sum(0, skipna=False))\n",
    "# one           NaN\n",
    "# two     -1.042835\n",
    "# three         NaN\n",
    "# dtype: float64\n",
    "\n",
    "print(df.sum(axis=1, skipna=True))\n",
    "# a   -2.906355\n",
    "# b   -0.232749\n",
    "# c   -0.349854\n",
    "# d    0.864499\n",
    "# dtype: float64"
   ]
  },
  {
   "cell_type": "code",
   "execution_count": 9,
   "metadata": {},
   "outputs": [
    {
     "name": "stdout",
     "output_type": "stream",
     "text": [
      "490   NaN\n",
      "491   NaN\n",
      "492   NaN\n",
      "493   NaN\n",
      "494   NaN\n",
      "495   NaN\n",
      "496   NaN\n",
      "497   NaN\n",
      "498   NaN\n",
      "499   NaN\n",
      "dtype: float64\n",
      "11\n"
     ]
    }
   ],
   "source": [
    "series = pd.Series(np.random.randn(500)) # 500 numeros aleatorios\n",
    "\n",
    "series[20:500] = np.nan # 480 NaN (el range es exclusivo en el limite superior)\n",
    "series[10:20] = 5 # 10 numeros 5 (el range es exclusivo en el limite superior)\n",
    "\n",
    "# Es 11 porque no cuenta los NaN, los 5 cuentan como uno y hay 10 números unicos\n",
    "# 10 (numeros unicos) + 1 (el 5) = 11\n",
    "print(series.nunique())\n",
    "# 11"
   ]
  },
  {
   "cell_type": "code",
   "execution_count": null,
   "metadata": {},
   "outputs": [],
   "source": [
    "series = pd.Series(np.random.randn(1000))\n",
    "\n",
    "series[::2] = np.nan\n",
    "\n",
    "series.describe()\n",
    "\n",
    "frame = pd.DataFrame(np.random.randn(1000, 5), columns=[\"a\", \"b\", \"c\", \"d\", \"e\"])\n",
    "\n",
    "frame.iloc[::2] = np.nan\n",
    "\n",
    "frame.describe()"
   ]
  }
 ],
 "metadata": {
  "kernelspec": {
   "display_name": "myenv",
   "language": "python",
   "name": "python3"
  },
  "language_info": {
   "codemirror_mode": {
    "name": "ipython",
    "version": 3
   },
   "file_extension": ".py",
   "mimetype": "text/x-python",
   "name": "python",
   "nbconvert_exporter": "python",
   "pygments_lexer": "ipython3",
   "version": "3.11.5"
  },
  "orig_nbformat": 4
 },
 "nbformat": 4,
 "nbformat_minor": 2
}
