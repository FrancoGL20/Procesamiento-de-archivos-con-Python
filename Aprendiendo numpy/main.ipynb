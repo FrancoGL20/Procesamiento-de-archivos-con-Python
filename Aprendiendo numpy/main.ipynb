{
 "cells": [
  {
   "cell_type": "code",
   "execution_count": 30,
   "metadata": {},
   "outputs": [],
   "source": [
    "import numpy as np\n",
    "\n",
    "import pandas as pd"
   ]
  },
  {
   "cell_type": "code",
   "execution_count": 31,
   "metadata": {},
   "outputs": [],
   "source": [
    "index = pd.date_range(\"1/1/2000\", periods=8)\n",
    "\n",
    "s = pd.Series(np.random.randn(5), index=[\"a\", \"b\", \"c\", \"d\", \"e\"])\n",
    "\n",
    "df = pd.DataFrame(np.random.randn(8, 3), index=index, columns=[\"A\", \"B\", \"C\"])"
   ]
  },
  {
   "cell_type": "code",
   "execution_count": 32,
   "metadata": {},
   "outputs": [
    {
     "name": "stdout",
     "output_type": "stream",
     "text": [
      "   Nombre Edad     Ciudad\n",
      "0    Juan   25     Madrid\n",
      "1   María   30  Barcelona\n",
      "2  Carlos   28   Valencia\n",
      "Tipos de datos antes de inferir:\n",
      "Nombre    object\n",
      "Edad      object\n",
      "Ciudad    object\n",
      "dtype: object\n",
      "\n",
      "Tipos de datos después de inferir:\n",
      "Nombre    object\n",
      "Edad      object\n",
      "Ciudad    object\n",
      "dtype: object\n"
     ]
    }
   ],
   "source": [
    "data = {\n",
    "    'Nombre': ['Juan', 'María', 'Carlos'],\n",
    "    'Edad': ['25', '30', '28'],  # Edad es una cadena en lugar de un entero\n",
    "    'Ciudad': ['Madrid', 'Barcelona', 'Valencia']\n",
    "}\n",
    "\n",
    "df = pd.DataFrame(data)\n",
    "print(df)\n",
    "\n",
    "# Mostrar los tipos de datos actuales\n",
    "print(\"Tipos de datos antes de inferir:\")\n",
    "print(df.dtypes)\n",
    "\n",
    "# Usar infer_objects() para inferir tipos de datos más específicos\n",
    "df = df.infer_objects()\n",
    "\n",
    "# Mostrar los tipos de datos después de inferir\n",
    "print(\"\\nTipos de datos después de inferir:\")\n",
    "print(df.dtypes)\n"
   ]
  },
  {
   "cell_type": "code",
   "execution_count": 36,
   "metadata": {},
   "outputs": [
    {
     "name": "stdout",
     "output_type": "stream",
     "text": [
      "   0  1                    2\n",
      "0  1  a  2016-03-02 00:00:00\n",
      "1  2  b  2016-03-02 00:00:00\n",
      "0    object\n",
      "1    object\n",
      "2    object\n",
      "dtype: object\n",
      "0             int64\n",
      "1            object\n",
      "2    datetime64[ns]\n",
      "dtype: object\n"
     ]
    }
   ],
   "source": [
    "import datetime\n",
    "\n",
    "df = pd.DataFrame(\n",
    "    [\n",
    "        [1, 2],\n",
    "        [\"a\", \"b\"],\n",
    "        [datetime.datetime(2016, 3, 2), datetime.datetime(2016, 3, 2)],\n",
    "    ]\n",
    ")\n",
    "\n",
    "df=df.T\n",
    "\n",
    "print(df)\n",
    "#    0  1                    2\n",
    "# 0  1  a  2016-03-02 00:00:00\n",
    "# 1  2  b  2016-03-02 00:00:00\n",
    "\n",
    "print(df.dtypes)\n",
    "# 0    object\n",
    "# 1    object\n",
    "# 2    object\n",
    "# dtype: object\n",
    "\n",
    "print(df.infer_objects().dtypes)\n",
    "# 0             int64\n",
    "# 1            object\n",
    "# 2    datetime64[ns]\n",
    "# dtype: object"
   ]
  },
  {
   "cell_type": "code",
   "execution_count": null,
   "metadata": {},
   "outputs": [],
   "source": []
  }
 ],
 "metadata": {
  "kernelspec": {
   "display_name": "myenv",
   "language": "python",
   "name": "python3"
  },
  "language_info": {
   "codemirror_mode": {
    "name": "ipython",
    "version": 3
   },
   "file_extension": ".py",
   "mimetype": "text/x-python",
   "name": "python",
   "nbconvert_exporter": "python",
   "pygments_lexer": "ipython3",
   "version": "3.11.5"
  },
  "orig_nbformat": 4
 },
 "nbformat": 4,
 "nbformat_minor": 2
}
