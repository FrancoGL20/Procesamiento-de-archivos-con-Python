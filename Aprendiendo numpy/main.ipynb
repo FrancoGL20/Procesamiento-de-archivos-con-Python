{
 "cells": [
  {
   "cell_type": "code",
   "execution_count": 2,
   "metadata": {},
   "outputs": [],
   "source": [
    "import numpy as np\n",
    "\n",
    "import pandas as pd"
   ]
  },
  {
   "cell_type": "code",
   "execution_count": 3,
   "metadata": {},
   "outputs": [],
   "source": [
    "index = pd.date_range(\"1/1/2000\", periods=8)\n",
    "\n",
    "s = pd.Series(np.random.randn(5), index=[\"a\", \"b\", \"c\", \"d\", \"e\"])\n",
    "\n",
    "df = pd.DataFrame(np.random.randn(8, 3), index=index, columns=[\"A\", \"B\", \"C\"])"
   ]
  },
  {
   "cell_type": "code",
   "execution_count": 6,
   "metadata": {},
   "outputs": [
    {
     "name": "stdout",
     "output_type": "stream",
     "text": [
      "<PandasArray>\n",
      "[   0.9480382429082019, -0.013557173964624762,    0.7448652598540876,\n",
      "   -1.3304044788886245,   -0.5118465949010984]\n",
      "Length: 5, dtype: float64\n",
      "<PandasArray>\n",
      "['a', 'b', 'c', 'd', 'e']\n",
      "Length: 5, dtype: object\n"
     ]
    }
   ],
   "source": [
    "s = pd.Series(np.random.randn(5), index=[\"a\", \"b\", \"c\", \"d\", \"e\"])\n",
    "\n",
    "print(s.array)\n",
    "# <PandasArray>\n",
    "# [   0.9480382429082019, -0.013557173964624762,    0.7448652598540876,\n",
    "#    -1.3304044788886245,   -0.5118465949010984]\n",
    "# Length: 5, dtype: float64\n",
    "\n",
    "print(s.index.array)\n",
    "# <PandasArray>\n",
    "# ['a', 'b', 'c', 'd', 'e']\n",
    "# Length: 5, dtype: object"
   ]
  }
 ],
 "metadata": {
  "kernelspec": {
   "display_name": "myenv",
   "language": "python",
   "name": "python3"
  },
  "language_info": {
   "codemirror_mode": {
    "name": "ipython",
    "version": 3
   },
   "file_extension": ".py",
   "mimetype": "text/x-python",
   "name": "python",
   "nbconvert_exporter": "python",
   "pygments_lexer": "ipython3",
   "version": "3.11.1"
  },
  "orig_nbformat": 4
 },
 "nbformat": 4,
 "nbformat_minor": 2
}
