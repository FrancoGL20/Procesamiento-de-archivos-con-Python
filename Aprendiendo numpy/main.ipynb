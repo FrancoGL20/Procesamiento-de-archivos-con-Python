{
 "cells": [
  {
   "cell_type": "code",
   "execution_count": 5,
   "metadata": {},
   "outputs": [],
   "source": [
    "import numpy as np\n",
    "\n",
    "import pandas as pd"
   ]
  },
  {
   "cell_type": "code",
   "execution_count": 6,
   "metadata": {},
   "outputs": [
    {
     "name": "stdout",
     "output_type": "stream",
     "text": [
      "ejemplo\n",
      "renamed_example\n",
      "0    100.0\n",
      "1      1.0\n",
      "2      2.0\n",
      "3      3.0\n",
      "4      4.0\n",
      "Name: renamed_example, dtype: float64\n",
      "0    0.0\n",
      "1    1.0\n",
      "2    2.0\n",
      "3    3.0\n",
      "4    4.0\n",
      "Name: ejemplo, dtype: float64\n"
     ]
    }
   ],
   "source": [
    "s = pd.Series(np.arange(5.0), name=\"ejemplo\")\n",
    "print(s.name)\n",
    "# ejemplo\n",
    "\n",
    "s2 = s.rename(\"renamed_example\")\n",
    "print(s2.name)\n",
    "# renamed_example\n",
    "\n",
    "# Se crea una copia de s\n",
    "s2[0] = 100\n",
    "print(s2)\n",
    "# 0    100.0\n",
    "# 1      1.0\n",
    "# 2      2.0\n",
    "# 3      3.0\n",
    "# 4      4.0\n",
    "# Name: renamed_example, dtype: float64\n",
    "print(s)\n",
    "# 0    0.0\n",
    "# 1    1.0\n",
    "# 2    2.0\n",
    "# 3    3.0\n",
    "# 4    4.0\n",
    "# Name: ejemplo, dtype: float64"
   ]
  },
  {
   "cell_type": "code",
   "execution_count": 7,
   "metadata": {},
   "outputs": [
    {
     "name": "stdout",
     "output_type": "stream",
     "text": [
      "   one  two\n",
      "a  1.0  1.0\n",
      "b  2.0  2.0\n",
      "c  3.0  3.0\n",
      "d  NaN  4.0\n",
      "   one  two\n",
      "d  NaN  4.0\n",
      "b  2.0  2.0\n",
      "a  1.0  1.0\n",
      "   two three\n",
      "d  4.0   NaN\n",
      "b  2.0   NaN\n",
      "a  1.0   NaN\n",
      "Index(['a', 'b', 'c', 'd'], dtype='object')\n",
      "Index(['one', 'two'], dtype='object')\n"
     ]
    }
   ],
   "source": [
    "# Diccionario de series\n",
    "d = {\n",
    "    \"one\": pd.Series([1.0, 2.0, 3.0], index=[\"a\", \"b\", \"c\"]),\n",
    "    \"two\": pd.Series([1.0, 2.0, 3.0, 4.0], index=[\"a\", \"b\", \"c\", \"d\"]),\n",
    "}\n",
    "\n",
    "# Se crea un DataFrame a partir del diccionario\n",
    "print(pd.DataFrame(d))\n",
    "#    one  two\n",
    "# a  1.0  1.0\n",
    "# b  2.0  2.0\n",
    "# c  3.0  3.0\n",
    "# d  NaN  4.0\n",
    "\n",
    "# Se especifican los índices que se quieren mostrar\n",
    "print(pd.DataFrame(d, index=[\"d\", \"b\", \"a\"]))\n",
    "#    one  two\n",
    "# d  NaN  4.0\n",
    "# b  2.0  2.0\n",
    "# a  1.0  1.0\n",
    "\n",
    "# Se especifican los índices y columnas que se quieren mostrar\n",
    "print(pd.DataFrame(d, index=[\"d\", \"b\", \"a\"], columns=[\"two\", \"three\"]))\n",
    "#    two three\n",
    "# d  4.0   NaN\n",
    "# b  2.0   NaN\n",
    "# a  1.0   NaN\n",
    "\n",
    "print(pd.DataFrame(d).index)\n",
    "# Index(['a', 'b', 'c', 'd'], dtype='object')\n",
    "\n",
    "print(pd.DataFrame(d).columns)\n",
    "# Index(['one', 'two'], dtype='object')"
   ]
  },
  {
   "cell_type": "code",
   "execution_count": 8,
   "metadata": {},
   "outputs": [
    {
     "name": "stdout",
     "output_type": "stream",
     "text": [
      "   one  two\n",
      "0  1.0  4.0\n",
      "1  2.0  3.0\n",
      "2  3.0  2.0\n",
      "3  4.0  1.0\n",
      "   one  two\n",
      "a  1.0  4.0\n",
      "b  2.0  3.0\n",
      "c  3.0  2.0\n",
      "d  4.0  1.0\n"
     ]
    }
   ],
   "source": [
    "d = {\"one\": [1.0, 2.0, 3.0, 4.0], \"two\": [4.0, 3.0, 2.0, 1.0]}\n",
    "\n",
    "print(pd.DataFrame(d))\n",
    "#    one  two\n",
    "# 0  1.0  4.0\n",
    "# 1  2.0  3.0\n",
    "# 2  3.0  2.0\n",
    "# 3  4.0  1.0\n",
    "\n",
    "print(pd.DataFrame(d, index=[\"a\", \"b\", \"c\", \"d\"]))\n",
    "#    one  two\n",
    "# a  1.0  4.0\n",
    "# b  2.0  3.0\n",
    "# c  3.0  2.0\n",
    "# d  4.0  1.0"
   ]
  },
  {
   "cell_type": "code",
   "execution_count": 9,
   "metadata": {},
   "outputs": [
    {
     "name": "stdout",
     "output_type": "stream",
     "text": [
      "   A    B         C\n",
      "0  1  2.0  b'Hello'\n",
      "1  2  3.0  b'World'\n",
      "        A    B         C\n",
      "first   1  2.0  b'Hello'\n",
      "second  2  3.0  b'World'\n",
      "          C  A    B\n",
      "0  b'Hello'  1  2.0\n",
      "1  b'World'  2  3.0\n"
     ]
    }
   ],
   "source": [
    "data = np.zeros((2,), dtype=[(\"A\", \"i4\"), (\"B\", \"f4\"), (\"C\", \"a10\")])\n",
    "\n",
    "data[:] = [(1, 2.0, \"Hello\"), (2, 3.0, \"World\")]\n",
    "\n",
    "print(pd.DataFrame(data))\n",
    "#    A    B         C\n",
    "# 0  1  2.0  b'Hello'\n",
    "# 1  2  3.0  b'World'\n",
    "\n",
    "print(pd.DataFrame(data, index=[\"first\", \"second\"]))\n",
    "#         A    B         C\n",
    "# first   1  2.0  b'Hello'\n",
    "# second  2  3.0  b'World'\n",
    "\n",
    "print(pd.DataFrame(data, columns=[\"C\", \"A\", \"B\"]))\n",
    "#           C  A    B\n",
    "# 0  b'Hello'  1  2.0\n",
    "# 1  b'World'  2  3.0\n"
   ]
  },
  {
   "cell_type": "code",
   "execution_count": 10,
   "metadata": {},
   "outputs": [
    {
     "name": "stdout",
     "output_type": "stream",
     "text": [
      "   a   b     c\n",
      "0  1   2   NaN\n",
      "1  5  10  20.0\n",
      "        a   b     c\n",
      "first   1   2   NaN\n",
      "second  5  10  20.0\n",
      "   a   b\n",
      "0  1   2\n",
      "1  5  10\n"
     ]
    }
   ],
   "source": [
    "data2 = [{\"a\": 1, \"b\": 2}, {\"a\": 5, \"b\": 10, \"c\": 20}]\n",
    "\n",
    "print(pd.DataFrame(data2))\n",
    "#    a   b     c\n",
    "# 0  1   2   NaN\n",
    "# 1  5  10  20.0\n",
    "\n",
    "print(pd.DataFrame(data2, index=[\"first\", \"second\"]))\n",
    "#         a   b     c\n",
    "# first   1   2   NaN\n",
    "# second  5  10  20.0\n",
    "\n",
    "print(pd.DataFrame(data2, columns=[\"a\", \"b\"]))\n",
    "#    a   b\n",
    "# 0  1   2\n",
    "# 1  5  10"
   ]
  },
  {
   "cell_type": "code",
   "execution_count": 11,
   "metadata": {},
   "outputs": [
    {
     "name": "stdout",
     "output_type": "stream",
     "text": [
      "       a              b      \n",
      "       b    a    c    a     b\n",
      "A B  1.0  4.0  5.0  8.0  10.0\n",
      "  C  2.0  3.0  6.0  7.0   NaN\n",
      "  D  NaN  NaN  NaN  NaN   9.0\n"
     ]
    }
   ],
   "source": [
    "print(pd.DataFrame(\n",
    "    {\n",
    "        (\"a\", \"b\"): {(\"A\", \"B\"): 1, (\"A\", \"C\"): 2},\n",
    "        (\"a\", \"a\"): {(\"A\", \"C\"): 3, (\"A\", \"B\"): 4},\n",
    "        (\"a\", \"c\"): {(\"A\", \"B\"): 5, (\"A\", \"C\"): 6},\n",
    "        (\"b\", \"a\"): {(\"A\", \"C\"): 7, (\"A\", \"B\"): 8},\n",
    "        (\"b\", \"b\"): {(\"A\", \"D\"): 9, (\"A\", \"B\"): 10},\n",
    "    }\n",
    "))\n",
    "#        a              b      \n",
    "#        b    a    c    a     b\n",
    "# A B  1.0  4.0  5.0  8.0  10.0\n",
    "#   C  2.0  3.0  6.0  7.0   NaN\n",
    "#   D  NaN  NaN  NaN  NaN   9.0"
   ]
  },
  {
   "cell_type": "code",
   "execution_count": 12,
   "metadata": {},
   "outputs": [
    {
     "name": "stdout",
     "output_type": "stream",
     "text": [
      "   ser\n",
      "a    0\n",
      "b    1\n",
      "c    2\n"
     ]
    }
   ],
   "source": [
    "ser = pd.Series(range(3), index=list(\"abc\"), name=\"ser\")\n",
    "\n",
    "print(pd.DataFrame(ser))\n",
    "#    ser\n",
    "# a    0\n",
    "# b    1\n",
    "# c    2"
   ]
  },
  {
   "cell_type": "code",
   "execution_count": 13,
   "metadata": {},
   "outputs": [
    {
     "name": "stdout",
     "output_type": "stream",
     "text": [
      "   A  B\n",
      "0  1  4\n",
      "1  2  5\n",
      "2  3  6\n"
     ]
    }
   ],
   "source": [
    "print(\n",
    "    pd.DataFrame.from_dict(\n",
    "        dict([\n",
    "            (\"A\", [1, 2, 3]),\n",
    "            (\"B\", [4, 5, 6])\n",
    "        ])\n",
    "    )\n",
    ")\n",
    "#    A  B\n",
    "# 0  1  4\n",
    "# 1  2  5\n",
    "# 2  3  6"
   ]
  },
  {
   "cell_type": "code",
   "execution_count": 14,
   "metadata": {},
   "outputs": [
    {
     "name": "stdout",
     "output_type": "stream",
     "text": [
      "   one  two  three\n",
      "A    1    2      3\n",
      "B    4    5      6\n"
     ]
    }
   ],
   "source": [
    "print(\n",
    "    pd.DataFrame.from_dict(\n",
    "        dict([\n",
    "            (\"A\", [1, 2, 3]),\n",
    "            (\"B\", [4, 5, 6])\n",
    "        ]),\n",
    "        orient=\"index\",\n",
    "        columns=[\"one\", \"two\", \"three\"],\n",
    "    )\n",
    ")\n",
    "#    one  two  three\n",
    "# A    1    2      3\n",
    "# B    4    5      6"
   ]
  },
  {
   "cell_type": "code",
   "execution_count": 15,
   "metadata": {},
   "outputs": [
    {
     "name": "stdout",
     "output_type": "stream",
     "text": [
      "   col_1 col_2\n",
      "0      3     a\n",
      "1      2     b\n",
      "2      1     c\n",
      "3      0     d\n"
     ]
    }
   ],
   "source": [
    "data = np.array([(3, 'a'), (2, 'b'), (1, 'c'), (0, 'd')],\n",
    "                dtype=[('col_1', 'i4'), ('col_2', 'U1')])\n",
    "p=pd.DataFrame.from_records(data)\n",
    "print(p)\n",
    "#    col_1 col_2\n",
    "# 0      3     a\n",
    "# 1      2     b\n",
    "# 2      1     c\n",
    "# 3      0     d"
   ]
  },
  {
   "cell_type": "code",
   "execution_count": 16,
   "metadata": {},
   "outputs": [
    {
     "name": "stdout",
     "output_type": "stream",
     "text": [
      "   col_1 col_2\n",
      "0      3     a\n",
      "1      2     b\n",
      "2      1     c\n",
      "3      0     d\n"
     ]
    }
   ],
   "source": [
    "data = [{'col_1': 3, 'col_2': 'a'},\n",
    "        {'col_1': 2, 'col_2': 'b'},\n",
    "        {'col_1': 1, 'col_2': 'c'},\n",
    "        {'col_1': 0, 'col_2': 'd'}]\n",
    "p=pd.DataFrame.from_records(data)\n",
    "print(p)\n",
    "#    col_1 col_2\n",
    "# 0      3     a\n",
    "# 1      2     b\n",
    "# 2      1     c\n",
    "# 3      0     d"
   ]
  },
  {
   "cell_type": "code",
   "execution_count": 17,
   "metadata": {},
   "outputs": [
    {
     "name": "stdout",
     "output_type": "stream",
     "text": [
      "   col_1 col_2\n",
      "0      3     a\n",
      "1      2     b\n",
      "2      1     c\n",
      "3      0     d\n"
     ]
    }
   ],
   "source": [
    "data = [(3, 'a'), (2, 'b'), (1, 'c'), (0, 'd')]\n",
    "p=pd.DataFrame.from_records(data, columns=['col_1', 'col_2'])\n",
    "print(p)\n",
    "#    col_1 col_2\n",
    "# 0      3     a\n",
    "# 1      2     b\n",
    "# 2      1     c\n",
    "# 3      0     d"
   ]
  }
 ],
 "metadata": {
  "kernelspec": {
   "display_name": "myenv",
   "language": "python",
   "name": "python3"
  },
  "language_info": {
   "codemirror_mode": {
    "name": "ipython",
    "version": 3
   },
   "file_extension": ".py",
   "mimetype": "text/x-python",
   "name": "python",
   "nbconvert_exporter": "python",
   "pygments_lexer": "ipython3",
   "version": "3.11.1"
  },
  "orig_nbformat": 4
 },
 "nbformat": 4,
 "nbformat_minor": 2
}
