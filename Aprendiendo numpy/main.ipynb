{
 "cells": [
  {
   "cell_type": "code",
   "execution_count": 2,
   "metadata": {},
   "outputs": [],
   "source": [
    "import numpy as np\n",
    "\n",
    "import pandas as pd"
   ]
  },
  {
   "cell_type": "code",
   "execution_count": 3,
   "metadata": {},
   "outputs": [],
   "source": [
    "index = pd.date_range(\"1/1/2000\", periods=8)\n",
    "\n",
    "s = pd.Series(np.random.randn(5), index=[\"a\", \"b\", \"c\", \"d\", \"e\"])\n",
    "\n",
    "df = pd.DataFrame(np.random.randn(8, 3), index=index, columns=[\"A\", \"B\", \"C\"])"
   ]
  },
  {
   "cell_type": "code",
   "execution_count": 4,
   "metadata": {},
   "outputs": [
    {
     "name": "stdout",
     "output_type": "stream",
     "text": [
      "True\n",
      "False\n",
      "True\n",
      "True\n",
      "True\n"
     ]
    }
   ],
   "source": [
    "print(pd.Series([True, True]).all())\n",
    "# True\n",
    "print(pd.Series([True, False]).all())\n",
    "# False\n",
    "print(pd.Series([], dtype=\"float64\").all())\n",
    "# True\n",
    "print(pd.Series([np.nan]).all())\n",
    "# True\n",
    "print(pd.Series([np.nan]).all(skipna=False))\n",
    "# True"
   ]
  },
  {
   "cell_type": "code",
   "execution_count": 5,
   "metadata": {},
   "outputs": [
    {
     "name": "stdout",
     "output_type": "stream",
     "text": [
      "   col1   col2\n",
      "0  True   True\n",
      "1  True  False\n",
      "col1     True\n",
      "col2    False\n",
      "dtype: bool\n",
      "0     True\n",
      "1    False\n",
      "dtype: bool\n",
      "False\n"
     ]
    }
   ],
   "source": [
    "df = pd.DataFrame({'col1': [True, True], 'col2': [True, False]})\n",
    "print(df)\n",
    "#    col1   col2\n",
    "# 0  True   True\n",
    "# 1  True  False\n",
    "\n",
    "print(df.all())\n",
    "# col1     True\n",
    "# col2    False\n",
    "# dtype: bool\n",
    "\n",
    "print(df.all(axis='columns'))\n",
    "# 0     True\n",
    "# 1    False\n",
    "# dtype: bool\n",
    "\n",
    "print(df.all(axis=None))\n",
    "# False"
   ]
  },
  {
   "cell_type": "code",
   "execution_count": 6,
   "metadata": {},
   "outputs": [
    {
     "name": "stdout",
     "output_type": "stream",
     "text": [
      "        one       two     three\n",
      "a -0.826465 -0.845321       NaN\n",
      "b -1.431963 -0.557361 -0.024534\n",
      "c  0.462391 -0.791616 -0.083844\n",
      "d       NaN  0.159310  2.008166\n",
      "     one   two  three\n",
      "a   True  True  False\n",
      "b   True  True   True\n",
      "c   True  True   True\n",
      "d  False  True   True\n",
      "one      False\n",
      "two       True\n",
      "three    False\n",
      "dtype: bool\n"
     ]
    }
   ],
   "source": [
    "df = pd.DataFrame(\n",
    "    {\n",
    "        \"one\": pd.Series(np.random.randn(3), index=[\"a\", \"b\", \"c\"]),\n",
    "        \"two\": pd.Series(np.random.randn(4), index=[\"a\", \"b\", \"c\", \"d\"]),\n",
    "        \"three\": pd.Series(np.random.randn(3), index=[\"b\", \"c\", \"d\"]),\n",
    "    }\n",
    ")\n",
    "\n",
    "print(df)\n",
    "#         one       two     three\n",
    "# a -0.826465 -0.845321       NaN\n",
    "# b -1.431963 -0.557361 -0.024534\n",
    "# c  0.462391 -0.791616 -0.083844\n",
    "# d       NaN  0.159310  2.008166\n",
    "\n",
    "print(df + df == df * 2)\n",
    "# Out[57]: \n",
    "#      one   two  three\n",
    "# a   True  True  False\n",
    "# b   True  True   True\n",
    "# c   True  True   True\n",
    "# d  False  True   True\n",
    "\n",
    "print((df + df == df * 2).all())\n",
    "# Out[58]: \n",
    "# one      False\n",
    "# two       True\n",
    "# three    False\n",
    "# dtype: bool"
   ]
  },
  {
   "cell_type": "code",
   "execution_count": 7,
   "metadata": {},
   "outputs": [
    {
     "data": {
      "text/plain": [
       "False"
      ]
     },
     "execution_count": 7,
     "metadata": {},
     "output_type": "execute_result"
    }
   ],
   "source": [
    "np.nan == np.nan\n",
    "# False"
   ]
  },
  {
   "cell_type": "code",
   "execution_count": 9,
   "metadata": {},
   "outputs": [
    {
     "name": "stdout",
     "output_type": "stream",
     "text": [
      "    1   2\n",
      "0  10  20\n",
      "    1   2\n",
      "0  10  20\n",
      "True\n"
     ]
    }
   ],
   "source": [
    "df = pd.DataFrame({1: [10], 2: [20]})\n",
    "print(df)\n",
    "    # 1   2\n",
    "# 0  10  20\n",
    "\n",
    "exactly_equal = pd.DataFrame({1: [10], 2: [20]})\n",
    "print(exactly_equal)\n",
    "#     1   2\n",
    "# 0  10  20\n",
    "\n",
    "print(df.equals(exactly_equal))\n",
    "# True"
   ]
  },
  {
   "cell_type": "code",
   "execution_count": 11,
   "metadata": {},
   "outputs": [
    {
     "name": "stdout",
     "output_type": "stream",
     "text": [
      "    1   2\n",
      "0  10  20\n",
      "      1     2\n",
      "0  10.0  20.0\n",
      "False\n"
     ]
    }
   ],
   "source": [
    "df = pd.DataFrame({1: [10], 2: [20]})\n",
    "print(df)\n",
    "    # 1   2\n",
    "# 0  10  20\n",
    "\n",
    "different_data_type = pd.DataFrame({1: [10.0], 2: [20.0]})\n",
    "print(different_data_type)\n",
    "#       1     2\n",
    "# 0  10.0  20.0\n",
    "\n",
    "print(df.equals(different_data_type))\n",
    "# False"
   ]
  },
  {
   "cell_type": "code",
   "execution_count": 12,
   "metadata": {},
   "outputs": [
    {
     "name": "stdout",
     "output_type": "stream",
     "text": [
      "0     True\n",
      "1    False\n",
      "2    False\n",
      "dtype: bool\n",
      "[ True False False]\n"
     ]
    }
   ],
   "source": [
    "print(pd.Series([\"foo\", \"bar\", \"baz\"]) == \"foo\")\n",
    "# Out[65]: \n",
    "# 0     True\n",
    "# 1    False\n",
    "# 2    False\n",
    "# dtype: bool\n",
    "\n",
    "print(pd.Index([\"foo\", \"bar\", \"baz\"]) == \"foo\")\n",
    "# Out[66]: array([ True, False, False])"
   ]
  },
  {
   "cell_type": "code",
   "execution_count": null,
   "metadata": {},
   "outputs": [],
   "source": [
    "pd.Series([\"foo\", \"bar\", \"baz\"]) == pd.Index([\"foo\", \"bar\", \"qux\"])\n",
    "# Out[67]: \n",
    "# 0     True\n",
    "# 1     True\n",
    "# 2    False\n",
    "# dtype: bool\n",
    "\n",
    "pd.Series([\"foo\", \"bar\", \"baz\"]) == np.array([\"foo\", \"bar\", \"qux\"])\n",
    "# Out[68]: \n",
    "# 0     True\n",
    "# 1     True\n",
    "# 2    False\n",
    "# dtype: bool"
   ]
  },
  {
   "cell_type": "code",
   "execution_count": 13,
   "metadata": {},
   "outputs": [
    {
     "name": "stdout",
     "output_type": "stream",
     "text": [
      "[False  True False]\n",
      "False\n"
     ]
    },
    {
     "name": "stderr",
     "output_type": "stream",
     "text": [
      "C:\\Users\\franc\\AppData\\Local\\Temp\\ipykernel_3552\\2786035925.py:4: DeprecationWarning: elementwise comparison failed; this will raise an error in the future.\n",
      "  print(np.array([1, 2, 3]) == np.array([1, 2]))\n"
     ]
    }
   ],
   "source": [
    "print(np.array([1, 2, 3]) == np.array([2]))\n",
    "# Out[71]: array([False,  True, False])\n",
    "\n",
    "print(np.array([1, 2, 3]) == np.array([1, 2]))\n",
    "# False\n",
    "# C:\\Users\\franc\\AppData\\Local\\Temp\\ipykernel_3552\\2786035925.py:4: DeprecationWarning: elementwise comparison failed; this will raise an error in the future.\n",
    "#   print(np.array([1, 2, 3]) == np.array([1, 2]))"
   ]
  },
  {
   "cell_type": "code",
   "execution_count": 15,
   "metadata": {},
   "outputs": [
    {
     "data": {
      "text/plain": [
       "<NA>"
      ]
     },
     "execution_count": 15,
     "metadata": {},
     "output_type": "execute_result"
    }
   ],
   "source": [
    "None == None\n",
    "# True\n",
    "\n",
    "np.nan == np.nan\n",
    "# False\n",
    "\n",
    "None == np.nan\n",
    "# False"
   ]
  }
 ],
 "metadata": {
  "kernelspec": {
   "display_name": "myenv",
   "language": "python",
   "name": "python3"
  },
  "language_info": {
   "codemirror_mode": {
    "name": "ipython",
    "version": 3
   },
   "file_extension": ".py",
   "mimetype": "text/x-python",
   "name": "python",
   "nbconvert_exporter": "python",
   "pygments_lexer": "ipython3",
   "version": "3.11.1"
  },
  "orig_nbformat": 4
 },
 "nbformat": 4,
 "nbformat_minor": 2
}
