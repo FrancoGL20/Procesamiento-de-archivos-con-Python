{
 "cells": [
  {
   "cell_type": "code",
   "execution_count": 1,
   "metadata": {},
   "outputs": [],
   "source": [
    "import numpy as np\n",
    "\n",
    "import pandas as pd"
   ]
  },
  {
   "cell_type": "code",
   "execution_count": 2,
   "metadata": {},
   "outputs": [],
   "source": [
    "index = pd.date_range(\"1/1/2000\", periods=8)\n",
    "\n",
    "s = pd.Series(np.random.randn(5), index=[\"a\", \"b\", \"c\", \"d\", \"e\"])\n",
    "\n",
    "df = pd.DataFrame(np.random.randn(8, 3), index=index, columns=[\"A\", \"B\", \"C\"])"
   ]
  },
  {
   "cell_type": "code",
   "execution_count": 3,
   "metadata": {},
   "outputs": [
    {
     "name": "stdout",
     "output_type": "stream",
     "text": [
      "0   -0.012015\n",
      "1    0.695650\n",
      "2   -1.059182\n",
      "3   -0.492090\n",
      "4    0.488049\n",
      "dtype: float64\n",
      "997    1.779893\n",
      "998    1.689972\n",
      "999   -1.302953\n",
      "dtype: float64\n"
     ]
    }
   ],
   "source": [
    "long_series = pd.Series(np.random.randn(1000))\n",
    "\n",
    "print(long_series.head())\n",
    "# 0   -1.157892\n",
    "# 1   -1.344312\n",
    "# 2    0.844885\n",
    "# 3    1.075770\n",
    "# 4   -0.109050\n",
    "# dtype: float64\n",
    "\n",
    "print(long_series.tail(3))\n",
    "# 997   -0.289388\n",
    "# 998   -1.020544\n",
    "# 999    0.589993\n",
    "# dtype: float64"
   ]
  },
  {
   "cell_type": "code",
   "execution_count": 4,
   "metadata": {},
   "outputs": [
    {
     "name": "stdout",
     "output_type": "stream",
     "text": [
      "float64          1\n",
      "int64            1\n",
      "object           1\n",
      "datetime64[s]    1\n",
      "float32          1\n",
      "bool             1\n",
      "int8             1\n",
      "Name: count, dtype: int64\n"
     ]
    }
   ],
   "source": [
    "dft = pd.DataFrame(\n",
    "    {\n",
    "        \"A\": np.random.rand(3),\n",
    "        \"B\": 1,\n",
    "        \"C\": \"foo\",\n",
    "        \"D\": pd.Timestamp(\"20010102\"),\n",
    "        \"E\": pd.Series([1.0] * 3).astype(\"float32\"),\n",
    "        \"F\": False,\n",
    "        \"G\": pd.Series([1] * 3, dtype=\"int8\"),\n",
    "    }\n",
    ")\n",
    "\n",
    "print(dft.dtypes.value_counts())\n",
    "# float64          1\n",
    "# int64            1\n",
    "# object           1\n",
    "# datetime64[s]    1\n",
    "# float32          1\n",
    "# bool             1\n",
    "# int8             1\n",
    "# Name: count, dtype: int64"
   ]
  },
  {
   "cell_type": "code",
   "execution_count": 5,
   "metadata": {},
   "outputs": [
    {
     "name": "stdout",
     "output_type": "stream",
     "text": [
      "0    1.0\n",
      "1    2.0\n",
      "2    3.0\n",
      "3    4.0\n",
      "4    5.0\n",
      "5    6.0\n",
      "dtype: float64\n",
      "0      1\n",
      "1      2\n",
      "2      3\n",
      "3    6.0\n",
      "4    foo\n",
      "dtype: object\n"
     ]
    }
   ],
   "source": [
    "print(pd.Series([1, 2, 3, 4, 5, 6.0]))\n",
    "# 0    1.0\n",
    "# 1    2.0\n",
    "# 2    3.0\n",
    "# 3    4.0\n",
    "# 4    5.0\n",
    "# 5    6.0\n",
    "# dtype: float64\n",
    "\n",
    "print(pd.Series([1, 2, 3, 6.0, \"foo\"]))\n",
    "# 0      1\n",
    "# 1      2\n",
    "# 2      3\n",
    "# 3    6.0\n",
    "# 4    foo\n",
    "# dtype: object"
   ]
  },
  {
   "cell_type": "code",
   "execution_count": 6,
   "metadata": {},
   "outputs": [
    {
     "name": "stdout",
     "output_type": "stream",
     "text": [
      "a    int64\n",
      "dtype: object\n",
      "a    int64\n",
      "dtype: object\n",
      "a    int64\n",
      "dtype: object\n"
     ]
    }
   ],
   "source": [
    "print(pd.DataFrame([1, 2], columns=[\"a\"]).dtypes)\n",
    "# a    int64\n",
    "# dtype: object\n",
    "\n",
    "print(pd.DataFrame({\"a\": [1, 2]}).dtypes)\n",
    "# a    int64\n",
    "# dtype: object\n",
    "\n",
    "print(pd.DataFrame({\"a\": 1}, index=list(range(2))).dtypes)\n",
    "# a    int64\n",
    "# dtype: object"
   ]
  },
  {
   "cell_type": "code",
   "execution_count": 23,
   "metadata": {},
   "outputs": [
    {
     "name": "stdout",
     "output_type": "stream",
     "text": [
      "   a  b  c\n",
      "0  1  4  7\n",
      "1  0  5  8\n",
      "2  1  6  9\n",
      "a    int64\n",
      "b    int64\n",
      "c    int64\n",
      "dtype: object\n",
      "       a  b    c\n",
      "0   True  4  7.0\n",
      "1  False  5  8.0\n",
      "2   True  6  9.0\n",
      "a       bool\n",
      "b      int64\n",
      "c    float64\n",
      "dtype: object\n"
     ]
    }
   ],
   "source": [
    "dft = pd.DataFrame({\"a\": [1, 0, 1], \"b\": [4, 5, 6], \"c\": [7, 8, 9]})\n",
    "\n",
    "print(dft)\n",
    "#    a  b  c\n",
    "# 0  1  4  7\n",
    "# 1  0  5  8\n",
    "# 2  1  6  9\n",
    "\n",
    "print(dft.dtypes)\n",
    "# a    int64\n",
    "# b    int64\n",
    "# c    int64\n",
    "# dtype: object\n",
    "\n",
    "dft = dft.astype({\"a\": np.bool_, \"c\": np.float64})\n",
    "\n",
    "print(dft)\n",
    "#        a  b    c\n",
    "# 0   True  4  7.0\n",
    "# 1  False  5  8.0\n",
    "# 2   True  6  9.0\n",
    "\n",
    "print(dft.dtypes)\n",
    "# a       bool\n",
    "# b      int64\n",
    "# c    float64\n",
    "# dtype: object"
   ]
  },
  {
   "cell_type": "code",
   "execution_count": null,
   "metadata": {},
   "outputs": [],
   "source": []
  }
 ],
 "metadata": {
  "kernelspec": {
   "display_name": "myenv",
   "language": "python",
   "name": "python3"
  },
  "language_info": {
   "codemirror_mode": {
    "name": "ipython",
    "version": 3
   },
   "file_extension": ".py",
   "mimetype": "text/x-python",
   "name": "python",
   "nbconvert_exporter": "python",
   "pygments_lexer": "ipython3",
   "version": "3.11.5"
  },
  "orig_nbformat": 4
 },
 "nbformat": 4,
 "nbformat_minor": 2
}
