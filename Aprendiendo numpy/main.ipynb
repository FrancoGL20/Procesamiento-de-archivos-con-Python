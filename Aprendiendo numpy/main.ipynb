{
 "cells": [
  {
   "cell_type": "code",
   "execution_count": 1,
   "metadata": {},
   "outputs": [],
   "source": [
    "import numpy as np\n",
    "\n",
    "import pandas as pd"
   ]
  },
  {
   "cell_type": "code",
   "execution_count": 2,
   "metadata": {},
   "outputs": [
    {
     "name": "stdout",
     "output_type": "stream",
     "text": [
      "   Nombre  Edad  Edad_en_anios\n",
      "0    Juan    25            300\n",
      "1   María    30            360\n",
      "2  Carlos    28            336\n"
     ]
    }
   ],
   "source": [
    "data = {\n",
    "    'Nombre': ['Juan', 'María', 'Carlos'],\n",
    "    'Edad': [25, 30, 28]\n",
    "}\n",
    "\n",
    "df = pd.DataFrame(data)\n",
    "\n",
    "# Agregar una nueva columna de edades en meses\n",
    "edades_en_meses = [edad*12 for edad in df['Edad']]\n",
    "df['Edad_en_anios'] = edades_en_meses\n",
    "\n",
    "print(df)\n"
   ]
  },
  {
   "cell_type": "code",
   "execution_count": 3,
   "metadata": {},
   "outputs": [
    {
     "name": "stdout",
     "output_type": "stream",
     "text": [
      "0      Juan\n",
      "1     María\n",
      "2    Carlos\n",
      "Name: Nombre, dtype: object\n"
     ]
    }
   ],
   "source": [
    "import pandas as pd\n",
    "\n",
    "data = {\n",
    "    'Nombre': ['Juan', 'María', 'Carlos'],\n",
    "    'Edad': [25, 30, 28]\n",
    "}\n",
    "\n",
    "df = pd.DataFrame(data)\n",
    "\n",
    "print(df['Nombre'])\n",
    "# 0      Juan\n",
    "# 1     María\n",
    "# 2    Carlos\n",
    "# Name: Nombre, dtype: object"
   ]
  },
  {
   "cell_type": "code",
   "execution_count": 4,
   "metadata": {},
   "outputs": [
    {
     "name": "stdout",
     "output_type": "stream",
     "text": [
      "   Nombre  Edad     Ciudad\n",
      "0    Juan    25     Madrid\n",
      "1   María    30  Barcelona\n",
      "2  Carlos    28   Valencia\n",
      "   Nombre     Ciudad\n",
      "0    Juan     Madrid\n",
      "1   María  Barcelona\n",
      "2  Carlos   Valencia\n",
      "   Edad     Ciudad\n",
      "0    25     Madrid\n",
      "1    30  Barcelona\n"
     ]
    }
   ],
   "source": [
    "data = {\n",
    "    'Nombre': ['Juan', 'María', 'Carlos'],\n",
    "    'Edad': [25, 30, 28],\n",
    "    'Ciudad': ['Madrid', 'Barcelona', 'Valencia']\n",
    "}\n",
    "\n",
    "df = pd.DataFrame(data)\n",
    "\n",
    "print(df)\n",
    "#    Nombre  Edad     Ciudad\n",
    "# 0    Juan    25     Madrid\n",
    "# 1   María    30  Barcelona\n",
    "# 2  Carlos    28   Valencia\n",
    "\n",
    "print(df.loc[:, ['Nombre', 'Ciudad']])\n",
    "#    Nombre     Ciudad\n",
    "# 0    Juan     Madrid\n",
    "# 1   María  Barcelona\n",
    "# 2  Carlos   Valencia\n",
    "\n",
    "print(df.loc[:1, ['Edad', 'Ciudad']])\n",
    "#    Edad     Ciudad\n",
    "# 0    25     Madrid\n",
    "# 1    30  Barcelona"
   ]
  },
  {
   "cell_type": "code",
   "execution_count": 5,
   "metadata": {},
   "outputs": [
    {
     "name": "stdout",
     "output_type": "stream",
     "text": [
      "   Nombre  Edad Clasificación\n",
      "0    Juan    25         Joven\n",
      "1   María    30        Adulto\n",
      "2  Carlos    28         Joven\n"
     ]
    }
   ],
   "source": [
    "import pandas as pd\n",
    "\n",
    "data = {\n",
    "    'Nombre': ['Juan', 'María', 'Carlos'],\n",
    "    'Edad': [25, 30, 28]\n",
    "}\n",
    "\n",
    "df = pd.DataFrame(data)\n",
    "\n",
    "# Definir una función que clasifica a las personas por edad\n",
    "def clasificar_edad(edad):\n",
    "    if edad < 30:\n",
    "        return 'Joven'\n",
    "    else:\n",
    "        return 'Adulto'\n",
    "\n",
    "# Agregar una columna 'Clasificación' basada en la función\n",
    "df['Clasificación'] = df['Edad'].apply(clasificar_edad)\n",
    "\n",
    "print(df)\n",
    "#    Nombre  Edad Clasificación\n",
    "# 0    Juan    25         Joven\n",
    "# 1   María    30        Adulto\n",
    "# 2  Carlos    28         Joven"
   ]
  },
  {
   "cell_type": "code",
   "execution_count": 6,
   "metadata": {},
   "outputs": [
    {
     "name": "stdout",
     "output_type": "stream",
     "text": [
      "     name   class  max_speed\n",
      "0  falcon    bird      389.0\n",
      "1  parrot    bird       24.0\n",
      "2    lion  mammal       80.5\n",
      "3  monkey  mammal        NaN\n",
      "0      bird\n",
      "1      bird\n",
      "2    mammal\n",
      "3    mammal\n",
      "Name: class, dtype: object\n",
      "     name  max_speed\n",
      "0  falcon      389.0\n",
      "1  parrot       24.0\n",
      "2    lion       80.5\n",
      "3  monkey        NaN\n"
     ]
    }
   ],
   "source": [
    "df = pd.DataFrame([('falcon', 'bird', 389.0),\n",
    "                   ('parrot', 'bird', 24.0),\n",
    "                   ('lion', 'mammal', 80.5),\n",
    "                   ('monkey', 'mammal', np.nan)],\n",
    "                  columns=('name', 'class', 'max_speed'))\n",
    "\n",
    "print(df)\n",
    "#      name   class  max_speed\n",
    "# 0  falcon    bird      389.0\n",
    "# 1  parrot    bird       24.0\n",
    "# 2    lion  mammal       80.5\n",
    "# 3  monkey  mammal        NaN\n",
    "\n",
    "print(df.pop('class'))\n",
    "# 0      bird\n",
    "# 1      bird\n",
    "# 2    mammal\n",
    "# 3    mammal\n",
    "# Name: class, dtype: object\n",
    "\n",
    "print(df)\n",
    "#      name  max_speed\n",
    "# 0  falcon      389.0\n",
    "# 1  parrot       24.0\n",
    "# 2    lion       80.5\n",
    "# 3  monkey        NaN"
   ]
  },
  {
   "cell_type": "code",
   "execution_count": 7,
   "metadata": {},
   "outputs": [
    {
     "name": "stdout",
     "output_type": "stream",
     "text": [
      "    A\n",
      "0  10\n",
      "1  20\n",
      "2  30\n",
      "3  40\n",
      "4  50\n",
      "5  60\n",
      "6  70\n",
      "    A     B\n",
      "0  10  10.0\n",
      "1  20  20.0\n",
      "2  30  30.0\n",
      "3  40  40.0\n",
      "4  50  50.0\n",
      "5  60   NaN\n",
      "6  70   NaN\n"
     ]
    }
   ],
   "source": [
    "df=pd.DataFrame(np.arange(1,8)*10,columns=['A'])\n",
    "\n",
    "print(df)\n",
    "#     A\n",
    "# 0  10\n",
    "# 1  20\n",
    "# 2  30\n",
    "# 3  40\n",
    "# 4  50\n",
    "# 5  60\n",
    "# 6  70\n",
    "\n",
    "df['B']=df['A'][:5]\n",
    "\n",
    "print(df)\n",
    "#     A     B\n",
    "# 0  10  10.0\n",
    "# 1  20  20.0\n",
    "# 2  30  30.0\n",
    "# 3  40  40.0\n",
    "# 4  50  50.0\n",
    "# 5  60   NaN\n",
    "# 6  70   NaN"
   ]
  },
  {
   "cell_type": "code",
   "execution_count": 8,
   "metadata": {},
   "outputs": [
    {
     "name": "stdout",
     "output_type": "stream",
     "text": [
      "  Producto      Mes  Precio  Cantidad\n",
      "0        A    Enero      10         3\n",
      "1        B  Febrero      20         2\n",
      "2        C    Marzo      15         5\n"
     ]
    }
   ],
   "source": [
    "import pandas as pd\n",
    "\n",
    "data = {\n",
    "    'Producto': ['A', 'B', 'C'],\n",
    "    'Precio': [10, 20, 15],\n",
    "    'Cantidad': [3, 2, 5]\n",
    "}\n",
    "\n",
    "df = pd.DataFrame(data)\n",
    "\n",
    "# Insertar una nueva columna 'Mes' después de la columna 'Producto'\n",
    "meses = ['Enero', 'Febrero', 'Marzo']\n",
    "df.insert(loc=1, column='Mes', value=meses)\n",
    "\n",
    "print(df)\n",
    "#   Producto      Mes  Precio  Cantidad\n",
    "# 0        A    Enero      10         3\n",
    "# 1        B  Febrero      20         2\n",
    "# 2        C    Marzo      15         5"
   ]
  },
  {
   "cell_type": "code",
   "execution_count": 9,
   "metadata": {},
   "outputs": [
    {
     "name": "stdout",
     "output_type": "stream",
     "text": [
      "   col1  col2\n",
      "0     1     3\n",
      "1     2     4\n",
      "   col1  newcol  col2\n",
      "0     1      99     3\n",
      "1     2      99     4\n",
      "   col1  col1  newcol  col2\n",
      "0   100     1      99     3\n",
      "1   100     2      99     4\n"
     ]
    }
   ],
   "source": [
    "df = pd.DataFrame({'col1': [1, 2], 'col2': [3, 4]})\n",
    "print(df)\n",
    "#    col1  col2\n",
    "# 0     1     3\n",
    "# 1     2     4\n",
    "df.insert(1, \"newcol\", [99, 99])\n",
    "print(df)\n",
    "#    col1  newcol  col2\n",
    "# 0     1      99     3\n",
    "# 1     2      99     4\n",
    "df.insert(0, \"col1\", [100, 100], allow_duplicates=True)\n",
    "print(df)\n",
    "#    col1  col1  newcol  col2\n",
    "# 0   100     1      99     3\n",
    "# 1   100     2      99     4"
   ]
  },
  {
   "cell_type": "code",
   "execution_count": 10,
   "metadata": {},
   "outputs": [
    {
     "name": "stdout",
     "output_type": "stream",
     "text": [
      "          temp_c\n",
      "Portland    17.0\n",
      "Berkeley    25.0\n",
      "          temp_c  temp_f\n",
      "Portland    17.0    62.6\n",
      "Berkeley    25.0    77.0\n",
      "          temp_c  temp_f\n",
      "Portland    17.0    62.6\n",
      "Berkeley    25.0    77.0\n"
     ]
    }
   ],
   "source": [
    "df = pd.DataFrame({'temp_c': [17.0, 25.0]},\n",
    "                  index=['Portland', 'Berkeley'])\n",
    "\n",
    "print(df)\n",
    "\n",
    "print(df.assign(temp_f=lambda x: x.temp_c * 9 / 5 + 32))\n",
    "print(df.assign(temp_f=lambda x: x['temp_c'] * 9 / 5 + 32))"
   ]
  },
  {
   "cell_type": "code",
   "execution_count": 11,
   "metadata": {},
   "outputs": [
    {
     "name": "stdout",
     "output_type": "stream",
     "text": [
      "0      Juan\n",
      "1     María\n",
      "2    Carlos\n",
      "Name: Nombre, dtype: object\n"
     ]
    }
   ],
   "source": [
    "import pandas as pd\n",
    "\n",
    "data = {\n",
    "    'Nombre': ['Juan', 'María', 'Carlos'],\n",
    "    'Edad': [25, 30, 28],\n",
    "    'Ciudad Nacimiento': ['Madrid', 'Barcelona', 'Valencia']\n",
    "}\n",
    "\n",
    "df = pd.DataFrame(data)\n",
    "\n",
    "# Acceder a la columna 'Nombre' usando la notación de punto\n",
    "nombres = df.Nombre\n",
    "\n",
    "print(nombres)\n",
    "# 0      Juan\n",
    "# 1     María\n",
    "# 2    Carlos\n",
    "# Name: Nombre, dtype: object"
   ]
  },
  {
   "cell_type": "code",
   "execution_count": 12,
   "metadata": {},
   "outputs": [
    {
     "name": "stdout",
     "output_type": "stream",
     "text": [
      "          temp_c\n",
      "Portland    17.0\n",
      "Berkeley    25.0\n",
      "          temp_c  temp_f\n",
      "Portland    17.0    62.6\n",
      "Berkeley    25.0    77.0\n",
      "          temp_c  temp_f\n",
      "Portland    17.0    62.6\n",
      "Berkeley    25.0    77.0\n",
      "          temp_c  temp_f  temp_k\n",
      "Portland    17.0    62.6  290.15\n",
      "Berkeley    25.0    77.0  298.15\n",
      "          temp_c   temp_f  temp_k\n",
      "Portland    17.0  10062.6  290.15\n",
      "Berkeley    25.0  10077.0  298.15\n"
     ]
    }
   ],
   "source": [
    "df = pd.DataFrame({'temp_c': [17.0, 25.0]},\n",
    "                  index=['Portland', 'Berkeley'])\n",
    "print(df)\n",
    "#           temp_c\n",
    "# Portland    17.0\n",
    "# Berkeley    25.0\n",
    "\n",
    "\n",
    "# Cuando el valor es un callable, se pasa el dataframe entero y se espera que devuelva una serie de valores indexados\n",
    "print(df.assign(temp_f=lambda x: x.temp_c * 9 / 5 + 32)) # Notación de punto\n",
    "#           temp_c  temp_f\n",
    "# Portland    17.0    62.6\n",
    "# Berkeley    25.0    77.0\n",
    "print(df.assign(temp_f=lambda x: x['temp_c'] * 9 / 5 + 32)) # Notación de corchetes\n",
    "#           temp_c  temp_f\n",
    "# Portland    17.0    62.6\n",
    "# Berkeley    25.0    77.0\n",
    "\n",
    "\n",
    "# Asignar varias columnas a la vez (chaining o encadenamiento)\n",
    "df=df.assign(temp_f=lambda x: x.temp_c * 9 / 5 + 32,\n",
    "                temp_k=lambda x: (x.temp_f +  459.67) * 5 / 9)\n",
    "print(df)\n",
    "#           temp_c  temp_f  temp_k\n",
    "# Portland    17.0    62.6  290.15\n",
    "# Berkeley    25.0    77.0  298.15\n",
    "\n",
    "\n",
    "# Sobreescribir una columna existente\n",
    "df=df.assign(temp_f=lambda x: (x.temp_c * 9 / 5 + 32)+10000) # Valor solo para ejemplo (sobreescribe la columna temp_f)\n",
    "print(df)\n",
    "#           temp_c   temp_f  temp_k\n",
    "# Portland    17.0  10062.6  290.15\n",
    "# Berkeley    25.0  10077.0  298.15\n"
   ]
  },
  {
   "cell_type": "code",
   "execution_count": 13,
   "metadata": {},
   "outputs": [
    {
     "name": "stdout",
     "output_type": "stream",
     "text": [
      "    A\n",
      "0  10\n",
      "1  20\n",
      "2  30\n",
      "3  40\n",
      "4  50\n",
      "5  60\n",
      "6  70\n",
      "    A\n",
      "1  20\n",
      "2  30\n",
      "3  40\n",
      "4  50\n"
     ]
    }
   ],
   "source": [
    "df=pd.DataFrame(np.arange(1,8)*10,columns=['A'])\n",
    "print(df)\n",
    "print(df[1:5])"
   ]
  },
  {
   "cell_type": "code",
   "execution_count": 14,
   "metadata": {},
   "outputs": [
    {
     "name": "stdout",
     "output_type": "stream",
     "text": [
      "   0  1  2\n",
      "A  0  3  6\n",
      "B  1  4  7\n",
      "C  2  5  8\n"
     ]
    }
   ],
   "source": [
    "print(pd.DataFrame(np.arange(9).reshape(3,3),columns=['A','B','C']).transpose())"
   ]
  },
  {
   "cell_type": "code",
   "execution_count": 16,
   "metadata": {},
   "outputs": [
    {
     "name": "stdout",
     "output_type": "stream",
     "text": [
      "          A         B         C   D\n",
      "0 -2.222504  0.143436  0.679872 NaN\n",
      "1 -0.655604 -0.574030  0.077212 NaN\n",
      "2  1.361765 -1.095438  0.169000 NaN\n",
      "3  0.300353 -0.171156 -0.957518 NaN\n",
      "4  0.852689  0.391679  0.028823 NaN\n",
      "5  0.101004  1.736690 -2.101960 NaN\n",
      "6  1.487226 -1.258533 -0.161016 NaN\n",
      "7       NaN       NaN       NaN NaN\n",
      "8       NaN       NaN       NaN NaN\n",
      "9       NaN       NaN       NaN NaN\n"
     ]
    }
   ],
   "source": [
    "# DF con 10 filas y 4 columnas\n",
    "df = pd.DataFrame(np.random.randn(10, 4), columns=[\"A\", \"B\", \"C\", \"D\"])\n",
    "\n",
    "# DF con 7 filas y 3 columnas\n",
    "df2 = pd.DataFrame(np.random.randn(7, 3), columns=[\"A\", \"B\", \"C\"])\n",
    "\n",
    "# El resultado de la suma de ambos DF es un DF con 10 filas y 4 columnas\n",
    "# pero solo se suman las columnas que tienen el mismo nombre\n",
    "# las demás columnas se rellenan con NaN\n",
    "print(df + df2)\n",
    "#           A         B         C   D\n",
    "# 0 -2.222504  0.143436  0.679872 NaN\n",
    "# 1 -0.655604 -0.574030  0.077212 NaN\n",
    "# 2  1.361765 -1.095438  0.169000 NaN\n",
    "# 3  0.300353 -0.171156 -0.957518 NaN\n",
    "# 4  0.852689  0.391679  0.028823 NaN\n",
    "# 5  0.101004  1.736690 -2.101960 NaN\n",
    "# 6  1.487226 -1.258533 -0.161016 NaN\n",
    "# 7       NaN       NaN       NaN NaN\n",
    "# 8       NaN       NaN       NaN NaN\n",
    "# 9       NaN       NaN       NaN NaN"
   ]
  },
  {
   "cell_type": "code",
   "execution_count": 22,
   "metadata": {},
   "outputs": [
    {
     "name": "stdout",
     "output_type": "stream",
     "text": [
      "          A         B         C         D\n",
      "0  0.355537 -0.096981 -0.587880 -0.886987\n",
      "1 -1.712256  0.587684 -0.493939  0.181398\n",
      "2  0.600762 -2.862581 -0.750277  1.320032\n",
      "3  1.023752  0.461318  0.326721 -0.148487\n",
      "4  1.547429  1.935589  1.080260 -1.733394\n",
      "          A          B         C         D\n",
      "0  3.777687   1.515093 -0.939400 -2.434933\n",
      "1 -6.561278   4.938422 -0.469695  2.906991\n",
      "2  5.003808 -12.312905 -1.751384  8.600159\n",
      "3  7.118759   4.306592  3.633603  1.257566\n",
      "4  9.737145  11.677946  7.401298 -6.666972\n",
      "          A          B         C         D\n",
      "0  2.812644 -10.311246 -1.701028 -1.127413\n",
      "1 -0.584025   1.701593 -2.024542  5.512733\n",
      "2  1.664554  -0.349335 -1.332841  0.757558\n",
      "3  0.976799   2.167700  3.060718 -6.734604\n",
      "4  0.646233   0.516639  0.925703 -0.576903\n",
      "          A          B         C         D\n",
      "0  0.015979   0.000088  0.119441  0.618968\n",
      "1  8.595566   0.119283  0.059524  0.001083\n",
      "2  0.130259  67.147691  0.316874  3.036250\n",
      "3  1.098446   0.045290  0.011395  0.000486\n",
      "4  5.733806  14.036302  1.361797  9.027960\n"
     ]
    }
   ],
   "source": [
    "df = pd.DataFrame(np.random.randn(5, 4), columns=[\"A\", \"B\", \"C\", \"D\"])\n",
    "print(df)\n",
    "#           A         B         C         D\n",
    "# 0  0.355537 -0.096981 -0.587880 -0.886987\n",
    "# 1 -1.712256  0.587684 -0.493939  0.181398\n",
    "# 2  0.600762 -2.862581 -0.750277  1.320032\n",
    "# 3  1.023752  0.461318  0.326721 -0.148487\n",
    "# 4  1.547429  1.935589  1.080260 -1.733394\n",
    "\n",
    "print(df * 5 + 2)\n",
    "#           A          B         C         D\n",
    "# 0  3.777687   1.515093 -0.939400 -2.434933\n",
    "# 1 -6.561278   4.938422 -0.469695  2.906991\n",
    "# 2  5.003808 -12.312905 -1.751384  8.600159\n",
    "# 3  7.118759   4.306592  3.633603  1.257566\n",
    "# 4  9.737145  11.677946  7.401298 -6.666972\n",
    "\n",
    "print(1 / df)\n",
    "#           A          B         C         D\n",
    "# 0  2.812644 -10.311246 -1.701028 -1.127413\n",
    "# 1 -0.584025   1.701593 -2.024542  5.512733\n",
    "# 2  1.664554  -0.349335 -1.332841  0.757558\n",
    "# 3  0.976799   2.167700  3.060718 -6.734604\n",
    "# 4  0.646233   0.516639  0.925703 -0.576903\n",
    "\n",
    "print(df ** 4)\n",
    "#           A          B         C         D\n",
    "# 0  0.015979   0.000088  0.119441  0.618968\n",
    "# 1  8.595566   0.119283  0.059524  0.001083\n",
    "# 2  0.130259  67.147691  0.316874  3.036250\n",
    "# 3  1.098446   0.045290  0.011395  0.000486\n",
    "# 4  5.733806  14.036302  1.361797  9.027960"
   ]
  }
 ],
 "metadata": {
  "kernelspec": {
   "display_name": "myenv",
   "language": "python",
   "name": "python3"
  },
  "language_info": {
   "codemirror_mode": {
    "name": "ipython",
    "version": 3
   },
   "file_extension": ".py",
   "mimetype": "text/x-python",
   "name": "python",
   "nbconvert_exporter": "python",
   "pygments_lexer": "ipython3",
   "version": "3.11.1"
  },
  "orig_nbformat": 4
 },
 "nbformat": 4,
 "nbformat_minor": 2
}
