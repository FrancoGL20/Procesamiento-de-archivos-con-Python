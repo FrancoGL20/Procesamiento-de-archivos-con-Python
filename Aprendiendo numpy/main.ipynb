{
 "cells": [
  {
   "cell_type": "code",
   "execution_count": 5,
   "metadata": {},
   "outputs": [],
   "source": [
    "import numpy as np\n",
    "\n",
    "i\n",
    "\n",
    "port pandas as pd"
   ]
  },
  {
   "cell_type": "code",
   "execution_count": 33,
   "metadata": {},
   "outputs": [
    {
     "name": "stdout",
     "output_type": "stream",
     "text": [
      "ejemplo\n",
      "renamed_example\n",
      "0    100.0\n",
      "1      1.0\n",
      "2      2.0\n",
      "3      3.0\n",
      "4      4.0\n",
      "Name: renamed_example, dtype: float64\n",
      "0    0.0\n",
      "1    1.0\n",
      "2    2.0\n",
      "3    3.0\n",
      "4    4.0\n",
      "Name: ejemplo, dtype: float64\n"
     ]
    }
   ],
   "source": [
    "s = pd.Series(np.arange(5.0), name=\"ejemplo\")\n",
    "print(s.name)\n",
    "# ejemplo\n",
    "\n",
    "s2 = s.rename(\"renamed_example\")\n",
    "print(s2.name)\n",
    "# renamed_example\n",
    "\n",
    "# Se crea una copia de s\n",
    "s2[0] = 100\n",
    "print(s2)\n",
    "# 0    100.0\n",
    "# 1      1.0\n",
    "# 2      2.0\n",
    "# 3      3.0\n",
    "# 4      4.0\n",
    "# Name: renamed_example, dtype: float64\n",
    "print(s)\n",
    "# 0    0.0\n",
    "# 1    1.0\n",
    "# 2    2.0\n",
    "# 3    3.0\n",
    "# 4    4.0\n",
    "# Name: ejemplo, dtype: float64"
   ]
  },
  {
   "cell_type": "code",
   "execution_count": 39,
   "metadata": {},
   "outputs": [
    {
     "name": "stdout",
     "output_type": "stream",
     "text": [
      "   one  two\n",
      "a  1.0  1.0\n",
      "b  2.0  2.0\n",
      "c  3.0  3.0\n",
      "d  NaN  4.0\n",
      "   one  two\n",
      "d  NaN  4.0\n",
      "b  2.0  2.0\n",
      "a  1.0  1.0\n",
      "   two three\n",
      "d  4.0   NaN\n",
      "b  2.0   NaN\n",
      "a  1.0   NaN\n",
      "Index(['a', 'b', 'c', 'd'], dtype='object')\n",
      "Index(['one', 'two'], dtype='object')\n"
     ]
    }
   ],
   "source": [
    "# Diccionario de series\n",
    "d = {\n",
    "    \"one\": pd.Series([1.0, 2.0, 3.0], index=[\"a\", \"b\", \"c\"]),\n",
    "    \"two\": pd.Series([1.0, 2.0, 3.0, 4.0], index=[\"a\", \"b\", \"c\", \"d\"]),\n",
    "}\n",
    "\n",
    "# Se crea un DataFrame a partir del diccionario\n",
    "print(pd.DataFrame(d))\n",
    "#    one  two\n",
    "# a  1.0  1.0\n",
    "# b  2.0  2.0\n",
    "# c  3.0  3.0\n",
    "# d  NaN  4.0\n",
    "\n",
    "# Se especifican los índices que se quieren mostrar\n",
    "print(pd.DataFrame(d, index=[\"d\", \"b\", \"a\"]))\n",
    "#    one  two\n",
    "# d  NaN  4.0\n",
    "# b  2.0  2.0\n",
    "# a  1.0  1.0\n",
    "\n",
    "# Se especifican los índices y columnas que se quieren mostrar\n",
    "print(pd.DataFrame(d, index=[\"d\", \"b\", \"a\"], columns=[\"two\", \"three\"]))\n",
    "#    two three\n",
    "# d  4.0   NaN\n",
    "# b  2.0   NaN\n",
    "# a  1.0   NaN\n",
    "\n",
    "print(pd.DataFrame(d).index)\n",
    "# Index(['a', 'b', 'c', 'd'], dtype='object')\n",
    "\n",
    "print(pd.DataFrame(d).columns)\n",
    "# Index(['one', 'two'], dtype='object')"
   ]
  },
  {
   "cell_type": "code",
   "execution_count": null,
   "metadata": {},
   "outputs": [],
   "source": [
    "d = {\"one\": [1.0, 2.0, 3.0, 4.0], \"two\": [4.0, 3.0, 2.0, 1.0]}\n",
    "\n",
    "pd.DataFrame(d)\n",
    "\n",
    "pd.DataFrame(d, index=[\"a\", \"b\", \"c\", \"d\"])\n"
   ]
  }
 ],
 "metadata": {
  "kernelspec": {
   "display_name": "myenv",
   "language": "python",
   "name": "python3"
  },
  "language_info": {
   "codemirror_mode": {
    "name": "ipython",
    "version": 3
   },
   "file_extension": ".py",
   "mimetype": "text/x-python",
   "name": "python",
   "nbconvert_exporter": "python",
   "pygments_lexer": "ipython3",
   "version": "3.11.1"
  },
  "orig_nbformat": 4
 },
 "nbformat": 4,
 "nbformat_minor": 2
}
