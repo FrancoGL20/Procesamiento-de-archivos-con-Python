{
 "cells": [
  {
   "cell_type": "code",
   "execution_count": 1,
   "metadata": {},
   "outputs": [],
   "source": [
    "import numpy as np\n",
    "\n",
    "import pandas as pd"
   ]
  },
  {
   "cell_type": "code",
   "execution_count": 2,
   "metadata": {},
   "outputs": [],
   "source": [
    "index = pd.date_range(\"1/1/2000\", periods=8)\n",
    "\n",
    "s = pd.Series(np.random.randn(5), index=[\"a\", \"b\", \"c\", \"d\", \"e\"])\n",
    "\n",
    "df = pd.DataFrame(np.random.randn(8, 3), index=index, columns=[\"A\", \"B\", \"C\"])\n",
    "\n",
    "df = pd.DataFrame(\n",
    "    {\n",
    "        \"one\": pd.Series(np.random.randn(3), index=[\"a\", \"b\", \"c\"]),\n",
    "        \"two\": pd.Series(np.random.randn(4), index=[\"a\", \"b\", \"c\", \"d\"]),\n",
    "        \"three\": pd.Series(np.random.randn(3), index=[\"b\", \"c\", \"d\"]),\n",
    "    }\n",
    ")"
   ]
  },
  {
   "cell_type": "code",
   "execution_count": 6,
   "metadata": {},
   "outputs": [
    {
     "name": "stdout",
     "output_type": "stream",
     "text": [
      "   Salary  Others\n",
      "0    8000  1000.0\n",
      "1    9500     NaN\n",
      "2    5000  2000.0\n",
      "    Salary   Others\n",
      "0  5892.48   736.56\n",
      "1  6997.32      NaN\n",
      "2  3682.80  1473.12\n"
     ]
    }
   ],
   "source": [
    "df = pd.DataFrame(\n",
    "    {\n",
    "        \"one\": pd.Series(np.random.randn(3), index=[\"a\", \"b\", \"c\"]),\n",
    "        \"two\": pd.Series(np.random.randn(4), index=[\"a\", \"b\", \"c\", \"d\"]),\n",
    "        \"three\": pd.Series(np.random.randn(3), index=[\"b\", \"c\", \"d\"]),\n",
    "    }\n",
    ")\n",
    "\n",
    "df.apply(lambda x: np.mean(x))\n",
    "# one      0.811094\n",
    "# two      1.360588\n",
    "# three    0.187958\n",
    "# dtype: float64\n",
    "\n",
    "df.apply(lambda x: np.mean(x), axis=1)\n",
    "# a    1.583749\n",
    "# b    0.734929\n",
    "# c    1.133683\n",
    "# d   -0.166914\n",
    "# dtype: float64\n",
    "\n",
    "df.apply(lambda x: x.max() - x.min())\n",
    "# one      1.051928\n",
    "# two      1.632779\n",
    "# three    1.840607\n",
    "# dtype: float64\n",
    "\n",
    "df.apply(np.cumsum)\n",
    "#         one       two     three\n",
    "# a  1.394981  1.772517       NaN\n",
    "# b  1.738035  3.684640 -0.050390\n",
    "# c  2.433281  5.163008  1.177045\n",
    "# d       NaN  5.442353  0.563873\n",
    "\n",
    "df.apply(np.exp)\n",
    "#         one       two     three\n",
    "# a  4.034899  5.885648       NaN\n",
    "# b  1.409244  6.767440  0.950858\n",
    "# c  2.004201  4.385785  3.412466\n",
    "# d       NaN  1.322262  0.541630"
   ]
  },
  {
   "cell_type": "code",
   "execution_count": 7,
   "metadata": {},
   "outputs": [
    {
     "name": "stdout",
     "output_type": "stream",
     "text": [
      "   A  B\n",
      "0  4  9\n",
      "1  4  9\n",
      "2  4  9\n",
      "     A    B\n",
      "0  2.0  3.0\n",
      "1  2.0  3.0\n",
      "2  2.0  3.0\n",
      "A    12\n",
      "B    27\n",
      "dtype: int64\n",
      "0    13\n",
      "1    13\n",
      "2    13\n",
      "dtype: int64\n"
     ]
    }
   ],
   "source": [
    "df = pd.DataFrame([[4, 9]] * 3, columns=['A', 'B'])\n",
    "print(df)\n",
    "#    A  B\n",
    "# 0  4  9\n",
    "# 1  4  9\n",
    "# 2  4  9\n",
    "\n",
    "# Usando una función universal numpy (en este caso igual que np.sqrt(df)):\n",
    "print(df.apply(np.sqrt))\n",
    "#      A    B\n",
    "# 0  2.0  3.0\n",
    "# 1  2.0  3.0\n",
    "# 2  2.0  3.0\n",
    "\n",
    "# Using a reducing function on either axis\n",
    "print(df.apply(np.sum, axis=0))\n",
    "# A    12\n",
    "# B    27\n",
    "# dtype: int64\n",
    "\n",
    "print(df.apply(np.sum, axis=1))\n",
    "# 0    13\n",
    "# 1    13\n",
    "# 2    13\n",
    "# dtype: int64"
   ]
  },
  {
   "cell_type": "code",
   "execution_count": null,
   "metadata": {},
   "outputs": [],
   "source": [
    "# Pasar result_type='expand' expandirá los resultados tipo lista a las columnas de un Dataframe\n",
    "df.apply(lambda x: [1, 2], axis=1, result_type='expand')\n",
    "#    0  1\n",
    "# 0  1  2\n",
    "# 1  1  2\n",
    "# 2  1  2\n",
    "\n",
    "# Devolver una serie dentro de la función es similar a pasar result_type='expand'. Los nombres de columna resultantes serán el índice de la serie.\n",
    "df.apply(lambda x: pd.Series([1, 2], index=['foo', 'bar']), axis=1)\n",
    "#    foo  bar\n",
    "# 0    1    2\n",
    "# 1    1    2\n",
    "# 2    1    2\n",
    "\n",
    "# Pasar result_type='broadcast' asegurará el mismo resultado de forma, ya sea como lista o escalar es devuelto por la función, y lo transmite a lo largo del eje. Los nombres de columna resultantes serán los originales.\n",
    "df.apply(lambda x: [1, 2], axis=1, result_type='broadcast')\n",
    "#    A  B\n",
    "# 0  1  2\n",
    "# 1  1  2\n",
    "# 2  1  2"
   ]
  },
  {
   "cell_type": "code",
   "execution_count": null,
   "metadata": {},
   "outputs": [],
   "source": [
    "df = pd.DataFrame([[1, 2, 3],\n",
    "                   [4, 5, 6],\n",
    "                   [7, 8, 9],\n",
    "                   [np.nan, np.nan, np.nan]],\n",
    "                  columns=['A', 'B', 'C'])\n",
    "\n",
    "# Aggregate these functions over the rows.\n",
    "df.agg(['sum', 'min'])\n",
    "#         A     B     C\n",
    "# sum  12.0  15.0  18.0\n",
    "# min   1.0   2.0   3.0\n",
    "\n",
    "# Different aggregations per column.\n",
    "df.agg({'A' : ['sum', 'min'], 'B' : ['min', 'max']})\n",
    "#         A    B\n",
    "# sum  12.0  NaN\n",
    "# min   1.0  2.0\n",
    "# max   NaN  8.0\n",
    "\n",
    "# Aggregate different functions over the columns and rename the index of the resulting DataFrame.\n",
    "df.agg(x=('A', 'max'), y=('B', 'min'), z=('C', 'mean'))\n",
    "#      A    B    C\n",
    "# x  7.0  NaN  NaN\n",
    "# y  NaN  2.0  NaN\n",
    "# z  NaN  NaN  6.0\n",
    "\n",
    "# Aggregate over the columns.\n",
    "df.agg(\"mean\", axis=\"columns\")\n",
    "# 0    2.0\n",
    "# 1    5.0\n",
    "# 2    8.0\n",
    "# 3    NaN\n",
    "# dtype: float64"
   ]
  }
 ],
 "metadata": {
  "kernelspec": {
   "display_name": "myenv",
   "language": "python",
   "name": "python3"
  },
  "language_info": {
   "codemirror_mode": {
    "name": "ipython",
    "version": 3
   },
   "file_extension": ".py",
   "mimetype": "text/x-python",
   "name": "python",
   "nbconvert_exporter": "python",
   "pygments_lexer": "ipython3",
   "version": "3.11.1"
  },
  "orig_nbformat": 4
 },
 "nbformat": 4,
 "nbformat_minor": 2
}
