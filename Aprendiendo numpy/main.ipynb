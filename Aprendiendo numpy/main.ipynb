{
 "cells": [
  {
   "cell_type": "code",
   "execution_count": 2,
   "metadata": {},
   "outputs": [],
   "source": [
    "import numpy as np\n",
    "\n",
    "import pandas as pd"
   ]
  },
  {
   "cell_type": "code",
   "execution_count": 3,
   "metadata": {},
   "outputs": [
    {
     "name": "stdout",
     "output_type": "stream",
     "text": [
      "   Nombre  Edad  Edad_en_anios\n",
      "0    Juan    25            300\n",
      "1   María    30            360\n",
      "2  Carlos    28            336\n"
     ]
    }
   ],
   "source": [
    "data = {\n",
    "    'Nombre': ['Juan', 'María', 'Carlos'],\n",
    "    'Edad': [25, 30, 28]\n",
    "}\n",
    "\n",
    "df = pd.DataFrame(data)\n",
    "\n",
    "# Agregar una nueva columna de edades en meses\n",
    "edades_en_meses = [edad*12 for edad in df['Edad']]\n",
    "df['Edad_en_anios'] = edades_en_meses\n",
    "\n",
    "print(df)\n"
   ]
  },
  {
   "cell_type": "code",
   "execution_count": 4,
   "metadata": {},
   "outputs": [
    {
     "name": "stdout",
     "output_type": "stream",
     "text": [
      "0      Juan\n",
      "1     María\n",
      "2    Carlos\n",
      "Name: Nombre, dtype: object\n"
     ]
    }
   ],
   "source": [
    "import pandas as pd\n",
    "\n",
    "data = {\n",
    "    'Nombre': ['Juan', 'María', 'Carlos'],\n",
    "    'Edad': [25, 30, 28]\n",
    "}\n",
    "\n",
    "df = pd.DataFrame(data)\n",
    "\n",
    "print(df['Nombre'])\n",
    "# 0      Juan\n",
    "# 1     María\n",
    "# 2    Carlos\n",
    "# Name: Nombre, dtype: object"
   ]
  },
  {
   "cell_type": "code",
   "execution_count": 5,
   "metadata": {},
   "outputs": [
    {
     "name": "stdout",
     "output_type": "stream",
     "text": [
      "   Nombre  Edad     Ciudad\n",
      "0    Juan    25     Madrid\n",
      "1   María    30  Barcelona\n",
      "2  Carlos    28   Valencia\n",
      "   Nombre     Ciudad\n",
      "0    Juan     Madrid\n",
      "1   María  Barcelona\n",
      "2  Carlos   Valencia\n",
      "   Edad     Ciudad\n",
      "0    25     Madrid\n",
      "1    30  Barcelona\n"
     ]
    }
   ],
   "source": [
    "data = {\n",
    "    'Nombre': ['Juan', 'María', 'Carlos'],\n",
    "    'Edad': [25, 30, 28],\n",
    "    'Ciudad': ['Madrid', 'Barcelona', 'Valencia']\n",
    "}\n",
    "\n",
    "df = pd.DataFrame(data)\n",
    "\n",
    "print(df)\n",
    "#    Nombre  Edad     Ciudad\n",
    "# 0    Juan    25     Madrid\n",
    "# 1   María    30  Barcelona\n",
    "# 2  Carlos    28   Valencia\n",
    "\n",
    "print(df.loc[:, ['Nombre', 'Ciudad']])\n",
    "#    Nombre     Ciudad\n",
    "# 0    Juan     Madrid\n",
    "# 1   María  Barcelona\n",
    "# 2  Carlos   Valencia\n",
    "\n",
    "print(df.loc[:1, ['Edad', 'Ciudad']])\n",
    "#    Edad     Ciudad\n",
    "# 0    25     Madrid\n",
    "# 1    30  Barcelona"
   ]
  },
  {
   "cell_type": "code",
   "execution_count": 6,
   "metadata": {},
   "outputs": [
    {
     "name": "stdout",
     "output_type": "stream",
     "text": [
      "   Nombre  Edad Clasificación\n",
      "0    Juan    25         Joven\n",
      "1   María    30        Adulto\n",
      "2  Carlos    28         Joven\n"
     ]
    }
   ],
   "source": [
    "import pandas as pd\n",
    "\n",
    "data = {\n",
    "    'Nombre': ['Juan', 'María', 'Carlos'],\n",
    "    'Edad': [25, 30, 28]\n",
    "}\n",
    "\n",
    "df = pd.DataFrame(data)\n",
    "\n",
    "# Definir una función que clasifica a las personas por edad\n",
    "def clasificar_edad(edad):\n",
    "    if edad < 30:\n",
    "        return 'Joven'\n",
    "    else:\n",
    "        return 'Adulto'\n",
    "\n",
    "# Agregar una columna 'Clasificación' basada en la función\n",
    "df['Clasificación'] = df['Edad'].apply(clasificar_edad)\n",
    "\n",
    "print(df)\n",
    "#    Nombre  Edad Clasificación\n",
    "# 0    Juan    25         Joven\n",
    "# 1   María    30        Adulto\n",
    "# 2  Carlos    28         Joven"
   ]
  },
  {
   "cell_type": "code",
   "execution_count": 7,
   "metadata": {},
   "outputs": [
    {
     "name": "stdout",
     "output_type": "stream",
     "text": [
      "     name   class  max_speed\n",
      "0  falcon    bird      389.0\n",
      "1  parrot    bird       24.0\n",
      "2    lion  mammal       80.5\n",
      "3  monkey  mammal        NaN\n",
      "0      bird\n",
      "1      bird\n",
      "2    mammal\n",
      "3    mammal\n",
      "Name: class, dtype: object\n",
      "     name  max_speed\n",
      "0  falcon      389.0\n",
      "1  parrot       24.0\n",
      "2    lion       80.5\n",
      "3  monkey        NaN\n"
     ]
    }
   ],
   "source": [
    "df = pd.DataFrame([('falcon', 'bird', 389.0),\n",
    "                   ('parrot', 'bird', 24.0),\n",
    "                   ('lion', 'mammal', 80.5),\n",
    "                   ('monkey', 'mammal', np.nan)],\n",
    "                  columns=('name', 'class', 'max_speed'))\n",
    "\n",
    "print(df)\n",
    "#      name   class  max_speed\n",
    "# 0  falcon    bird      389.0\n",
    "# 1  parrot    bird       24.0\n",
    "# 2    lion  mammal       80.5\n",
    "# 3  monkey  mammal        NaN\n",
    "\n",
    "print(df.pop('class'))\n",
    "# 0      bird\n",
    "# 1      bird\n",
    "# 2    mammal\n",
    "# 3    mammal\n",
    "# Name: class, dtype: object\n",
    "\n",
    "print(df)\n",
    "#      name  max_speed\n",
    "# 0  falcon      389.0\n",
    "# 1  parrot       24.0\n",
    "# 2    lion       80.5\n",
    "# 3  monkey        NaN"
   ]
  },
  {
   "cell_type": "code",
   "execution_count": 12,
   "metadata": {},
   "outputs": [
    {
     "name": "stdout",
     "output_type": "stream",
     "text": [
      "    A\n",
      "0  10\n",
      "1  20\n",
      "2  30\n",
      "3  40\n",
      "4  50\n",
      "5  60\n",
      "6  70\n",
      "    A     B\n",
      "0  10  10.0\n",
      "1  20  20.0\n",
      "2  30  30.0\n",
      "3  40  40.0\n",
      "4  50  50.0\n",
      "5  60   NaN\n",
      "6  70   NaN\n"
     ]
    }
   ],
   "source": [
    "df=pd.DataFrame(np.arange(1,8)*10,columns=['A'])\n",
    "\n",
    "print(df)\n",
    "#     A\n",
    "# 0  10\n",
    "# 1  20\n",
    "# 2  30\n",
    "# 3  40\n",
    "# 4  50\n",
    "# 5  60\n",
    "# 6  70\n",
    "\n",
    "df['B']=df['A'][:5]\n",
    "\n",
    "print(df)\n",
    "#     A     B\n",
    "# 0  10  10.0\n",
    "# 1  20  20.0\n",
    "# 2  30  30.0\n",
    "# 3  40  40.0\n",
    "# 4  50  50.0\n",
    "# 5  60   NaN\n",
    "# 6  70   NaN"
   ]
  },
  {
   "cell_type": "code",
   "execution_count": 13,
   "metadata": {},
   "outputs": [
    {
     "name": "stdout",
     "output_type": "stream",
     "text": [
      "  Producto      Mes  Precio  Cantidad\n",
      "0        A    Enero      10         3\n",
      "1        B  Febrero      20         2\n",
      "2        C    Marzo      15         5\n"
     ]
    }
   ],
   "source": [
    "import pandas as pd\n",
    "\n",
    "data = {\n",
    "    'Producto': ['A', 'B', 'C'],\n",
    "    'Precio': [10, 20, 15],\n",
    "    'Cantidad': [3, 2, 5]\n",
    "}\n",
    "\n",
    "df = pd.DataFrame(data)\n",
    "\n",
    "# Insertar una nueva columna 'Mes' después de la columna 'Producto'\n",
    "meses = ['Enero', 'Febrero', 'Marzo']\n",
    "df.insert(loc=1, column='Mes', value=meses)\n",
    "\n",
    "print(df)\n",
    "#   Producto      Mes  Precio  Cantidad\n",
    "# 0        A    Enero      10         3\n",
    "# 1        B  Febrero      20         2\n",
    "# 2        C    Marzo      15         5"
   ]
  },
  {
   "cell_type": "code",
   "execution_count": 14,
   "metadata": {},
   "outputs": [
    {
     "name": "stdout",
     "output_type": "stream",
     "text": [
      "   col1  col2\n",
      "0     1     3\n",
      "1     2     4\n",
      "   col1  newcol  col2\n",
      "0     1      99     3\n",
      "1     2      99     4\n",
      "   col1  col1  newcol  col2\n",
      "0   100     1      99     3\n",
      "1   100     2      99     4\n"
     ]
    }
   ],
   "source": [
    "df = pd.DataFrame({'col1': [1, 2], 'col2': [3, 4]})\n",
    "print(df)\n",
    "#    col1  col2\n",
    "# 0     1     3\n",
    "# 1     2     4\n",
    "df.insert(1, \"newcol\", [99, 99])\n",
    "print(df)\n",
    "#    col1  newcol  col2\n",
    "# 0     1      99     3\n",
    "# 1     2      99     4\n",
    "df.insert(0, \"col1\", [100, 100], allow_duplicates=True)\n",
    "print(df)\n",
    "#    col1  col1  newcol  col2\n",
    "# 0   100     1      99     3\n",
    "# 1   100     2      99     4"
   ]
  },
  {
   "cell_type": "code",
   "execution_count": 15,
   "metadata": {},
   "outputs": [
    {
     "name": "stdout",
     "output_type": "stream",
     "text": [
      "          temp_c\n",
      "Portland    17.0\n",
      "Berkeley    25.0\n",
      "          temp_c  temp_f\n",
      "Portland    17.0    62.6\n",
      "Berkeley    25.0    77.0\n",
      "          temp_c  temp_f\n",
      "Portland    17.0    62.6\n",
      "Berkeley    25.0    77.0\n"
     ]
    }
   ],
   "source": [
    "df = pd.DataFrame({'temp_c': [17.0, 25.0]},\n",
    "                  index=['Portland', 'Berkeley'])\n",
    "\n",
    "print(df)\n",
    "\n",
    "print(df.assign(temp_f=lambda x: x.temp_c * 9 / 5 + 32))\n",
    "print(df.assign(temp_f=lambda x: x['temp_c'] * 9 / 5 + 32))"
   ]
  },
  {
   "cell_type": "code",
   "execution_count": 16,
   "metadata": {},
   "outputs": [
    {
     "name": "stdout",
     "output_type": "stream",
     "text": [
      "0      Juan\n",
      "1     María\n",
      "2    Carlos\n",
      "Name: Nombre, dtype: object\n"
     ]
    }
   ],
   "source": [
    "import pandas as pd\n",
    "\n",
    "data = {\n",
    "    'Nombre': ['Juan', 'María', 'Carlos'],\n",
    "    'Edad': [25, 30, 28],\n",
    "    'Ciudad Nacimiento': ['Madrid', 'Barcelona', 'Valencia']\n",
    "}\n",
    "\n",
    "df = pd.DataFrame(data)\n",
    "\n",
    "# Acceder a la columna 'Nombre' usando la notación de punto\n",
    "nombres = df.Nombre\n",
    "\n",
    "print(nombres)\n",
    "# 0      Juan\n",
    "# 1     María\n",
    "# 2    Carlos\n",
    "# Name: Nombre, dtype: object"
   ]
  },
  {
   "cell_type": "code",
   "execution_count": 25,
   "metadata": {},
   "outputs": [
    {
     "name": "stdout",
     "output_type": "stream",
     "text": [
      "          temp_c\n",
      "Portland    17.0\n",
      "Berkeley    25.0\n",
      "          temp_c  temp_f\n",
      "Portland    17.0    62.6\n",
      "Berkeley    25.0    77.0\n",
      "          temp_c  temp_f\n",
      "Portland    17.0    62.6\n",
      "Berkeley    25.0    77.0\n",
      "          temp_c  temp_f  temp_k\n",
      "Portland    17.0    62.6  290.15\n",
      "Berkeley    25.0    77.0  298.15\n",
      "          temp_c   temp_f  temp_k\n",
      "Portland    17.0  10062.6  290.15\n",
      "Berkeley    25.0  10077.0  298.15\n"
     ]
    }
   ],
   "source": [
    "df = pd.DataFrame({'temp_c': [17.0, 25.0]},\n",
    "                  index=['Portland', 'Berkeley'])\n",
    "print(df)\n",
    "#           temp_c\n",
    "# Portland    17.0\n",
    "# Berkeley    25.0\n",
    "\n",
    "\n",
    "# Cuando el valor es un callable, se pasa el dataframe entero y se espera que devuelva una serie de valores indexados\n",
    "print(df.assign(temp_f=lambda x: x.temp_c * 9 / 5 + 32)) # Notación de punto\n",
    "#           temp_c  temp_f\n",
    "# Portland    17.0    62.6\n",
    "# Berkeley    25.0    77.0\n",
    "print(df.assign(temp_f=lambda x: x['temp_c'] * 9 / 5 + 32)) # Notación de corchetes\n",
    "#           temp_c  temp_f\n",
    "# Portland    17.0    62.6\n",
    "# Berkeley    25.0    77.0\n",
    "\n",
    "\n",
    "# Asignar varias columnas a la vez (chaining o encadenamiento)\n",
    "df=df.assign(temp_f=lambda x: x.temp_c * 9 / 5 + 32,\n",
    "                temp_k=lambda x: (x.temp_f +  459.67) * 5 / 9)\n",
    "print(df)\n",
    "#           temp_c  temp_f  temp_k\n",
    "# Portland    17.0    62.6  290.15\n",
    "# Berkeley    25.0    77.0  298.15\n",
    "\n",
    "\n",
    "# Sobreescribir una columna existente\n",
    "df=df.assign(temp_f=lambda x: (x.temp_c * 9 / 5 + 32)+10000) # Valor solo para ejemplo (sobreescribe la columna temp_f)\n",
    "print(df)\n",
    "#           temp_c   temp_f  temp_k\n",
    "# Portland    17.0  10062.6  290.15\n",
    "# Berkeley    25.0  10077.0  298.15\n"
   ]
  },
  {
   "cell_type": "code",
   "execution_count": 28,
   "metadata": {},
   "outputs": [
    {
     "name": "stdout",
     "output_type": "stream",
     "text": [
      "    A\n",
      "0  10\n",
      "1  20\n",
      "2  30\n",
      "3  40\n",
      "4  50\n",
      "5  60\n",
      "6  70\n",
      "    A\n",
      "1  20\n",
      "2  30\n",
      "3  40\n",
      "4  50\n"
     ]
    }
   ],
   "source": [
    "df=pd.DataFrame(np.arange(1,8)*10,columns=['A'])\n",
    "print(df)\n",
    "print(df[1:5])"
   ]
  },
  {
   "cell_type": "code",
   "execution_count": 32,
   "metadata": {},
   "outputs": [
    {
     "name": "stdout",
     "output_type": "stream",
     "text": [
      "   0  1  2\n",
      "A  0  3  6\n",
      "B  1  4  7\n",
      "C  2  5  8\n"
     ]
    }
   ],
   "source": [
    "print(pd.DataFrame(np.arange(9).reshape(3,3),columns=['A','B','C']).transpose())"
   ]
  }
 ],
 "metadata": {
  "kernelspec": {
   "display_name": "myenv",
   "language": "python",
   "name": "python3"
  },
  "language_info": {
   "codemirror_mode": {
    "name": "ipython",
    "version": 3
   },
   "file_extension": ".py",
   "mimetype": "text/x-python",
   "name": "python",
   "nbconvert_exporter": "python",
   "pygments_lexer": "ipython3",
   "version": "3.11.1"
  },
  "orig_nbformat": 4
 },
 "nbformat": 4,
 "nbformat_minor": 2
}
