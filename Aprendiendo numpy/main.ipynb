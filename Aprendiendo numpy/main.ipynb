{
 "cells": [
  {
   "cell_type": "code",
   "execution_count": 3,
   "metadata": {},
   "outputs": [],
   "source": [
    "import numpy as np\n",
    "\n",
    "import pandas as pd"
   ]
  },
  {
   "cell_type": "code",
   "execution_count": 4,
   "metadata": {},
   "outputs": [],
   "source": [
    "index = pd.date_range(\"1/1/2000\", periods=8)\n",
    "\n",
    "s = pd.Series(np.random.randn(5), index=[\"a\", \"b\", \"c\", \"d\", \"e\"])\n",
    "\n",
    "df = pd.DataFrame(np.random.randn(8, 3), index=index, columns=[\"A\", \"B\", \"C\"])"
   ]
  },
  {
   "cell_type": "code",
   "execution_count": 5,
   "metadata": {},
   "outputs": [
    {
     "name": "stdout",
     "output_type": "stream",
     "text": [
      "0    False\n",
      "1    False\n",
      "2    False\n",
      "3    False\n",
      "dtype: bool\n",
      "0    True\n",
      "1    True\n",
      "2    True\n",
      "3    True\n",
      "dtype: bool\n",
      "0     True\n",
      "1     True\n",
      "2    False\n",
      "3    False\n",
      "dtype: bool\n",
      "0    False\n",
      "1    False\n",
      "2     True\n",
      "3     True\n",
      "dtype: bool\n",
      "0     True\n",
      "1     True\n",
      "2    False\n",
      "3    False\n",
      "dtype: bool\n",
      "0    False\n",
      "1    False\n",
      "2     True\n",
      "3     True\n",
      "dtype: bool\n"
     ]
    }
   ],
   "source": [
    "import pandas as pd\n",
    "\n",
    "data = {\n",
    "    'A': [1, 2, 3, 4],\n",
    "    'B': [4, 3, 2, 1]\n",
    "}\n",
    "\n",
    "df = pd.DataFrame(data)\n",
    "\n",
    "# Operador de igualdad (eq)\n",
    "resultado_eq = df['A'].eq(df['B'])  # Comprobar si las columnas 'A' y 'B' son iguales elemento por elemento\n",
    "print(resultado_eq)\n",
    "# 0    False\n",
    "# 1    False\n",
    "# 2    False\n",
    "# 3    False\n",
    "# dtype: bool\n",
    "\n",
    "# Operador de desigualdad (ne)\n",
    "resultado_ne = df['A'].ne(df['B'])  # Comprobar si las columnas 'A' y 'B' son diferentes elemento por elemento\n",
    "print(resultado_ne)\n",
    "# 0    True\n",
    "# 1    True\n",
    "# 2    True\n",
    "# 3    True\n",
    "# dtype: bool\n",
    "\n",
    "# Operador menor que (lt)\n",
    "resultado_lt = df['A'].lt(df['B'])  # Comprobar si 'A' es menor que 'B' elemento por elemento\n",
    "print(resultado_lt)\n",
    "# 0     True\n",
    "# 1     True\n",
    "# 2    False\n",
    "# 3    False\n",
    "# dtype: bool\n",
    "\n",
    "# Operador mayor que (gt)\n",
    "resultado_gt = df['A'].gt(df['B'])  # Comprobar si 'A' es mayor que 'B' elemento por elemento\n",
    "print(resultado_gt)\n",
    "# 0    False\n",
    "# 1    False\n",
    "# 2     True\n",
    "# 3     True\n",
    "# dtype: bool\n",
    "\n",
    "# Operador menor o igual que (le)\n",
    "resultado_le = df['A'].le(df['B'])  # Comprobar si 'A' es menor o igual que 'B' elemento por elemento\n",
    "print(resultado_le)\n",
    "# 0     True\n",
    "# 1     True\n",
    "# 2    False\n",
    "# 3    False\n",
    "# dtype: bool\n",
    "\n",
    "# Operador mayor o igual que (ge)\n",
    "resultado_ge = df['A'].ge(df['B'])  # Comprobar si 'A' es mayor o igual que 'B' elemento por elemento\n",
    "print(resultado_ge)\n",
    "# 0    False\n",
    "# 1    False\n",
    "# 2     True\n",
    "# 3     True\n",
    "# dtype: bool\n"
   ]
  },
  {
   "cell_type": "code",
   "execution_count": 6,
   "metadata": {},
   "outputs": [
    {
     "name": "stdout",
     "output_type": "stream",
     "text": [
      "       A      B\n",
      "0  False  False\n",
      "1   True   True\n",
      "2   True   True\n",
      "3   True   True\n",
      "       A      B\n",
      "0   True   True\n",
      "1  False  False\n",
      "2  False  False\n",
      "3  False  False\n",
      "       A      B\n",
      "0   True  False\n",
      "1  False  False\n",
      "2  False  False\n",
      "3  False  False\n",
      "       A      B\n",
      "0  False   True\n",
      "1  False  False\n",
      "2  False  False\n",
      "3  False  False\n",
      "      A      B\n",
      "0  True  False\n",
      "1  True   True\n",
      "2  True   True\n",
      "3  True   True\n",
      "       A     B\n",
      "0  False  True\n",
      "1   True  True\n",
      "2   True  True\n",
      "3   True  True\n"
     ]
    }
   ],
   "source": [
    "import pandas as pd\n",
    "\n",
    "data1 = {\n",
    "    'A': [1, 2, 3, 4],\n",
    "    'B': [4, 3, 2, 1]\n",
    "}\n",
    "\n",
    "data2 = {\n",
    "    'A': [4, 2, 3, 4],\n",
    "    'B': [1, 3, 2, 1]\n",
    "}\n",
    "\n",
    "df1 = pd.DataFrame(data1)\n",
    "df2 = pd.DataFrame(data2)\n",
    "\n",
    "# Operador de igualdad (eq) entre DataFrames\n",
    "resultado_eq = df1.eq(df2)  # Comprobar si df1 es igual a df2 elemento por elemento\n",
    "print(resultado_eq)\n",
    "#        A      B\n",
    "# 0  False  False\n",
    "# 1   True   True\n",
    "# 2   True   True\n",
    "# 3   True   True\n",
    "\n",
    "# Operador de desigualdad (ne) entre DataFrames\n",
    "resultado_ne = df1.ne(df2)  # Comprobar si df1 es diferente de df2 elemento por elemento\n",
    "print(resultado_ne)\n",
    "#        A      B\n",
    "# 0   True   True\n",
    "# 1  False  False\n",
    "# 2  False  False\n",
    "# 3  False  False\n",
    "\n",
    "# Operador menor que (lt) entre DataFrames\n",
    "resultado_lt = df1.lt(df2)  # Comprobar si df1 es menor que df2 elemento por elemento\n",
    "print(resultado_lt)\n",
    "#        A      B\n",
    "# 0   True  False\n",
    "# 1  False  False\n",
    "# 2  False  False\n",
    "# 3  False  False\n",
    "\n",
    "# Operador mayor que (gt) entre DataFrames\n",
    "resultado_gt = df1.gt(df2)  # Comprobar si df1 es mayor que df2 elemento por elemento\n",
    "print(resultado_gt)\n",
    "#        A      B\n",
    "# 0  False   True\n",
    "# 1  False  False\n",
    "# 2  False  False\n",
    "# 3  False  False\n",
    "\n",
    "# Operador menor o igual que (le) entre DataFrames\n",
    "resultado_le = df1.le(df2)  # Comprobar si df1 es menor o igual que df2 elemento por elemento\n",
    "print(resultado_le)\n",
    "#       A      B\n",
    "# 0  True  False\n",
    "# 1  True   True\n",
    "# 2  True   True\n",
    "# 3  True   True\n",
    "\n",
    "# Operador mayor o igual que (ge) entre DataFrames\n",
    "resultado_ge = df1.ge(df2)  # Comprobar si df1 es mayor o igual que df2 elemento por elemento\n",
    "print(resultado_ge)\n",
    "#        A     B\n",
    "# 0  False  True\n",
    "# 1   True  True\n",
    "# 2   True  True\n",
    "# 3   True  True"
   ]
  },
  {
   "cell_type": "code",
   "execution_count": 7,
   "metadata": {},
   "outputs": [
    {
     "name": "stdout",
     "output_type": "stream",
     "text": [
      "Empty DataFrame\n",
      "Columns: [A]\n",
      "Index: []\n",
      "True\n"
     ]
    }
   ],
   "source": [
    "df_empty = pd.DataFrame({'A' : []})\n",
    "print(df_empty)\n",
    "# Empty DataFrame\n",
    "# Columns: [A]\n",
    "# Index: []\n",
    "print(df_empty.empty)\n",
    "# True"
   ]
  },
  {
   "cell_type": "code",
   "execution_count": 8,
   "metadata": {},
   "outputs": [
    {
     "name": "stdout",
     "output_type": "stream",
     "text": [
      "    A\n",
      "0 NaN\n",
      "False\n",
      "True\n"
     ]
    }
   ],
   "source": [
    "df = pd.DataFrame({'A' : [np.nan]})\n",
    "print(df)\n",
    "    # A\n",
    "# 0 NaN\n",
    "print(df.empty)\n",
    "# False\n",
    "print(df.dropna().empty)\n",
    "# True"
   ]
  },
  {
   "cell_type": "code",
   "execution_count": 9,
   "metadata": {},
   "outputs": [
    {
     "name": "stdout",
     "output_type": "stream",
     "text": [
      "A    []\n",
      "dtype: object\n",
      "False\n",
      "True\n"
     ]
    }
   ],
   "source": [
    "ser_empty = pd.Series({'A' : []})\n",
    "print(ser_empty)\n",
    "# A    []\n",
    "# dtype: object\n",
    "\n",
    "print(ser_empty.empty)\n",
    "# False\n",
    "\n",
    "ser_empty = pd.Series()\n",
    "print(ser_empty.empty)\n",
    "# True"
   ]
  },
  {
   "cell_type": "code",
   "execution_count": 10,
   "metadata": {},
   "outputs": [
    {
     "name": "stdout",
     "output_type": "stream",
     "text": [
      "False\n",
      "True\n",
      "False\n",
      "False\n",
      "True\n"
     ]
    }
   ],
   "source": [
    "print(pd.Series([False, False]).any())\n",
    "# False\n",
    "print(pd.Series([True, False]).any())\n",
    "# True\n",
    "print(pd.Series([], dtype=\"float64\").any())\n",
    "# False\n",
    "print(pd.Series([np.nan]).any())\n",
    "# False\n",
    "print(pd.Series([np.nan]).any(skipna=False))\n",
    "# True"
   ]
  },
  {
   "cell_type": "code",
   "execution_count": 11,
   "metadata": {},
   "outputs": [
    {
     "name": "stdout",
     "output_type": "stream",
     "text": [
      "   A  B  C\n",
      "0  1  0  0\n",
      "1  2  2  0\n",
      "A     True\n",
      "B     True\n",
      "C    False\n",
      "dtype: bool\n"
     ]
    }
   ],
   "source": [
    "df = pd.DataFrame({\"A\": [1, 2], \"B\": [0, 2], \"C\": [0, 0]})\n",
    "print(df)\n",
    "#    A  B  C\n",
    "# 0  1  0  0\n",
    "# 1  2  2  0\n",
    "print(df.any())\n",
    "# A     True\n",
    "# B     True\n",
    "# C    False\n",
    "# dtype: bool"
   ]
  },
  {
   "cell_type": "code",
   "execution_count": 12,
   "metadata": {},
   "outputs": [
    {
     "name": "stdout",
     "output_type": "stream",
     "text": [
      "       A  B\n",
      "0   True  1\n",
      "1  False  2\n",
      "0    True\n",
      "1    True\n",
      "dtype: bool\n",
      "       A  B\n",
      "0   True  1\n",
      "1  False  0\n",
      "0     True\n",
      "1    False\n",
      "dtype: bool\n"
     ]
    }
   ],
   "source": [
    "df = pd.DataFrame({\"A\": [True, False], \"B\": [1, 2]})\n",
    "print(df)\n",
    "#        A  B\n",
    "# 0   True  1\n",
    "# 1  False  2\n",
    "\n",
    "print(df.any(axis='columns'))\n",
    "# 0    True\n",
    "# 1    True\n",
    "# dtype: bool\n",
    "\n",
    "df = pd.DataFrame({\"A\": [True, False], \"B\": [1, 0]})\n",
    "print(df)\n",
    "#        A  B\n",
    "# 0   True  1\n",
    "# 1  False  0\n",
    "\n",
    "print(df.any(axis='columns'))\n",
    "# 0    True\n",
    "# 1    False\n",
    "# dtype: bool"
   ]
  }
 ],
 "metadata": {
  "kernelspec": {
   "display_name": "myenv",
   "language": "python",
   "name": "python3"
  },
  "language_info": {
   "codemirror_mode": {
    "name": "ipython",
    "version": 3
   },
   "file_extension": ".py",
   "mimetype": "text/x-python",
   "name": "python",
   "nbconvert_exporter": "python",
   "pygments_lexer": "ipython3",
   "version": "3.11.5"
  },
  "orig_nbformat": 4
 },
 "nbformat": 4,
 "nbformat_minor": 2
}
