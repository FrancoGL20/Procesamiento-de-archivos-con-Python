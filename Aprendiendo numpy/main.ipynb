{
 "cells": [
  {
   "cell_type": "code",
   "execution_count": 1,
   "metadata": {},
   "outputs": [],
   "source": [
    "import numpy as np\n",
    "\n",
    "import pandas as pd"
   ]
  },
  {
   "cell_type": "code",
   "execution_count": 2,
   "metadata": {},
   "outputs": [],
   "source": [
    "index = pd.date_range(\"1/1/2000\", periods=8)\n",
    "\n",
    "s = pd.Series(np.random.randn(5), index=[\"a\", \"b\", \"c\", \"d\", \"e\"])\n",
    "\n",
    "df = pd.DataFrame(np.random.randn(8, 3), index=index, columns=[\"A\", \"B\", \"C\"])"
   ]
  },
  {
   "cell_type": "code",
   "execution_count": 3,
   "metadata": {},
   "outputs": [
    {
     "name": "stdout",
     "output_type": "stream",
     "text": [
      "   Nombre Edad     Ciudad\n",
      "0    Juan   25     Madrid\n",
      "1   María   30  Barcelona\n",
      "2  Carlos   28   Valencia\n",
      "Tipos de datos antes de inferir:\n",
      "Nombre    object\n",
      "Edad      object\n",
      "Ciudad    object\n",
      "dtype: object\n",
      "\n",
      "Tipos de datos después de inferir:\n",
      "Nombre    object\n",
      "Edad      object\n",
      "Ciudad    object\n",
      "dtype: object\n"
     ]
    }
   ],
   "source": [
    "data = {\n",
    "    'Nombre': ['Juan', 'María', 'Carlos'],\n",
    "    'Edad': ['25', '30', '28'],  # Edad es una cadena en lugar de un entero\n",
    "    'Ciudad': ['Madrid', 'Barcelona', 'Valencia']\n",
    "}\n",
    "\n",
    "df = pd.DataFrame(data)\n",
    "print(df)\n",
    "\n",
    "# Mostrar los tipos de datos actuales\n",
    "print(\"Tipos de datos antes de inferir:\")\n",
    "print(df.dtypes)\n",
    "\n",
    "# Usar infer_objects() para inferir tipos de datos más específicos\n",
    "df = df.infer_objects()\n",
    "\n",
    "# Mostrar los tipos de datos después de inferir\n",
    "print(\"\\nTipos de datos después de inferir:\")\n",
    "print(df.dtypes)\n"
   ]
  },
  {
   "cell_type": "code",
   "execution_count": 4,
   "metadata": {},
   "outputs": [
    {
     "name": "stdout",
     "output_type": "stream",
     "text": [
      "   0  1                    2\n",
      "0  1  a  2016-03-02 00:00:00\n",
      "1  2  b  2016-03-02 00:00:00\n",
      "0    object\n",
      "1    object\n",
      "2    object\n",
      "dtype: object\n",
      "0             int64\n",
      "1            object\n",
      "2    datetime64[ns]\n",
      "dtype: object\n"
     ]
    }
   ],
   "source": [
    "import datetime\n",
    "\n",
    "df = pd.DataFrame(\n",
    "    [\n",
    "        [1, 2],\n",
    "        [\"a\", \"b\"],\n",
    "        [datetime.datetime(2016, 3, 2), datetime.datetime(2016, 3, 2)],\n",
    "    ]\n",
    ")\n",
    "\n",
    "df=df.T\n",
    "\n",
    "print(df)\n",
    "#    0  1                    2\n",
    "# 0  1  a  2016-03-02 00:00:00\n",
    "# 1  2  b  2016-03-02 00:00:00\n",
    "\n",
    "print(df.dtypes)\n",
    "# 0    object\n",
    "# 1    object\n",
    "# 2    object\n",
    "# dtype: object\n",
    "\n",
    "print(df.infer_objects().dtypes)\n",
    "# 0             int64\n",
    "# 1            object\n",
    "# 2    datetime64[ns]\n",
    "# dtype: object"
   ]
  },
  {
   "cell_type": "code",
   "execution_count": 5,
   "metadata": {},
   "outputs": [
    {
     "name": "stdout",
     "output_type": "stream",
     "text": [
      "   A\n",
      "1  1\n",
      "2  2\n",
      "3  3\n",
      "A    object\n",
      "dtype: object\n",
      "A    int64\n",
      "dtype: object\n"
     ]
    }
   ],
   "source": [
    "df = pd.DataFrame({\"A\": [\"a\", 1, 2, 3]})\n",
    "df = df.iloc[1:]\n",
    "print(df)\n",
    "#    A\n",
    "# 1  1\n",
    "# 2  2\n",
    "# 3  3\n",
    "print(df.dtypes)\n",
    "# A    object\n",
    "# dtype: object\n",
    "print(df.infer_objects().dtypes)\n",
    "# A    int64\n",
    "# dtype: object"
   ]
  },
  {
   "cell_type": "code",
   "execution_count": 6,
   "metadata": {},
   "outputs": [
    {
     "data": {
      "text/plain": [
       "0    NaN\n",
       "1    1.0\n",
       "2    2.0\n",
       "3   -3.0\n",
       "dtype: float64"
      ]
     },
     "execution_count": 6,
     "metadata": {},
     "output_type": "execute_result"
    }
   ],
   "source": [
    "s = pd.Series(['1.0', '2', -3])\n",
    "pd.to_numeric(s)\n",
    "# 0    1.0\n",
    "# 1    2.0\n",
    "# 2   -3.0\n",
    "# dtype: float64\n",
    "\n",
    "pd.to_numeric(s, downcast='float')\n",
    "# 0    1.0\n",
    "# 1    2.0\n",
    "# 2   -3.0\n",
    "# dtype: float32\n",
    "\n",
    "pd.to_numeric(s, downcast='signed')\n",
    "# 0    1\n",
    "# 1    2\n",
    "# 2   -3\n",
    "# dtype: int8\n",
    "\n",
    "s = pd.Series(['apple', '1.0', '2', -3])\n",
    "pd.to_numeric(s, errors='ignore')\n",
    "# 0    apple\n",
    "# 1      1.0\n",
    "# 2        2\n",
    "# 3       -3\n",
    "# dtype: object\n",
    "\n",
    "pd.to_numeric(s, errors='coerce')\n",
    "# 0    NaN\n",
    "# 1    1.0\n",
    "# 2    2.0\n",
    "# 3   -3.0\n",
    "# dtype: float64"
   ]
  },
  {
   "cell_type": "code",
   "execution_count": 7,
   "metadata": {},
   "outputs": [
    {
     "data": {
      "text/plain": [
       "TimedeltaIndex(['0 days 00:00:00.000005', '1 days 00:00:00'], dtype='timedelta64[ns]', freq=None)"
      ]
     },
     "execution_count": 7,
     "metadata": {},
     "output_type": "execute_result"
    }
   ],
   "source": [
    "m = [\"5us\", pd.Timedelta(\"1day\")]\n",
    "pd.to_timedelta(m)\n",
    "# TimedeltaIndex(['0 days 00:00:00.000005', '1 days 00:00:00'], dtype='timedelta64[ns]', freq=None)"
   ]
  },
  {
   "cell_type": "code",
   "execution_count": 8,
   "metadata": {},
   "outputs": [
    {
     "name": "stdout",
     "output_type": "stream",
     "text": [
      "            0                    1\n",
      "0  2016-07-09  2016-03-02 00:00:00\n",
      "1  2016-07-09  2016-03-02 00:00:00\n",
      "           0          1\n",
      "0 2016-07-09 2016-03-02\n",
      "1 2016-07-09 2016-03-02\n",
      "     0  1  2\n",
      "0  1.1  2  3\n",
      "1  1.1  2  3\n",
      "     0  1  2\n",
      "0  1.1  2  3\n",
      "1  1.1  2  3\n",
      "     0                1\n",
      "0  5us  1 days 00:00:00\n",
      "1  5us  1 days 00:00:00\n",
      "                       0      1\n",
      "0 0 days 00:00:00.000005 1 days\n",
      "1 0 days 00:00:00.000005 1 days\n"
     ]
    }
   ],
   "source": [
    "import datetime\n",
    "\n",
    "df = pd.DataFrame([[\"2016-07-09\", datetime.datetime(2016, 3, 2)]] * 2, dtype=\"O\")\n",
    "\n",
    "print(df)\n",
    "#             0                    1\n",
    "# 0  2016-07-09  2016-03-02 00:00:00\n",
    "# 1  2016-07-09  2016-03-02 00:00:00\n",
    "\n",
    "print(df.apply(pd.to_datetime))\n",
    "#            0          1\n",
    "# 0 2016-07-09 2016-03-02\n",
    "# 1 2016-07-09 2016-03-02\n",
    "\n",
    "df = pd.DataFrame([[\"1.1\", 2, 3]] * 2, dtype=\"O\")\n",
    "\n",
    "print(df)\n",
    "#      0  1  2\n",
    "# 0  1.1  2  3\n",
    "# 1  1.1  2  3\n",
    "\n",
    "print(df.apply(pd.to_numeric))\n",
    "#      0  1  2\n",
    "# 0  1.1  2  3\n",
    "# 1  1.1  2  3\n",
    "\n",
    "df = pd.DataFrame([[\"5us\", pd.Timedelta(\"1day\")]] * 2, dtype=\"O\")\n",
    "\n",
    "print(df)\n",
    "#      0                1\n",
    "# 0  5us  1 days 00:00:00\n",
    "# 1  5us  1 days 00:00:00\n",
    "\n",
    "print(df.apply(pd.to_timedelta))\n",
    "#                        0      1\n",
    "# 0 0 days 00:00:00.000005 1 days\n",
    "# 1 0 days 00:00:00.000005 1 days"
   ]
  },
  {
   "cell_type": "code",
   "execution_count": 9,
   "metadata": {},
   "outputs": [
    {
     "name": "stdout",
     "output_type": "stream",
     "text": [
      "   A  B    C  E\n",
      "0  1  1  115  1\n",
      "1  0  0  252  1\n",
      "2  0  0  145  1\n",
      "3 -3  0  253  1\n",
      "4 -1  0  182  1\n",
      "5  0 -1  138  1\n",
      "6  1  0  234  1\n",
      "7 -2  0  190  1\n",
      "A    int32\n",
      "B    int32\n",
      "C    int32\n",
      "E    int64\n",
      "dtype: object\n",
      "     A    B    C  E\n",
      "0  1.0  1.0  115  1\n",
      "1  NaN  NaN  252  1\n",
      "2  NaN  NaN  145  1\n",
      "3  NaN  NaN  253  1\n",
      "4  NaN  NaN  182  1\n",
      "5  NaN  NaN  138  1\n",
      "6  1.0  NaN  234  1\n",
      "7  NaN  NaN  190  1\n",
      "A    float64\n",
      "B    float64\n",
      "C      int32\n",
      "E      int64\n",
      "dtype: object\n"
     ]
    }
   ],
   "source": [
    "df1 = pd.DataFrame(np.random.randn(8, 1), columns=[\"A\"], dtype=\"float32\")\n",
    "df2 = pd.DataFrame(\n",
    "    {\n",
    "        \"A\": pd.Series(np.random.randn(8), dtype=\"float16\"),\n",
    "        \"B\": pd.Series(np.random.randn(8)),\n",
    "        \"C\": pd.Series(np.random.randint(0, 255, size=8), dtype=\"uint8\"),  # [0,255] (range of uint8)\n",
    "    }\n",
    ")\n",
    "df3=df1.reindex_like(df2).fillna(value=0.0) + df2\n",
    "dfi = df3.astype(\"int32\")\n",
    "\n",
    "dfi[\"E\"] = 1\n",
    "\n",
    "print(dfi)\n",
    "#    A  B    C  E\n",
    "# 0  1  0   26  1\n",
    "# 1  3  1   86  1\n",
    "# 2  0  0   46  1\n",
    "# 3  0  1  212  1\n",
    "# 4 -1 -1   26  1\n",
    "# 5  1  0    7  1\n",
    "# 6  0 -1  184  1\n",
    "# 7  0  0  206  1\n",
    "\n",
    "print(dfi.dtypes)\n",
    "# A    int32\n",
    "# B    int32\n",
    "# C    int32\n",
    "# E    int64\n",
    "# dtype: object\n",
    "\n",
    "casted = dfi[dfi > 0]\n",
    "\n",
    "print(casted)\n",
    "#      A    B    C  E\n",
    "# 0  1.0  NaN   26  1\n",
    "# 1  3.0  1.0   86  1\n",
    "# 2  NaN  NaN   46  1\n",
    "# 3  NaN  1.0  212  1\n",
    "# 4  NaN  NaN   26  1\n",
    "# 5  1.0  NaN    7  1\n",
    "# 6  NaN  NaN  184  1\n",
    "# 7  NaN  NaN  206  1\n",
    "\n",
    "print(casted.dtypes)\n",
    "# A    float64\n",
    "# B    float64\n",
    "# C      int32\n",
    "# E      int64\n",
    "# dtype: object"
   ]
  },
  {
   "cell_type": "code",
   "execution_count": 11,
   "metadata": {},
   "outputs": [
    {
     "name": "stdout",
     "output_type": "stream",
     "text": [
      "  string  int64  uint8  float64  bool1  bool2                      dates  \\\n",
      "0      a      1      3      4.0   True  False 2023-09-07 21:49:13.515133   \n",
      "1      b      2      4      5.0  False   True 2023-09-08 21:49:13.515133   \n",
      "2      c      3      5      6.0   True  False 2023-09-09 21:49:13.515133   \n",
      "\n",
      "  category tdeltas  uint64 other_dates            tz_aware_dates  \n",
      "0        A     NaT       3  2013-01-01 2013-01-01 00:00:00-05:00  \n",
      "1        B  1 days       4  2013-01-02 2013-01-02 00:00:00-05:00  \n",
      "2        C  1 days       5  2013-01-03 2013-01-03 00:00:00-05:00  \n",
      "string                                object\n",
      "int64                                  int64\n",
      "uint8                                  uint8\n",
      "float64                              float64\n",
      "bool1                                   bool\n",
      "bool2                                   bool\n",
      "dates                         datetime64[ns]\n",
      "category                            category\n",
      "tdeltas                      timedelta64[ns]\n",
      "uint64                                uint64\n",
      "other_dates                   datetime64[ns]\n",
      "tz_aware_dates    datetime64[ns, US/Eastern]\n",
      "dtype: object\n"
     ]
    }
   ],
   "source": [
    "df = pd.DataFrame(\n",
    "    {\n",
    "        \"string\": list(\"abc\"),\n",
    "        \"int64\": list(range(1, 4)),\n",
    "        \"uint8\": np.arange(3, 6).astype(\"u1\"),\n",
    "        \"float64\": np.arange(4.0, 7.0),\n",
    "        \"bool1\": [True, False, True],\n",
    "        \"bool2\": [False, True, False],\n",
    "        \"dates\": pd.date_range(\"now\", periods=3),\n",
    "        \"category\": pd.Series(list(\"ABC\")).astype(\"category\"),\n",
    "    }\n",
    ")\n",
    "\n",
    "\n",
    "df[\"tdeltas\"] = df.dates.diff()\n",
    "\n",
    "df[\"uint64\"] = np.arange(3, 6).astype(\"u8\")\n",
    "\n",
    "df[\"other_dates\"] = pd.date_range(\"20130101\", periods=3)\n",
    "\n",
    "df[\"tz_aware_dates\"] = pd.date_range(\"20130101\", periods=3, tz=\"US/Eastern\")\n",
    "\n",
    "print(df)\n",
    "#   string  int64  uint8  float64  bool1  bool2                      dates  \\\n",
    "# 0      a      1      3      4.0   True  False 2023-09-07 21:48:43.682942   \n",
    "# 1      b      2      4      5.0  False   True 2023-09-08 21:48:43.682942   \n",
    "# 2      c      3      5      6.0   True  False 2023-09-09 21:48:43.682942   \n",
    "\n",
    "#   category tdeltas  uint64 other_dates            tz_aware_dates  \n",
    "# 0        A     NaT       3  2013-01-01 2013-01-01 00:00:00-05:00  \n",
    "# 1        B  1 days       4  2013-01-02 2013-01-02 00:00:00-05:00  \n",
    "# 2        C  1 days       5  2013-01-03 2013-01-03 00:00:00-05:00 \n",
    "\n",
    "print(df.dtypes)\n",
    "# string                                object\n",
    "# int64                                  int64\n",
    "# uint8                                  uint8\n",
    "# float64                              float64\n",
    "# bool1                                   bool\n",
    "# bool2                                   bool\n",
    "# dates                         datetime64[ns]\n",
    "# category                            category\n",
    "# tdeltas                      timedelta64[ns]\n",
    "# uint64                                uint64\n",
    "# other_dates                   datetime64[ns]\n",
    "# tz_aware_dates    datetime64[ns, US/Eastern]\n",
    "# dtype: object"
   ]
  },
  {
   "cell_type": "code",
   "execution_count": 14,
   "metadata": {},
   "outputs": [
    {
     "data": {
      "text/plain": [
       "[numpy.generic,\n",
       " [[numpy.number,\n",
       "   [[numpy.integer,\n",
       "     [[numpy.signedinteger,\n",
       "       [numpy.int8,\n",
       "        numpy.int16,\n",
       "        numpy.intc,\n",
       "        numpy.int32,\n",
       "        numpy.int64,\n",
       "        numpy.timedelta64]],\n",
       "      [numpy.unsignedinteger,\n",
       "       [numpy.uint8, numpy.uint16, numpy.uintc, numpy.uint32, numpy.uint64]]]],\n",
       "    [numpy.inexact,\n",
       "     [[numpy.floating,\n",
       "       [numpy.float16, numpy.float32, numpy.float64, numpy.longdouble]],\n",
       "      [numpy.complexfloating,\n",
       "       [numpy.complex64, numpy.complex128, numpy.clongdouble]]]]]],\n",
       "  [numpy.flexible,\n",
       "   [[numpy.character, [numpy.bytes_, numpy.str_]],\n",
       "    [numpy.void, [numpy.record]]]],\n",
       "  numpy.bool_,\n",
       "  numpy.datetime64,\n",
       "  numpy.object_]]"
      ]
     },
     "execution_count": 14,
     "metadata": {},
     "output_type": "execute_result"
    }
   ],
   "source": [
    "def subdtypes(dtype):\n",
    "    subs = dtype.__subclasses__()\n",
    "    if not subs:\n",
    "        return dtype\n",
    "    return [dtype, [subdtypes(dt) for dt in subs]]\n",
    "\n",
    "subdtypes(np.generic)\n",
    "# [numpy.generic,\n",
    "#  [[numpy.number,\n",
    "#    [[numpy.integer,\n",
    "#      [[numpy.signedinteger,\n",
    "#        [numpy.int8,\n",
    "#         numpy.int16,\n",
    "#         numpy.intc,\n",
    "#         numpy.int32,\n",
    "#         numpy.int64,\n",
    "#         numpy.timedelta64]],\n",
    "#       [numpy.unsignedinteger,\n",
    "#        [numpy.uint8, numpy.uint16, numpy.uintc, numpy.uint32, numpy.uint64]]]],\n",
    "#     [numpy.inexact,\n",
    "#      [[numpy.floating,\n",
    "#        [numpy.float16, numpy.float32, numpy.float64, numpy.longdouble]],\n",
    "#       [numpy.complexfloating,\n",
    "#        [numpy.complex64, numpy.complex128, numpy.clongdouble]]]]]],\n",
    "#   [numpy.flexible,\n",
    "#    [[numpy.character, [numpy.bytes_, numpy.str_]],\n",
    "#     [numpy.void, [numpy.record]]]],\n",
    "#   numpy.bool_,\n",
    "#   numpy.datetime64,\n",
    "#   numpy.object_]]"
   ]
  }
 ],
 "metadata": {
  "kernelspec": {
   "display_name": "myenv",
   "language": "python",
   "name": "python3"
  },
  "language_info": {
   "codemirror_mode": {
    "name": "ipython",
    "version": 3
   },
   "file_extension": ".py",
   "mimetype": "text/x-python",
   "name": "python",
   "nbconvert_exporter": "python",
   "pygments_lexer": "ipython3",
   "version": "3.11.5"
  },
  "orig_nbformat": 4
 },
 "nbformat": 4,
 "nbformat_minor": 2
}
