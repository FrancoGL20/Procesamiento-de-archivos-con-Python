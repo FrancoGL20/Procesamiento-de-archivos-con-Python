{
 "cells": [
  {
   "cell_type": "code",
   "execution_count": 2,
   "metadata": {},
   "outputs": [],
   "source": [
    "import numpy as np"
   ]
  },
  {
   "cell_type": "code",
   "execution_count": 3,
   "metadata": {},
   "outputs": [
    {
     "name": "stdout",
     "output_type": "stream",
     "text": [
      "[[ 0  1  2  3  4]\n",
      " [ 5  6  7  8  9]\n",
      " [10 11 12 13 14]]\n"
     ]
    }
   ],
   "source": [
    "# Create a 3x3 matrix\n",
    "matrix = a = np.arange(15).reshape(3, 5)\n",
    "\n",
    "# Print the matrix\n",
    "print(matrix)"
   ]
  },
  {
   "cell_type": "code",
   "execution_count": 4,
   "metadata": {
    "tags": []
   },
   "outputs": [
    {
     "data": {
      "text/plain": [
       "(3, 5)"
      ]
     },
     "execution_count": 4,
     "metadata": {},
     "output_type": "execute_result"
    }
   ],
   "source": [
    "matrix.shape"
   ]
  },
  {
   "cell_type": "code",
   "execution_count": 5,
   "metadata": {},
   "outputs": [
    {
     "name": "stdout",
     "output_type": "stream",
     "text": [
      "[[1 1 1]\n",
      " [1 1 1]]\n",
      "[[0.51182162 0.9504637  0.14415961]\n",
      " [0.94864945 0.31183145 0.42332645]]\n"
     ]
    }
   ],
   "source": [
    "rg = np.random.default_rng(1)\n",
    "a = np.ones((2, 3), dtype=int)\n",
    "b = rg.random((2, 3))\n",
    "\n",
    "print(a)\n",
    "print(b)"
   ]
  },
  {
   "cell_type": "code",
   "execution_count": 6,
   "metadata": {},
   "outputs": [
    {
     "data": {
      "text/plain": [
       "array([[[1, 1, 1, 1],\n",
       "        [1, 1, 1, 1],\n",
       "        [1, 1, 1, 1]],\n",
       "\n",
       "       [[1, 1, 1, 1],\n",
       "        [1, 1, 1, 1],\n",
       "        [1, 1, 1, 1]]], dtype=int16)"
      ]
     },
     "execution_count": 6,
     "metadata": {},
     "output_type": "execute_result"
    }
   ],
   "source": [
    "np.ones((2, 3, 4), dtype=np.int16)"
   ]
  },
  {
   "cell_type": "code",
   "execution_count": 7,
   "metadata": {},
   "outputs": [
    {
     "name": "stdout",
     "output_type": "stream",
     "text": [
      "[[[9.32763822e-312 9.32736242e-312 5.62548054e-119 6.10912067e-067]\n",
      "  [4.27255707e+180 6.96771801e+252 7.08468655e+159 8.12555790e-096]]\n",
      "\n",
      " [[1.12958007e+277 9.60674952e-037 7.01413727e-009 6.97387871e+228]\n",
      "  [7.47011456e-114 5.95750259e+271 5.95915351e+271 5.43256360e-096]]\n",
      "\n",
      " [[1.06259729e+223 1.14489505e-095 7.16006779e-062 9.13544126e+242]\n",
      "  [1.05135744e-153 2.00007403e+174 7.36191050e+223 9.31557487e-312]]]\n"
     ]
    }
   ],
   "source": [
    "empty_array_3d = np.empty((3, 2, 4))\n",
    "print(empty_array_3d)"
   ]
  },
  {
   "cell_type": "code",
   "execution_count": 8,
   "metadata": {},
   "outputs": [
    {
     "data": {
      "text/plain": [
       "array([0. , 0.3, 0.6, 0.9, 1.2, 1.5, 1.8])"
      ]
     },
     "execution_count": 8,
     "metadata": {},
     "output_type": "execute_result"
    }
   ],
   "source": [
    "np.arange(0, 2, 0.3)"
   ]
  },
  {
   "cell_type": "code",
   "execution_count": 9,
   "metadata": {},
   "outputs": [
    {
     "name": "stdout",
     "output_type": "stream",
     "text": [
      "[ 0  1  2  3  4  5  6  7  8  9 10 11 12 13 14 15 16 17 18 19 20 21 22 23\n",
      " 24 25 26 27 28 29 30 31 32 33 34 35 36 37 38 39 40 41 42 43 44 45 46 47\n",
      " 48 49 50 51 52 53 54 55 56 57 58 59 60 61 62 63 64 65 66 67 68 69 70 71\n",
      " 72 73 74 75 76 77 78 79 80 81 82 83 84 85 86 87 88 89 90 91 92 93 94 95\n",
      " 96 97 98 99]\n"
     ]
    }
   ],
   "source": [
    "import sys\n",
    "np.set_printoptions(threshold=sys.maxsize)  # sys module should be imported\n",
    "print(np.arange(100))"
   ]
  },
  {
   "cell_type": "code",
   "execution_count": 10,
   "metadata": {},
   "outputs": [
    {
     "name": "stdout",
     "output_type": "stream",
     "text": [
      "[[2 0]\n",
      " [0 4]]\n",
      "[[5 4]\n",
      " [3 4]]\n",
      "[[5 4]\n",
      " [3 4]]\n"
     ]
    }
   ],
   "source": [
    "A = np.array([[1, 1],\n",
    "              [0, 1]])\n",
    "B = np.array([[2, 0],\n",
    "              [3, 4]])\n",
    "print(A * B)     # elementwise product\n",
    "# array([[2, 0],\n",
    "#        [0, 4]])\n",
    "print(A @ B)     # matrix product\n",
    "# array([[5, 4],\n",
    "#        [3, 4]])\n",
    "print(A.dot(B))  # another matrix product\n",
    "# array([[5, 4],\n",
    "#        [3, 4]])"
   ]
  },
  {
   "cell_type": "code",
   "execution_count": 11,
   "metadata": {},
   "outputs": [
    {
     "name": "stdout",
     "output_type": "stream",
     "text": [
      "float64\n",
      "[1.         2.57079632 4.14159264]\n",
      "float64\n",
      "[ 0.54030231+0.84147098j -0.84147098+0.54030231j -0.54030231-0.84147098j]\n",
      "complex128\n"
     ]
    }
   ],
   "source": [
    "a = np.ones(3, dtype=np.int32)\n",
    "b = np.linspace(0, 3.14159264359, 3)\n",
    "print(b.dtype.name)\n",
    "# 'float64'\n",
    "c = a + b\n",
    "print(c)\n",
    "# array([1.        , 2.57079633, 4.14159265])\n",
    "print(c.dtype.name)\n",
    "# 'float64'\n",
    "d = np.exp(c * 1j)\n",
    "print(d)\n",
    "# array([ 0.54030231+0.84147098j, -0.84147098+0.54030231j,\n",
    "#        -0.54030231-0.84147098j])\n",
    "print(d.dtype.name)\n",
    "# 'complex128'"
   ]
  },
  {
   "cell_type": "code",
   "execution_count": 12,
   "metadata": {},
   "outputs": [
    {
     "name": "stdout",
     "output_type": "stream",
     "text": [
      "[[0.82770259 0.40919914 0.54959369]\n",
      " [0.02755911 0.75351311 0.53814331]]\n",
      "3.1057109529998157\n",
      "0.027559113243068367\n",
      "0.8277025938204418\n"
     ]
    }
   ],
   "source": [
    "a = rg.random((2, 3))\n",
    "print(a)\n",
    "# array([[0.82770259, 0.40919914, 0.54959369],\n",
    "#        [0.02755911, 0.75351311, 0.53814331]])\n",
    "print(a.sum())\n",
    "# 3.1057109529998157\n",
    "print(a.min())\n",
    "# 0.027559113243068367\n",
    "print(a.max())\n",
    "# 0.8277025938204418"
   ]
  },
  {
   "cell_type": "code",
   "execution_count": 13,
   "metadata": {},
   "outputs": [
    {
     "name": "stdout",
     "output_type": "stream",
     "text": [
      "[[ 0  1  2  3]\n",
      " [ 4  5  6  7]\n",
      " [ 8  9 10 11]]\n",
      "[12 15 18 21]\n",
      "[0 4 8]\n",
      "[[ 0  1  3  6]\n",
      " [ 4  9 15 22]\n",
      " [ 8 17 27 38]]\n"
     ]
    }
   ],
   "source": [
    "b = np.arange(12).reshape(3, 4)\n",
    "print(b)\n",
    "# array([[ 0,  1,  2,  3],\n",
    "#        [ 4,  5,  6,  7],\n",
    "#        [ 8,  9, 10, 11]])\n",
    "\n",
    "print(b.sum(axis=0))     # sum of each column\n",
    "# array([12, 15, 18, 21])\n",
    "\n",
    "print(b.min(axis=1))     # min of each row\n",
    "# array([0, 4, 8])\n",
    "\n",
    "print(b.cumsum(axis=1))  # cumulative sum along each row\n",
    "# array([[ 0,  1,  3,  6],\n",
    "#        [ 4,  9, 15, 22],\n",
    "#        [ 8, 17, 27, 38]])"
   ]
  },
  {
   "cell_type": "code",
   "execution_count": 14,
   "metadata": {},
   "outputs": [
    {
     "name": "stdout",
     "output_type": "stream",
     "text": [
      "[  0   1   8  27  64 125 216 343 512 729]\n",
      "8\n",
      "[ 8 27 64]\n",
      "[1000    1 1000   27 1000  125  216  343  512  729]\n",
      "[ 729  512  343  216  125 1000   27 1000    1 1000]\n",
      "9.999999999999998\n",
      "1.0\n",
      "9.999999999999998\n",
      "3.0\n",
      "9.999999999999998\n",
      "5.0\n",
      "5.999999999999999\n",
      "6.999999999999999\n",
      "7.999999999999999\n",
      "8.999999999999998\n"
     ]
    }
   ],
   "source": [
    "a = np.arange(10)**3\n",
    "print(a)\n",
    "# array([  0,   1,   8,  27,  64, 125, 216, 343, 512, 729])\n",
    "\n",
    "print(a[2])\n",
    "# 8\n",
    "\n",
    "print(a[2:5])\n",
    "# array([ 8, 27, 64])\n",
    "\n",
    "# from start to position 6, exclusive, set every 2nd element to 1000\n",
    "a[:6:2] = 1000\n",
    "print(a)\n",
    "# array([1000,    1, 1000,   27, 1000,  125,  216,  343,  512,  729])\n",
    "\n",
    "print(a[::-1])  # reversed a\n",
    "# array([ 729,  512,  343,  216,  125, 1000,   27, 1000,    1, 1000])\n",
    "\n",
    "for i in a:\n",
    "    print(i**(1 / 3.))\n",
    "# 9.999999999999998\n",
    "# 1.0\n",
    "# 9.999999999999998\n",
    "# 3.0\n",
    "# 9.999999999999998\n",
    "# 4.999999999999999\n",
    "# 5.999999999999999\n",
    "# 6.999999999999999\n",
    "# 7.999999999999999\n",
    "# 8.999999999999998"
   ]
  },
  {
   "cell_type": "code",
   "execution_count": 15,
   "metadata": {},
   "outputs": [
    {
     "name": "stdout",
     "output_type": "stream",
     "text": [
      "[[ 0  1  2  3]\n",
      " [10 11 12 13]\n",
      " [20 21 22 23]\n",
      " [30 31 32 33]\n",
      " [40 41 42 43]]\n",
      "23\n",
      "[ 1 11 21 31 41]\n",
      "[ 1 11 21 31 41]\n",
      "[[10 11 12 13]\n",
      " [20 21 22 23]]\n",
      "[40 41 42 43]\n"
     ]
    }
   ],
   "source": [
    "def f(x, y):\n",
    "    return 10 * x + y\n",
    "\n",
    "b = np.fromfunction(f, (5, 4), dtype=int)\n",
    "print(b)\n",
    "# array([[ 0,  1,  2,  3],\n",
    "#        [10, 11, 12, 13],\n",
    "#        [20, 21, 22, 23],\n",
    "#        [30, 31, 32, 33],\n",
    "#        [40, 41, 42, 43]])\n",
    "\n",
    "print(b[2, 3])\n",
    "# 23\n",
    "\n",
    "print(b[0:5, 1])  # cada fila de la segunda columna de b\n",
    "# array([ 1, 11, 21, 31, 41])\n",
    "\n",
    "print(b[:, 1])    # equivalente al ejemplo anterior\n",
    "# array([ 1, 11, 21, 31, 41])\n",
    "\n",
    "print(b[1:3, :])  # cada columna en la segunda y tercera fila de b\n",
    "# array([[10, 11, 12, 13],\n",
    "#        [20, 21, 22, 23]])\n",
    "\n",
    "print(b[-1])   # the last row. Equivalent to b[-1, :]\n",
    "# array([40, 41, 42, 43])"
   ]
  },
  {
   "cell_type": "code",
   "execution_count": 18,
   "metadata": {},
   "outputs": [
    {
     "name": "stdout",
     "output_type": "stream",
     "text": [
      "[[[  0   1   2]\n",
      "  [ 10  12  13]]\n",
      "\n",
      " [[100 101 102]\n",
      "  [110 112 113]]]\n",
      "(2, 2, 3)\n",
      "[[100 101 102]\n",
      " [110 112 113]]\n",
      "[[  2  13]\n",
      " [102 113]]\n"
     ]
    }
   ],
   "source": [
    "c = np.array([[[0,  1,  2],  # una matriz 3D (dos matrices 2D apiladas)\n",
    "               [10, 12, 13]],\n",
    "              [[100, 101, 102],\n",
    "               [110, 112, 113]]])\n",
    "\n",
    "print(c)\n",
    "\n",
    "# Obtener la forma de la matriz\n",
    "print(c.shape)\n",
    "# (2, 2, 3)\n",
    "\n",
    "# Obtener el primer elemento de la tercera dimensión, que es una matriz 2D\n",
    "print(c[1, ...])  # igual que c[1, :, :] or c[1]\n",
    "# array([[100, 101, 102],\n",
    "#    [110, 112, 113]])\n",
    "\n",
    "# Obtener el segundo elemento de la primera dimensión, que es una matriz 2D\n",
    "print(c[..., 2])  # same as c[:, :, 2]\n",
    "# array([[2,  13],\n",
    "#    [102, 113]])"
   ]
  },
  {
   "cell_type": "code",
   "execution_count": 22,
   "metadata": {},
   "outputs": [
    {
     "name": "stdout",
     "output_type": "stream",
     "text": [
      "[[[ 0  1]\n",
      "  [ 2  3]]\n",
      "\n",
      " [[ 4  5]\n",
      "  [ 6  7]]\n",
      "\n",
      " [[ 8  9]\n",
      "  [10 11]]]\n",
      "(3, 2, 2)\n",
      "[[ 0  2]\n",
      " [ 4  6]\n",
      " [ 8 10]]\n",
      "[[[0 1]]\n",
      "\n",
      " [[4 5]]\n",
      "\n",
      " [[8 9]]]\n"
     ]
    }
   ],
   "source": [
    "# Crear un array tridimensional\n",
    "arr = np.array([[[0, 1], [2, 3]],\n",
    "                [[4, 5], [6, 7]],\n",
    "                [[8, 9], [10, 11]]])\n",
    "\n",
    "print(arr)\n",
    "print(arr.shape)\n",
    "\n",
    "# Usar ... para seleccionar todas las dimensiones excepto la última\n",
    "all_but_last = arr[..., 0]\n",
    "print(all_but_last)\n",
    "# Salida:\n",
    "# [[ 0  2]\n",
    "#  [ 4  6]\n",
    "#  [ 8 10]]\n",
    "\n",
    "# Usar ... para seleccionar la primera fila y columna de la segunda dimensión\n",
    "first_two_rows = arr[:, :1, :]\n",
    "print(first_two_rows)\n",
    "# Salida:\n",
    "# [[[ 0  1]\n",
    "#   [ 2  3]]\n",
    "#\n",
    "#  [[ 4  5]\n",
    "#   [ 6  7]]\n",
    "#\n",
    "#  [[ 8  9]\n",
    "#   [10 11]]]\n"
   ]
  }
 ],
 "metadata": {
  "kernelspec": {
   "display_name": "myenv",
   "language": "python",
   "name": "python3"
  },
  "language_info": {
   "codemirror_mode": {
    "name": "ipython",
    "version": 3
   },
   "file_extension": ".py",
   "mimetype": "text/x-python",
   "name": "python",
   "nbconvert_exporter": "python",
   "pygments_lexer": "ipython3",
   "version": "3.11.1"
  },
  "orig_nbformat": 4
 },
 "nbformat": 4,
 "nbformat_minor": 2
}
