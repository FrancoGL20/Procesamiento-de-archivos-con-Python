{
 "cells": [
  {
   "cell_type": "code",
   "execution_count": 9,
   "metadata": {},
   "outputs": [],
   "source": [
    "import numpy as np\n",
    "\n",
    "import pandas as pd"
   ]
  },
  {
   "cell_type": "code",
   "execution_count": 10,
   "metadata": {},
   "outputs": [],
   "source": [
    "index = pd.date_range(\"1/1/2000\", periods=8)\n",
    "\n",
    "s = pd.Series(np.random.randn(5), index=[\"a\", \"b\", \"c\", \"d\", \"e\"])\n",
    "\n",
    "df = pd.DataFrame(np.random.randn(8, 3), index=index, columns=[\"A\", \"B\", \"C\"])\n",
    "\n",
    "df = pd.DataFrame(\n",
    "    {\n",
    "        \"one\": pd.Series(np.random.randn(3), index=[\"a\", \"b\", \"c\"]),\n",
    "        \"two\": pd.Series(np.random.randn(4), index=[\"a\", \"b\", \"c\", \"d\"]),\n",
    "        \"three\": pd.Series(np.random.randn(3), index=[\"b\", \"c\", \"d\"]),\n",
    "    }\n",
    ")"
   ]
  },
  {
   "cell_type": "code",
   "execution_count": 11,
   "metadata": {},
   "outputs": [
    {
     "name": "stdout",
     "output_type": "stream",
     "text": [
      "   A  B\n",
      "0  0  1\n",
      "1  1  2\n",
      "2  2  3\n",
      "   A  B\n",
      "0  1  2\n",
      "1  2  3\n",
      "2  3  4\n"
     ]
    }
   ],
   "source": [
    "df = pd.DataFrame(\n",
    "    {\n",
    "        \"one\": pd.Series(np.random.randn(3), index=[\"a\", \"b\", \"c\"]),\n",
    "        \"two\": pd.Series(np.random.randn(4), index=[\"a\", \"b\", \"c\", \"d\"]),\n",
    "        \"three\": pd.Series(np.random.randn(3), index=[\"b\", \"c\", \"d\"]),\n",
    "    }\n",
    ")\n",
    "\n",
    "df = pd.DataFrame({'A': range(3), 'B': range(1, 4)})\n",
    "print(df)\n",
    "#    A  B\n",
    "# 0  0  1\n",
    "# 1  1  2\n",
    "# 2  2  3\n",
    "\n",
    "print(df.transform(lambda x: x + 1))\n",
    "#    A  B\n",
    "# 0  1  2\n",
    "# 1  2  3\n",
    "# 2  3  4"
   ]
  },
  {
   "cell_type": "code",
   "execution_count": 12,
   "metadata": {},
   "outputs": [
    {
     "name": "stdout",
     "output_type": "stream",
     "text": [
      "   A  B\n",
      "0  0  1\n",
      "1  1  2\n",
      "2  2  3\n",
      "   A  B\n",
      "0  1  2\n",
      "1  2  3\n",
      "2  3  4\n"
     ]
    }
   ],
   "source": [
    "df = pd.DataFrame({'A': range(3), 'B': range(1, 4)})\n",
    "print(df)\n",
    "#    A  B\n",
    "# 0  0  1\n",
    "# 1  1  2\n",
    "# 2  2  3\n",
    "\n",
    "print(df.transform(lambda x: x + 1))\n",
    "#    A  B\n",
    "# 0  1  2\n",
    "# 1  2  3\n",
    "# 2  3  4"
   ]
  },
  {
   "cell_type": "code",
   "execution_count": 13,
   "metadata": {},
   "outputs": [
    {
     "name": "stdout",
     "output_type": "stream",
     "text": [
      "0    0\n",
      "1    1\n",
      "2    2\n",
      "dtype: int64\n",
      "       sqrt       exp\n",
      "0  0.000000  1.000000\n",
      "1  1.000000  2.718282\n",
      "2  1.414214  7.389056\n"
     ]
    }
   ],
   "source": [
    "s = pd.Series(range(3))\n",
    "print(s)\n",
    "# 0    0\n",
    "# 1    1\n",
    "# 2    2\n",
    "# dtype: int64\n",
    "\n",
    "print(s.transform([np.sqrt, np.exp]))\n",
    "#        sqrt        exp\n",
    "# 0  0.000000   1.000000\n",
    "# 1  1.000000   2.718282\n",
    "# 2  1.414214   7.389056"
   ]
  },
  {
   "cell_type": "code",
   "execution_count": 14,
   "metadata": {},
   "outputs": [
    {
     "name": "stdout",
     "output_type": "stream",
     "text": [
      "         Date  Data\n",
      "0  2015-05-08     5\n",
      "1  2015-05-07     8\n",
      "2  2015-05-06     6\n",
      "3  2015-05-05     1\n",
      "4  2015-05-08    50\n",
      "5  2015-05-07   100\n",
      "6  2015-05-06    60\n",
      "7  2015-05-05   120\n",
      "0     55\n",
      "1    108\n",
      "2     66\n",
      "3    121\n",
      "4     55\n",
      "5    108\n",
      "6     66\n",
      "7    121\n",
      "Name: Data, dtype: int64\n",
      "   c type\n",
      "0  1    m\n",
      "1  1    n\n",
      "2  1    o\n",
      "3  2    m\n",
      "4  2    m\n",
      "5  2    n\n",
      "6  2    n\n",
      "   c type  size\n",
      "0  1    m     3\n",
      "1  1    n     3\n",
      "2  1    o     3\n",
      "3  2    m     4\n",
      "4  2    m     4\n",
      "5  2    n     4\n",
      "6  2    n     4\n"
     ]
    }
   ],
   "source": [
    "df = pd.DataFrame({\n",
    "    \"Date\": [\n",
    "        \"2015-05-08\", \"2015-05-07\", \"2015-05-06\", \"2015-05-05\",\n",
    "        \"2015-05-08\", \"2015-05-07\", \"2015-05-06\", \"2015-05-05\"],\n",
    "    \"Data\": [5, 8, 6, 1, 50, 100, 60, 120],\n",
    "})\n",
    "print(df)\n",
    "#          Date  Data\n",
    "# 0  2015-05-08     5\n",
    "# 1  2015-05-07     8\n",
    "# 2  2015-05-06     6\n",
    "# 3  2015-05-05     1\n",
    "# 4  2015-05-08    50\n",
    "# 5  2015-05-07   100\n",
    "# 6  2015-05-06    60\n",
    "# 7  2015-05-05   120\n",
    "\n",
    "print(df.groupby('Date')['Data'].transform('sum'))\n",
    "# 0     55\n",
    "# 1    108\n",
    "# 2     66\n",
    "# 3    121\n",
    "# 4     55\n",
    "# 5    108\n",
    "# 6     66\n",
    "# 7    121\n",
    "# Name: Data, dtype: int64\n",
    "\n",
    "df = pd.DataFrame({\n",
    "    \"c\": [1, 1, 1, 2, 2, 2, 2],\n",
    "    \"type\": [\"m\", \"n\", \"o\", \"m\", \"m\", \"n\", \"n\"]\n",
    "})\n",
    "\n",
    "print(df)\n",
    "#    c type\n",
    "# 0  1    m\n",
    "# 1  1    n\n",
    "# 2  1    o\n",
    "# 3  2    m\n",
    "# 4  2    m\n",
    "# 5  2    n\n",
    "# 6  2    n\n",
    "\n",
    "df['size'] = df.groupby('c')['type'].transform(len)\n",
    "\n",
    "print(df)\n",
    "#    c type size\n",
    "# 0  1    m    3\n",
    "# 1  1    n    3\n",
    "# 2  1    o    3\n",
    "# 3  2    m    4\n",
    "# 4  2    m    4\n",
    "# 5  2    n    4\n",
    "# 6  2    n    4"
   ]
  }
 ],
 "metadata": {
  "kernelspec": {
   "display_name": "myenv",
   "language": "python",
   "name": "python3"
  },
  "language_info": {
   "codemirror_mode": {
    "name": "ipython",
    "version": 3
   },
   "file_extension": ".py",
   "mimetype": "text/x-python",
   "name": "python",
   "nbconvert_exporter": "python",
   "pygments_lexer": "ipython3",
   "version": "3.11.1"
  },
  "orig_nbformat": 4
 },
 "nbformat": 4,
 "nbformat_minor": 2
}
