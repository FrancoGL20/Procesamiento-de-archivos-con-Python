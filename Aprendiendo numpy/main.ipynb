{
 "cells": [
  {
   "cell_type": "code",
   "execution_count": 2,
   "metadata": {},
   "outputs": [],
   "source": [
    "import numpy as np\n",
    "\n",
    "import pandas as pd"
   ]
  },
  {
   "cell_type": "code",
   "execution_count": 3,
   "metadata": {},
   "outputs": [],
   "source": [
    "index = pd.date_range(\"1/1/2000\", periods=8)\n",
    "\n",
    "s = pd.Series(np.random.randn(5), index=[\"a\", \"b\", \"c\", \"d\", \"e\"])\n",
    "\n",
    "df = pd.DataFrame(np.random.randn(8, 3), index=index, columns=[\"A\", \"B\", \"C\"])"
   ]
  },
  {
   "cell_type": "code",
   "execution_count": 12,
   "metadata": {},
   "outputs": [
    {
     "name": "stdout",
     "output_type": "stream",
     "text": [
      "0    False\n",
      "1    False\n",
      "2    False\n",
      "3    False\n",
      "dtype: bool\n",
      "0    True\n",
      "1    True\n",
      "2    True\n",
      "3    True\n",
      "dtype: bool\n",
      "0     True\n",
      "1     True\n",
      "2    False\n",
      "3    False\n",
      "dtype: bool\n",
      "0    False\n",
      "1    False\n",
      "2     True\n",
      "3     True\n",
      "dtype: bool\n",
      "0     True\n",
      "1     True\n",
      "2    False\n",
      "3    False\n",
      "dtype: bool\n",
      "0    False\n",
      "1    False\n",
      "2     True\n",
      "3     True\n",
      "dtype: bool\n"
     ]
    }
   ],
   "source": [
    "import pandas as pd\n",
    "\n",
    "data = {\n",
    "    'A': [1, 2, 3, 4],\n",
    "    'B': [4, 3, 2, 1]\n",
    "}\n",
    "\n",
    "df = pd.DataFrame(data)\n",
    "\n",
    "# Operador de igualdad (eq)\n",
    "resultado_eq = df['A'].eq(df['B'])  # Comprobar si las columnas 'A' y 'B' son iguales elemento por elemento\n",
    "print(resultado_eq)\n",
    "# 0    False\n",
    "# 1    False\n",
    "# 2    False\n",
    "# 3    False\n",
    "# dtype: bool\n",
    "\n",
    "# Operador de desigualdad (ne)\n",
    "resultado_ne = df['A'].ne(df['B'])  # Comprobar si las columnas 'A' y 'B' son diferentes elemento por elemento\n",
    "print(resultado_ne)\n",
    "# 0    True\n",
    "# 1    True\n",
    "# 2    True\n",
    "# 3    True\n",
    "# dtype: bool\n",
    "\n",
    "# Operador menor que (lt)\n",
    "resultado_lt = df['A'].lt(df['B'])  # Comprobar si 'A' es menor que 'B' elemento por elemento\n",
    "print(resultado_lt)\n",
    "# 0     True\n",
    "# 1     True\n",
    "# 2    False\n",
    "# 3    False\n",
    "# dtype: bool\n",
    "\n",
    "# Operador mayor que (gt)\n",
    "resultado_gt = df['A'].gt(df['B'])  # Comprobar si 'A' es mayor que 'B' elemento por elemento\n",
    "print(resultado_gt)\n",
    "# 0    False\n",
    "# 1    False\n",
    "# 2     True\n",
    "# 3     True\n",
    "# dtype: bool\n",
    "\n",
    "# Operador menor o igual que (le)\n",
    "resultado_le = df['A'].le(df['B'])  # Comprobar si 'A' es menor o igual que 'B' elemento por elemento\n",
    "print(resultado_le)\n",
    "# 0     True\n",
    "# 1     True\n",
    "# 2    False\n",
    "# 3    False\n",
    "# dtype: bool\n",
    "\n",
    "# Operador mayor o igual que (ge)\n",
    "resultado_ge = df['A'].ge(df['B'])  # Comprobar si 'A' es mayor o igual que 'B' elemento por elemento\n",
    "print(resultado_ge)\n",
    "# 0    False\n",
    "# 1    False\n",
    "# 2     True\n",
    "# 3     True\n",
    "# dtype: bool\n"
   ]
  }
 ],
 "metadata": {
  "kernelspec": {
   "display_name": "myenv",
   "language": "python",
   "name": "python3"
  },
  "language_info": {
   "codemirror_mode": {
    "name": "ipython",
    "version": 3
   },
   "file_extension": ".py",
   "mimetype": "text/x-python",
   "name": "python",
   "nbconvert_exporter": "python",
   "pygments_lexer": "ipython3",
   "version": "3.11.1"
  },
  "orig_nbformat": 4
 },
 "nbformat": 4,
 "nbformat_minor": 2
}
