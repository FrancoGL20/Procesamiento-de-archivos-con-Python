{
 "cells": [
  {
   "cell_type": "code",
   "execution_count": 5,
   "metadata": {},
   "outputs": [],
   "source": [
    "import numpy as np\n",
    "\n",
    "import pandas as pd"
   ]
  },
  {
   "cell_type": "code",
   "execution_count": 24,
   "metadata": {},
   "outputs": [
    {
     "name": "stdout",
     "output_type": "stream",
     "text": [
      "   Nombre  Edad  Edad_en_anios\n",
      "0    Juan    25            300\n",
      "1   María    30            360\n",
      "2  Carlos    28            336\n"
     ]
    }
   ],
   "source": [
    "data = {\n",
    "    'Nombre': ['Juan', 'María', 'Carlos'],\n",
    "    'Edad': [25, 30, 28]\n",
    "}\n",
    "\n",
    "df = pd.DataFrame(data)\n",
    "\n",
    "# Agregar una nueva columna de edades en meses\n",
    "edades_en_meses = [edad*12 for edad in df['Edad']]\n",
    "df['Edad_en_anios'] = edades_en_meses\n",
    "\n",
    "print(df)\n"
   ]
  },
  {
   "cell_type": "code",
   "execution_count": 26,
   "metadata": {},
   "outputs": [
    {
     "name": "stdout",
     "output_type": "stream",
     "text": [
      "0      Juan\n",
      "1     María\n",
      "2    Carlos\n",
      "Name: Nombre, dtype: object\n"
     ]
    }
   ],
   "source": [
    "import pandas as pd\n",
    "\n",
    "data = {\n",
    "    'Nombre': ['Juan', 'María', 'Carlos'],\n",
    "    'Edad': [25, 30, 28]\n",
    "}\n",
    "\n",
    "df = pd.DataFrame(data)\n",
    "\n",
    "print(df['Nombre'])\n",
    "# 0      Juan\n",
    "# 1     María\n",
    "# 2    Carlos\n",
    "# Name: Nombre, dtype: object"
   ]
  },
  {
   "cell_type": "code",
   "execution_count": 31,
   "metadata": {},
   "outputs": [
    {
     "name": "stdout",
     "output_type": "stream",
     "text": [
      "   Nombre  Edad     Ciudad\n",
      "0    Juan    25     Madrid\n",
      "1   María    30  Barcelona\n",
      "2  Carlos    28   Valencia\n",
      "   Nombre     Ciudad\n",
      "0    Juan     Madrid\n",
      "1   María  Barcelona\n",
      "2  Carlos   Valencia\n",
      "   Edad     Ciudad\n",
      "0    25     Madrid\n",
      "1    30  Barcelona\n"
     ]
    }
   ],
   "source": [
    "data = {\n",
    "    'Nombre': ['Juan', 'María', 'Carlos'],\n",
    "    'Edad': [25, 30, 28],\n",
    "    'Ciudad': ['Madrid', 'Barcelona', 'Valencia']\n",
    "}\n",
    "\n",
    "df = pd.DataFrame(data)\n",
    "\n",
    "print(df)\n",
    "#    Nombre  Edad     Ciudad\n",
    "# 0    Juan    25     Madrid\n",
    "# 1   María    30  Barcelona\n",
    "# 2  Carlos    28   Valencia\n",
    "\n",
    "print(df.loc[:, ['Nombre', 'Ciudad']])\n",
    "#    Nombre     Ciudad\n",
    "# 0    Juan     Madrid\n",
    "# 1   María  Barcelona\n",
    "# 2  Carlos   Valencia\n",
    "\n",
    "print(df.loc[:1, ['Edad', 'Ciudad']])\n",
    "#    Edad     Ciudad\n",
    "# 0    25     Madrid\n",
    "# 1    30  Barcelona"
   ]
  },
  {
   "cell_type": "code",
   "execution_count": 34,
   "metadata": {},
   "outputs": [
    {
     "name": "stdout",
     "output_type": "stream",
     "text": [
      "   Nombre  Edad Clasificación\n",
      "0    Juan    25         Joven\n",
      "1   María    30        Adulto\n",
      "2  Carlos    28         Joven\n"
     ]
    }
   ],
   "source": [
    "import pandas as pd\n",
    "\n",
    "data = {\n",
    "    'Nombre': ['Juan', 'María', 'Carlos'],\n",
    "    'Edad': [25, 30, 28]\n",
    "}\n",
    "\n",
    "df = pd.DataFrame(data)\n",
    "\n",
    "# Definir una función que clasifica a las personas por edad\n",
    "def clasificar_edad(edad):\n",
    "    if edad < 30:\n",
    "        return 'Joven'\n",
    "    else:\n",
    "        return 'Adulto'\n",
    "\n",
    "# Agregar una columna 'Clasificación' basada en la función\n",
    "df['Clasificación'] = df['Edad'].apply(clasificar_edad)\n",
    "\n",
    "print(df)\n",
    "#    Nombre  Edad Clasificación\n",
    "# 0    Juan    25         Joven\n",
    "# 1   María    30        Adulto\n",
    "# 2  Carlos    28         Joven"
   ]
  },
  {
   "cell_type": "code",
   "execution_count": 39,
   "metadata": {},
   "outputs": [
    {
     "name": "stdout",
     "output_type": "stream",
     "text": [
      "     name   class  max_speed\n",
      "0  falcon    bird      389.0\n",
      "1  parrot    bird       24.0\n",
      "2    lion  mammal       80.5\n",
      "3  monkey  mammal        NaN\n",
      "0      bird\n",
      "1      bird\n",
      "2    mammal\n",
      "3    mammal\n",
      "Name: class, dtype: object\n",
      "     name  max_speed\n",
      "0  falcon      389.0\n",
      "1  parrot       24.0\n",
      "2    lion       80.5\n",
      "3  monkey        NaN\n"
     ]
    }
   ],
   "source": [
    "df = pd.DataFrame([('falcon', 'bird', 389.0),\n",
    "                   ('parrot', 'bird', 24.0),\n",
    "                   ('lion', 'mammal', 80.5),\n",
    "                   ('monkey', 'mammal', np.nan)],\n",
    "                  columns=('name', 'class', 'max_speed'))\n",
    "\n",
    "print(df)\n",
    "#      name   class  max_speed\n",
    "# 0  falcon    bird      389.0\n",
    "# 1  parrot    bird       24.0\n",
    "# 2    lion  mammal       80.5\n",
    "# 3  monkey  mammal        NaN\n",
    "\n",
    "print(df.pop('class'))\n",
    "# 0      bird\n",
    "# 1      bird\n",
    "# 2    mammal\n",
    "# 3    mammal\n",
    "# Name: class, dtype: object\n",
    "\n",
    "print(df)\n",
    "#      name  max_speed\n",
    "# 0  falcon      389.0\n",
    "# 1  parrot       24.0\n",
    "# 2    lion       80.5\n",
    "# 3  monkey        NaN"
   ]
  },
  {
   "cell_type": "code",
   "execution_count": null,
   "metadata": {},
   "outputs": [],
   "source": []
  }
 ],
 "metadata": {
  "kernelspec": {
   "display_name": "myenv",
   "language": "python",
   "name": "python3"
  },
  "language_info": {
   "codemirror_mode": {
    "name": "ipython",
    "version": 3
   },
   "file_extension": ".py",
   "mimetype": "text/x-python",
   "name": "python",
   "nbconvert_exporter": "python",
   "pygments_lexer": "ipython3",
   "version": "3.11.1"
  },
  "orig_nbformat": 4
 },
 "nbformat": 4,
 "nbformat_minor": 2
}
