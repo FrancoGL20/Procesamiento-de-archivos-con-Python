{
 "cells": [
  {
   "cell_type": "code",
   "execution_count": 1,
   "metadata": {},
   "outputs": [],
   "source": [
    "import numpy as np\n",
    "\n",
    "import pandas as pd"
   ]
  },
  {
   "cell_type": "code",
   "execution_count": 8,
   "metadata": {},
   "outputs": [
    {
     "name": "stdout",
     "output_type": "stream",
     "text": [
      "                   A         B         C\n",
      "2000-01-01  1.003302 -0.459020  0.243809\n",
      "2000-01-02  1.685309  0.873540 -0.370400\n",
      "2000-01-03  1.303353 -1.524264 -0.384467\n",
      "2000-01-04 -0.408478  0.983023 -1.265903\n",
      "2000-01-05 -0.076851 -1.552573 -0.109618\n",
      "2000-01-06 -0.965048  0.019648  1.413249\n",
      "2000-01-07 -0.165985  1.528575 -0.693399\n",
      "2000-01-08 -0.331619  0.168145 -0.387928\n"
     ]
    }
   ],
   "source": [
    "index = pd.date_range(\"1/1/2000\", periods=8)\n",
    "\n",
    "s = pd.Series(np.random.randn(5), index=[\"a\", \"b\", \"c\", \"d\", \"e\"])\n",
    "\n",
    "df = pd.DataFrame(np.random.randn(8, 3), index=index, columns=[\"A\", \"B\", \"C\"])"
   ]
  },
  {
   "cell_type": "code",
   "execution_count": 3,
   "metadata": {},
   "outputs": [
    {
     "name": "stdout",
     "output_type": "stream",
     "text": [
      "True\n",
      "False\n",
      "True\n",
      "True\n",
      "True\n"
     ]
    }
   ],
   "source": [
    "print(pd.Series([True, True]).all())\n",
    "# True\n",
    "print(pd.Series([True, False]).all())\n",
    "# False\n",
    "print(pd.Series([], dtype=\"float64\").all())\n",
    "# True\n",
    "print(pd.Series([np.nan]).all())\n",
    "# True\n",
    "print(pd.Series([np.nan]).all(skipna=False))\n",
    "# True"
   ]
  },
  {
   "cell_type": "code",
   "execution_count": 4,
   "metadata": {},
   "outputs": [
    {
     "name": "stdout",
     "output_type": "stream",
     "text": [
      "   col1   col2\n",
      "0  True   True\n",
      "1  True  False\n",
      "col1     True\n",
      "col2    False\n",
      "dtype: bool\n",
      "0     True\n",
      "1    False\n",
      "dtype: bool\n",
      "False\n"
     ]
    }
   ],
   "source": [
    "df = pd.DataFrame({'col1': [True, True], 'col2': [True, False]})\n",
    "print(df)\n",
    "#    col1   col2\n",
    "# 0  True   True\n",
    "# 1  True  False\n",
    "\n",
    "print(df.all())\n",
    "# col1     True\n",
    "# col2    False\n",
    "# dtype: bool\n",
    "\n",
    "print(df.all(axis='columns'))\n",
    "# 0     True\n",
    "# 1    False\n",
    "# dtype: bool\n",
    "\n",
    "print(df.all(axis=None))\n",
    "# False"
   ]
  },
  {
   "cell_type": "code",
   "execution_count": 9,
   "metadata": {},
   "outputs": [
    {
     "name": "stdout",
     "output_type": "stream",
     "text": [
      "        one       two     three\n",
      "a -0.879564 -1.413755       NaN\n",
      "b -0.478495 -0.280680 -0.813110\n",
      "c  0.774675 -0.893222 -1.392536\n",
      "d       NaN -0.340255 -1.004804\n"
     ]
    }
   ],
   "source": [
    "df = pd.DataFrame(\n",
    "    {\n",
    "        \"one\": pd.Series(np.random.randn(3), index=[\"a\", \"b\", \"c\"]),\n",
    "        \"two\": pd.Series(np.random.randn(4), index=[\"a\", \"b\", \"c\", \"d\"]),\n",
    "        \"three\": pd.Series(np.random.randn(3), index=[\"b\", \"c\", \"d\"]),\n",
    "    }\n",
    ")\n",
    "\n",
    "print(df)\n",
    "\n"
   ]
  }
 ],
 "metadata": {
  "kernelspec": {
   "display_name": "myenv",
   "language": "python",
   "name": "python3"
  },
  "language_info": {
   "codemirror_mode": {
    "name": "ipython",
    "version": 3
   },
   "file_extension": ".py",
   "mimetype": "text/x-python",
   "name": "python",
   "nbconvert_exporter": "python",
   "pygments_lexer": "ipython3",
   "version": "3.11.1"
  },
  "orig_nbformat": 4
 },
 "nbformat": 4,
 "nbformat_minor": 2
}
