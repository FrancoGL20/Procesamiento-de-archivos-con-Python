{
 "cells": [
  {
   "cell_type": "code",
   "execution_count": 2,
   "metadata": {},
   "outputs": [],
   "source": [
    "import numpy as np\n",
    "\n",
    "import pandas as pd"
   ]
  },
  {
   "cell_type": "code",
   "execution_count": 3,
   "metadata": {},
   "outputs": [],
   "source": [
    "index = pd.date_range(\"1/1/2000\", periods=8)\n",
    "\n",
    "s = pd.Series(np.random.randn(5), index=[\"a\", \"b\", \"c\", \"d\", \"e\"])\n",
    "\n",
    "df = pd.DataFrame(np.random.randn(8, 3), index=index, columns=[\"A\", \"B\", \"C\"])\n",
    "\n",
    "df = pd.DataFrame(\n",
    "    {\n",
    "        \"one\": pd.Series(np.random.randn(3), index=[\"a\", \"b\", \"c\"]),\n",
    "        \"two\": pd.Series(np.random.randn(4), index=[\"a\", \"b\", \"c\", \"d\"]),\n",
    "        \"three\": pd.Series(np.random.randn(3), index=[\"b\", \"c\", \"d\"]),\n",
    "    }\n",
    ")"
   ]
  },
  {
   "cell_type": "code",
   "execution_count": 20,
   "metadata": {},
   "outputs": [
    {
     "name": "stdout",
     "output_type": "stream",
     "text": [
      "        one       two     three\n",
      "a -2.036219 -0.870136       NaN\n",
      "b  0.281373 -0.363801 -0.150321\n",
      "c  0.694151 -0.645903 -0.398102\n",
      "d       NaN  0.837005  0.027494\n",
      "one           NaN\n",
      "two     -1.042835\n",
      "three         NaN\n",
      "dtype: float64\n",
      "a   -2.906355\n",
      "b   -0.232749\n",
      "c   -0.349854\n",
      "d    0.864499\n",
      "dtype: float64\n"
     ]
    }
   ],
   "source": [
    "df = pd.DataFrame(\n",
    "    {\n",
    "        \"one\": pd.Series(np.random.randn(3), index=[\"a\", \"b\", \"c\"]),\n",
    "        \"two\": pd.Series(np.random.randn(4), index=[\"a\", \"b\", \"c\", \"d\"]),\n",
    "        \"three\": pd.Series(np.random.randn(3), index=[\"b\", \"c\", \"d\"]),\n",
    "    }\n",
    ")\n",
    "\n",
    "print(df)\n",
    "#         one       two     three\n",
    "# a  0.577602  0.025092       NaN\n",
    "# b -0.693054 -0.831647  1.195486\n",
    "# c  1.224056  0.084098 -0.282935\n",
    "# d       NaN -1.020385  0.154739\n",
    "\n",
    "print(df.sum(0, skipna=False))\n",
    "# one           NaN\n",
    "# two     -1.042835\n",
    "# three         NaN\n",
    "# dtype: float64\n",
    "\n",
    "print(df.sum(axis=1, skipna=True))\n",
    "# a   -2.906355\n",
    "# b   -0.232749\n",
    "# c   -0.349854\n",
    "# d    0.864499\n",
    "# dtype: float64"
   ]
  }
 ],
 "metadata": {
  "kernelspec": {
   "display_name": "myenv",
   "language": "python",
   "name": "python3"
  },
  "language_info": {
   "codemirror_mode": {
    "name": "ipython",
    "version": 3
   },
   "file_extension": ".py",
   "mimetype": "text/x-python",
   "name": "python",
   "nbconvert_exporter": "python",
   "pygments_lexer": "ipython3",
   "version": "3.11.5"
  },
  "orig_nbformat": 4
 },
 "nbformat": 4,
 "nbformat_minor": 2
}
