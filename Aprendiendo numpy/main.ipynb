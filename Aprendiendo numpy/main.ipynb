{
 "cells": [
  {
   "cell_type": "code",
   "execution_count": 1,
   "metadata": {},
   "outputs": [],
   "source": [
    "import numpy as np\n",
    "\n",
    "import pandas as pd"
   ]
  },
  {
   "cell_type": "code",
   "execution_count": 2,
   "metadata": {},
   "outputs": [],
   "source": [
    "index = pd.date_range(\"1/1/2000\", periods=8)\n",
    "\n",
    "s = pd.Series(np.random.randn(5), index=[\"a\", \"b\", \"c\", \"d\", \"e\"])\n",
    "\n",
    "df = pd.DataFrame(np.random.randn(8, 3), index=index, columns=[\"A\", \"B\", \"C\"])\n",
    "\n",
    "df = pd.DataFrame(\n",
    "    {\n",
    "        \"one\": pd.Series(np.random.randn(3), index=[\"a\", \"b\", \"c\"]),\n",
    "        \"two\": pd.Series(np.random.randn(4), index=[\"a\", \"b\", \"c\", \"d\"]),\n",
    "        \"three\": pd.Series(np.random.randn(3), index=[\"b\", \"c\", \"d\"]),\n",
    "    }\n",
    ")"
   ]
  },
  {
   "cell_type": "code",
   "execution_count": 3,
   "metadata": {},
   "outputs": [
    {
     "name": "stdout",
     "output_type": "stream",
     "text": [
      "       0      1\n",
      "0  1.000  2.120\n",
      "1  3.356  4.567\n",
      "   0  1\n",
      "0  3  4\n",
      "1  5  5\n"
     ]
    }
   ],
   "source": [
    "df = pd.DataFrame([[1, 2.12], [3.356, 4.567]])\n",
    "print(df)\n",
    "#        0      1\n",
    "# 0  1.000  2.120\n",
    "# 1  3.356  4.567\n",
    "\n",
    "print(df.map(lambda x: len(str(x))))\n",
    "#    0  1\n",
    "# 0  3  4\n",
    "# 1  5  5\n",
    "\n",
    "df_copy = df.copy()\n",
    "df_copy.iloc[0, 0] = pd.NA\n",
    "df_copy.map(lambda x: len(str(x)), na_action='ignore') # recommended\n",
    "#      0  1\n",
    "# 0  NaN  4\n",
    "# 1  5.0  5"
   ]
  },
  {
   "cell_type": "code",
   "execution_count": 4,
   "metadata": {},
   "outputs": [
    {
     "name": "stdout",
     "output_type": "stream",
     "text": [
      "0       cat\n",
      "1       dog\n",
      "2       NaN\n",
      "3    rabbit\n",
      "dtype: object\n",
      "0    kitten\n",
      "1     puppy\n",
      "2       NaN\n",
      "3       NaN\n",
      "dtype: object\n",
      "0       I am a cat\n",
      "1       I am a dog\n",
      "2       I am a nan\n",
      "3    I am a rabbit\n",
      "dtype: object\n",
      "0       I am a cat\n",
      "1       I am a dog\n",
      "2              NaN\n",
      "3    I am a rabbit\n",
      "dtype: object\n"
     ]
    }
   ],
   "source": [
    "s = pd.Series(['cat', 'dog', np.nan, 'rabbit'])\n",
    "print(s)\n",
    "# 0      cat\n",
    "# 1      dog\n",
    "# 2      NaN\n",
    "# 3   rabbit\n",
    "# dtype: object\n",
    "\n",
    "# map acepta un dict o una serie. Los valores que no se encuentran en el dict se convierten a NaN, a menos que el dict tenga un valor predeterminado (p.e. defaultdict):\n",
    "print(s.map({'cat': 'kitten', 'dog': 'puppy'}))\n",
    "# 0   kitten\n",
    "# 1    puppy\n",
    "# 2      NaN\n",
    "# 3      NaN\n",
    "# dtype: object\n",
    "\n",
    "# También acepta una función:\n",
    "print(s.map('I am a {}'.format))\n",
    "# 0       I am a cat\n",
    "# 1       I am a dog\n",
    "# 2       I am a nan\n",
    "# 3    I am a rabbit\n",
    "# dtype: object\n",
    "\n",
    "# Para evitar aplicar la función a los valores que faltan (y mantenerlos como NaN) se puede usar na_action='ignore':\n",
    "print(s.map('I am a {}'.format, na_action='ignore'))\n",
    "# 0     I am a cat\n",
    "# 1     I am a dog\n",
    "# 2            NaN\n",
    "# 3  I am a rabbit\n",
    "# dtype: object"
   ]
  }
 ],
 "metadata": {
  "kernelspec": {
   "display_name": "myenv",
   "language": "python",
   "name": "python3"
  },
  "language_info": {
   "codemirror_mode": {
    "name": "ipython",
    "version": 3
   },
   "file_extension": ".py",
   "mimetype": "text/x-python",
   "name": "python",
   "nbconvert_exporter": "python",
   "pygments_lexer": "ipython3",
   "version": "3.11.1"
  },
  "orig_nbformat": 4
 },
 "nbformat": 4,
 "nbformat_minor": 2
}
