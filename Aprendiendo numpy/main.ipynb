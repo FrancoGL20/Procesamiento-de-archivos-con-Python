{
 "cells": [
  {
   "cell_type": "code",
   "execution_count": 2,
   "metadata": {},
   "outputs": [],
   "source": [
    "import numpy as np\n",
    "\n",
    "import pandas as pd"
   ]
  },
  {
   "cell_type": "code",
   "execution_count": 3,
   "metadata": {},
   "outputs": [],
   "source": [
    "index = pd.date_range(\"1/1/2000\", periods=8)\n",
    "\n",
    "s = pd.Series(np.random.randn(5), index=[\"a\", \"b\", \"c\", \"d\", \"e\"])\n",
    "\n",
    "df = pd.DataFrame(np.random.randn(8, 3), index=index, columns=[\"A\", \"B\", \"C\"])"
   ]
  },
  {
   "cell_type": "code",
   "execution_count": 10,
   "metadata": {},
   "outputs": [
    {
     "name": "stdout",
     "output_type": "stream",
     "text": [
      "    A  B\n",
      "0  10  4\n",
      "1   0  4\n",
      "   A  B\n",
      "0  1  3\n",
      "1  8  3\n",
      "   A  B\n",
      "0  1  3\n",
      "1  8  3\n",
      "    A  B\n",
      "0  10  4\n",
      "1   0  4\n"
     ]
    }
   ],
   "source": [
    "# Escoger una columna, la que tiene una mayor o menor suma\n",
    "\n",
    "# funciones lambda\n",
    "toma_menor = lambda s1, s2: s1 if s1.sum() < s2.sum() else s2\n",
    "toma_mayor = lambda s1, s2: s1 if s1.sum() > s2.sum() else s2\n",
    "\n",
    "df1 = pd.DataFrame({'A': [10, 0], 'B': [4, 4]})\n",
    "print(df1)\n",
    "#     A  B\n",
    "# 0  10  4\n",
    "# 1   0  4\n",
    "\n",
    "df2 = pd.DataFrame({'A': [1, 8], 'B': [3, 3]})\n",
    "print(df2)\n",
    "#    A  B\n",
    "# 0  1  3\n",
    "# 1  8  3\n",
    "\n",
    "print(df1.combine(df2, toma_menor))\n",
    "#    A  B\n",
    "# 0  1  3\n",
    "# 1  8  3\n",
    "\n",
    "print(df1.combine(df2, toma_mayor))\n",
    "#     A  B\n",
    "# 0  10  4\n",
    "# 1   0  4"
   ]
  },
  {
   "cell_type": "code",
   "execution_count": 12,
   "metadata": {},
   "outputs": [
    {
     "name": "stdout",
     "output_type": "stream",
     "text": [
      "   A  B\n",
      "0  5  2\n",
      "1  0  4\n",
      "   A  B\n",
      "0  1  3\n",
      "1  1  3\n",
      "   A  B\n",
      "0  1  2\n",
      "1  0  3\n"
     ]
    }
   ],
   "source": [
    "df1 = pd.DataFrame({'A': [5, 0], 'B': [2, 4]})\n",
    "print(df1)\n",
    "#    A  B\n",
    "# 0  5  2\n",
    "# 1  0  4\n",
    "\n",
    "df2 = pd.DataFrame({'A': [1, 1], 'B': [3, 3]})\n",
    "print(df2)\n",
    "#    A  B\n",
    "# 0  1  3\n",
    "\n",
    "print(df1.combine(df2, np.minimum))\n",
    "# 1  1  3\n",
    "#    A  B\n",
    "# 0  1  2\n",
    "# 1  0  3\n"
   ]
  },
  {
   "cell_type": "code",
   "execution_count": 15,
   "metadata": {},
   "outputs": [
    {
     "name": "stdout",
     "output_type": "stream",
     "text": [
      "   A    B\n",
      "0  0  NaN\n",
      "1  0  4.0\n",
      "   A    B\n",
      "0  1  NaN\n",
      "1  1  3.0\n",
      "   A    B\n",
      "0  0 -5.0\n",
      "1  0  3.0\n"
     ]
    }
   ],
   "source": [
    "toma_menor = lambda s1, s2: s1 if s1.sum() < s2.sum() else s2\n",
    "\n",
    "df1 = pd.DataFrame({'A': [0, 0], 'B': [None, 4]})\n",
    "print(df1)\n",
    "#    A    B\n",
    "# 0  0  NaN\n",
    "# 1  0  4.0\n",
    "\n",
    "df2 = pd.DataFrame({'A': [1, 1], 'B': [None, 3]})\n",
    "print(df2)\n",
    "#    A  B\n",
    "# 0  1  3\n",
    "# 1  1  3\n",
    "\n",
    "print(df1.combine(df2, toma_menor, fill_value=-5))\n",
    "#    A    B\n",
    "# 0  0 -5.0\n",
    "# 1  0  4.0"
   ]
  },
  {
   "cell_type": "code",
   "execution_count": 18,
   "metadata": {},
   "outputs": [
    {
     "name": "stdout",
     "output_type": "stream",
     "text": [
      "   A  B\n",
      "0  0  4\n",
      "1  0  4\n",
      "   B   C\n",
      "1  3 -10\n",
      "2  3   1\n",
      "    A    B     C\n",
      "0 NaN  NaN   NaN\n",
      "1 NaN  3.0 -10.0\n",
      "2 NaN  3.0   1.0\n",
      "     A    B     C\n",
      "0  0.0  NaN   NaN\n",
      "1  0.0  3.0 -10.0\n",
      "2  NaN  3.0   1.0\n"
     ]
    }
   ],
   "source": [
    "take_smaller = lambda s1, s2: s1 if s1.sum() < s2.sum() else s2\n",
    "\n",
    "df1 = pd.DataFrame({'A': [0, 0], 'B': [4, 4]})\n",
    "print(df1)\n",
    "#    A  B\n",
    "# 0  0  4\n",
    "# 1  0  4\n",
    "\n",
    "df2 = pd.DataFrame({'B': [3, 3], 'C': [-10, 1], }, index=[1, 2])\n",
    "print(df2)\n",
    "#    B   C\n",
    "# 1  3 -10\n",
    "# 2  3   1\n",
    "\n",
    "# Si el indice de df1 no existe en df2, se rellena con NaN\n",
    "# Solo se aplica la funcion a los indices que existen en ambos dataframes\n",
    "print(df1.combine(df2, take_smaller))\n",
    "#     A    B     C\n",
    "# 0 NaN  NaN   NaN\n",
    "# 1 NaN  3.0 -10.0\n",
    "# 2 NaN  3.0   1.0\n",
    "\n",
    "# Si el indice de df1 no existe en df2, se usa el valor de df1\n",
    "# Solo se aplica la funcion a los indices que existen en ambos dataframes\n",
    "print(df1.combine(df2, take_smaller, overwrite=False))\n",
    "#      A    B     C\n",
    "# 0  0.0  NaN   NaN\n",
    "# 1  0.0  3.0 -10.0\n",
    "# 2  NaN  3.0   1.0"
   ]
  }
 ],
 "metadata": {
  "kernelspec": {
   "display_name": "myenv",
   "language": "python",
   "name": "python3"
  },
  "language_info": {
   "codemirror_mode": {
    "name": "ipython",
    "version": 3
   },
   "file_extension": ".py",
   "mimetype": "text/x-python",
   "name": "python",
   "nbconvert_exporter": "python",
   "pygments_lexer": "ipython3",
   "version": "3.11.5"
  },
  "orig_nbformat": 4
 },
 "nbformat": 4,
 "nbformat_minor": 2
}
