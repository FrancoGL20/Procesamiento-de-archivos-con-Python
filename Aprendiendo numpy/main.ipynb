{
 "cells": [
  {
   "cell_type": "code",
   "execution_count": 1,
   "metadata": {},
   "outputs": [],
   "source": [
    "import numpy as np\n",
    "\n",
    "import pandas as pd"
   ]
  },
  {
   "cell_type": "code",
   "execution_count": 2,
   "metadata": {},
   "outputs": [],
   "source": [
    "index = pd.date_range(\"1/1/2000\", periods=8)\n",
    "\n",
    "s = pd.Series(np.random.randn(5), index=[\"a\", \"b\", \"c\", \"d\", \"e\"])\n",
    "\n",
    "df = pd.DataFrame(np.random.randn(8, 3), index=index, columns=[\"A\", \"B\", \"C\"])"
   ]
  },
  {
   "cell_type": "code",
   "execution_count": 3,
   "metadata": {},
   "outputs": [
    {
     "name": "stdout",
     "output_type": "stream",
     "text": [
      "     A    B\n",
      "0  NaN  NaN\n",
      "1  0.0  4.0\n",
      "   A  B\n",
      "0  1  3\n",
      "1  1  3\n",
      "     A    B\n",
      "0  1.0  3.0\n",
      "1  0.0  4.0\n"
     ]
    }
   ],
   "source": [
    "df1 = pd.DataFrame({'A': [None, 0], 'B': [None, 4]})\n",
    "print(df1)\n",
    "#      A    B\n",
    "# 0  NaN  NaN\n",
    "# 1  0.0  4.0\n",
    "\n",
    "df2 = pd.DataFrame({'A': [1, 1], 'B': [3, 3]})\n",
    "print(df2)\n",
    "#    A  B\n",
    "# 0  1  3\n",
    "# 1  1  3\n",
    "\n",
    "print(df1.combine_first(df2))\n",
    "#      A    B\n",
    "# 0  1.0  3.0\n",
    "# 1  0.0  4.0"
   ]
  },
  {
   "cell_type": "code",
   "execution_count": 4,
   "metadata": {},
   "outputs": [
    {
     "name": "stdout",
     "output_type": "stream",
     "text": [
      "     A    B\n",
      "0  NaN  4.0\n",
      "1  0.0  NaN\n",
      "   B  C\n",
      "1  3  1\n",
      "2  3  1\n",
      "     A    B    C\n",
      "0  NaN  4.0  NaN\n",
      "1  0.0  3.0  1.0\n",
      "2  NaN  3.0  1.0\n"
     ]
    }
   ],
   "source": [
    "df1 = pd.DataFrame({'A': [None, 0], 'B': [4, None]})\n",
    "print(df1)\n",
    "#      A    B\n",
    "# 0  NaN  4.0\n",
    "# 1  0.0  NaN\n",
    "\n",
    "df2 = pd.DataFrame({'B': [3, 3], 'C': [1, 1]}, index=[1, 2])\n",
    "print(df2)\n",
    "#    B  C\n",
    "# 1  3  1\n",
    "# 2  3  1\n",
    "\n",
    "print(df1.combine_first(df2))\n",
    "#      A    B    C\n",
    "# 0  NaN  4.0  NaN\n",
    "# 1  0.0  3.0  1.0\n",
    "# 2  NaN  3.0  1.0"
   ]
  }
 ],
 "metadata": {
  "kernelspec": {
   "display_name": "myenv",
   "language": "python",
   "name": "python3"
  },
  "language_info": {
   "codemirror_mode": {
    "name": "ipython",
    "version": 3
   },
   "file_extension": ".py",
   "mimetype": "text/x-python",
   "name": "python",
   "nbconvert_exporter": "python",
   "pygments_lexer": "ipython3",
   "version": "3.11.1"
  },
  "orig_nbformat": 4
 },
 "nbformat": 4,
 "nbformat_minor": 2
}
