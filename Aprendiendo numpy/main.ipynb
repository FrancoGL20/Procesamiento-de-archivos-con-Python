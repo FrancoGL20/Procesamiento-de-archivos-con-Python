{
 "cells": [
  {
   "cell_type": "code",
   "execution_count": 1,
   "metadata": {},
   "outputs": [],
   "source": [
    "import numpy as np\n",
    "\n",
    "import pandas as pd"
   ]
  },
  {
   "cell_type": "code",
   "execution_count": null,
   "metadata": {},
   "outputs": [],
   "source": [
    "index = pd.date_range(\"1/1/2000\", periods=8)\n",
    "\n",
    "s = pd.Series(np.random.randn(5), index=[\"a\", \"b\", \"c\", \"d\", \"e\"])\n",
    "\n",
    "df = pd.DataFrame(np.random.randn(8, 3), index=index, columns=[\"A\", \"B\", \"C\"])"
   ]
  },
  {
   "cell_type": "code",
   "execution_count": 36,
   "metadata": {},
   "outputs": [
    {
     "name": "stdout",
     "output_type": "stream",
     "text": [
      "0    1.732549\n",
      "1   -0.570570\n",
      "2    0.650139\n",
      "3    1.011893\n",
      "4   -1.398060\n",
      "dtype: float64\n",
      "997    0.708571\n",
      "998    1.729357\n",
      "999   -0.907489\n",
      "dtype: float64\n"
     ]
    }
   ],
   "source": [
    "long_series = pd.Series(np.random.randn(1000))\n",
    "\n",
    "print(long_series.head())\n",
    "# 0   -1.157892\n",
    "# 1   -1.344312\n",
    "# 2    0.844885\n",
    "# 3    1.075770\n",
    "# 4   -0.109050\n",
    "# dtype: float64\n",
    "\n",
    "print(long_series.tail(3))\n",
    "# 997   -0.289388\n",
    "# 998   -1.020544\n",
    "# 999    0.589993\n",
    "# dtype: float64"
   ]
  },
  {
   "cell_type": "code",
   "execution_count": null,
   "metadata": {},
   "outputs": [],
   "source": []
  }
 ],
 "metadata": {
  "kernelspec": {
   "display_name": "myenv",
   "language": "python",
   "name": "python3"
  },
  "language_info": {
   "codemirror_mode": {
    "name": "ipython",
    "version": 3
   },
   "file_extension": ".py",
   "mimetype": "text/x-python",
   "name": "python",
   "nbconvert_exporter": "python",
   "pygments_lexer": "ipython3",
   "version": "3.11.1"
  },
  "orig_nbformat": 4
 },
 "nbformat": 4,
 "nbformat_minor": 2
}
